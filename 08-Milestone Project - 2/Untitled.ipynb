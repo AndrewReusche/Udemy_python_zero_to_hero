{
 "cells": [
  {
   "cell_type": "code",
   "execution_count": 21,
   "id": "01b287d6",
   "metadata": {},
   "outputs": [],
   "source": [
    "def nb_year(p0, percent, aug, p):\n",
    "    years = 0\n",
    "    \n",
    "    while p0 < p:\n",
    "        years += 1\n",
    "        p0 = p0*(1+(percent*.002))+aug\n",
    "        print(p0)\n",
    "        print(years)\n",
    "    return years\n",
    "     "
   ]
  },
  {
   "cell_type": "code",
   "execution_count": 22,
   "id": "d102fa09",
   "metadata": {},
   "outputs": [
    {
     "name": "stdout",
     "output_type": "stream",
     "text": [
      "1054.0\n",
      "1\n",
      "1108.216\n",
      "2\n",
      "1162.648864\n",
      "3\n",
      "1217.299459456\n",
      "4\n"
     ]
    },
    {
     "data": {
      "text/plain": [
       "4"
      ]
     },
     "execution_count": 22,
     "metadata": {},
     "output_type": "execute_result"
    }
   ],
   "source": [
    "nb_year(1000,2,50,1200)"
   ]
  },
  {
   "cell_type": "code",
   "execution_count": null,
   "id": "75865a7b",
   "metadata": {},
   "outputs": [],
   "source": []
  }
 ],
 "metadata": {
  "kernelspec": {
   "display_name": "Python 3 (ipykernel)",
   "language": "python",
   "name": "python3"
  },
  "language_info": {
   "codemirror_mode": {
    "name": "ipython",
    "version": 3
   },
   "file_extension": ".py",
   "mimetype": "text/x-python",
   "name": "python",
   "nbconvert_exporter": "python",
   "pygments_lexer": "ipython3",
   "version": "3.9.7"
  }
 },
 "nbformat": 4,
 "nbformat_minor": 5
}
