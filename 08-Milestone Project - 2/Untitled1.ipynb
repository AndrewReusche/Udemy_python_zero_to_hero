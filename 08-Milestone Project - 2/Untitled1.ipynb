{
 "cells": [
  {
   "cell_type": "code",
   "execution_count": 26,
   "id": "ea6fccec",
   "metadata": {},
   "outputs": [],
   "source": [
    "def accum(s):\n",
    "    num = 0\n",
    "    l1 = list(s)\n",
    "    l2 = []    \n",
    "    for x in l1:\n",
    "        num += 1\n",
    "        x =x*num\n",
    "        l2.append(x.capitalize())\n",
    "    \n",
    "    l2 = '-'.join(l2)\n",
    "    return l2"
   ]
  },
  {
   "cell_type": "code",
   "execution_count": 27,
   "id": "e7c90765",
   "metadata": {},
   "outputs": [
    {
     "data": {
      "text/plain": [
       "'A-Bb-Ccc-Dddd'"
      ]
     },
     "execution_count": 27,
     "metadata": {},
     "output_type": "execute_result"
    }
   ],
   "source": [
    "accum(\"abcd\")"
   ]
  },
  {
   "cell_type": "code",
   "execution_count": 32,
   "id": "f652080b",
   "metadata": {},
   "outputs": [],
   "source": [
    "def accum(s):\n",
    "    return '-'.join((c * (i+1)).capitalize() for i, c in enumerate(s))"
   ]
  },
  {
   "cell_type": "code",
   "execution_count": 33,
   "id": "ac952641",
   "metadata": {},
   "outputs": [
    {
     "data": {
      "text/plain": [
       "'A-Bb-Ccc-Dddd'"
      ]
     },
     "execution_count": 33,
     "metadata": {},
     "output_type": "execute_result"
    }
   ],
   "source": [
    "accum(\"abcd\")"
   ]
  },
  {
   "cell_type": "code",
   "execution_count": null,
   "id": "3d2468ae",
   "metadata": {},
   "outputs": [],
   "source": []
  }
 ],
 "metadata": {
  "kernelspec": {
   "display_name": "Python 3 (ipykernel)",
   "language": "python",
   "name": "python3"
  },
  "language_info": {
   "codemirror_mode": {
    "name": "ipython",
    "version": 3
   },
   "file_extension": ".py",
   "mimetype": "text/x-python",
   "name": "python",
   "nbconvert_exporter": "python",
   "pygments_lexer": "ipython3",
   "version": "3.9.7"
  }
 },
 "nbformat": 4,
 "nbformat_minor": 5
}
