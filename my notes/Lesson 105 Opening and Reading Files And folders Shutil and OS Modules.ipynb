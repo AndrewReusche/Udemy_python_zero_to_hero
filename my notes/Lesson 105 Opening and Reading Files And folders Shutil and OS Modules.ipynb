{
 "cells": [
  {
   "cell_type": "code",
   "execution_count": 4,
   "id": "41d12a69",
   "metadata": {},
   "outputs": [],
   "source": [
    "#current working directory \n"
   ]
  },
  {
   "cell_type": "code",
   "execution_count": 3,
   "id": "207a38f8",
   "metadata": {},
   "outputs": [
    {
     "data": {
      "text/plain": [
       "'C:\\\\Users\\\\areus\\\\Desktop\\\\coding_folder\\\\Udemy_python_zero_to_hero\\\\my notes'"
      ]
     },
     "execution_count": 3,
     "metadata": {},
     "output_type": "execute_result"
    }
   ],
   "source": [
    "pwd"
   ]
  },
  {
   "cell_type": "code",
   "execution_count": 6,
   "id": "11631458",
   "metadata": {},
   "outputs": [],
   "source": [
    "f = open('practice.txt', 'w+')\n",
    "f.write(\"This is a test string\")\n",
    "f.close()"
   ]
  },
  {
   "cell_type": "code",
   "execution_count": 7,
   "id": "fb6e727a",
   "metadata": {},
   "outputs": [],
   "source": [
    "import os\n"
   ]
  },
  {
   "cell_type": "code",
   "execution_count": 8,
   "id": "c64bd4d8",
   "metadata": {},
   "outputs": [
    {
     "data": {
      "text/plain": [
       "'C:\\\\Users\\\\areus\\\\Desktop\\\\coding_folder\\\\Udemy_python_zero_to_hero\\\\my notes'"
      ]
     },
     "execution_count": 8,
     "metadata": {},
     "output_type": "execute_result"
    }
   ],
   "source": [
    "os.getcwd()"
   ]
  },
  {
   "cell_type": "raw",
   "id": "af280233",
   "metadata": {},
   "source": [
    "os.listdir()"
   ]
  },
  {
   "cell_type": "code",
   "execution_count": 9,
   "id": "4bf88f44",
   "metadata": {},
   "outputs": [
    {
     "data": {
      "text/plain": [
       "['.ipynb_checkpoints',\n",
       " 'function 10 skyline problem.ipynb',\n",
       " 'Guessing Game Challenge project.ipynb',\n",
       " 'Lesosn 61 Accepting user input.ipynb',\n",
       " 'Lesson 100 Generators with Python .ipynb',\n",
       " 'Lesson 104 Python Collections module.ipynb',\n",
       " 'Lesson 105 Opening and Reading Files And folders Shutil and OS Modules.ipynb',\n",
       " 'Lesson 19 Print Formatting with Strings.ipynb',\n",
       " 'Lesson 21 lists in python.ipynb',\n",
       " 'lesson 23 dictionaries in python.ipynb',\n",
       " 'Lesson 25 tuples.ipynb',\n",
       " 'lesson 26 sets in python.ipynb',\n",
       " 'lesson 27 booleans in python.ipynb',\n",
       " 'Lesson 28 IO basic files in python.ipynb',\n",
       " 'Lesson 34 if elif and else statements.ipynb',\n",
       " 'Lesson 34 while loops in python.ipynb',\n",
       " 'lesson 35 for loops in python.ipynb',\n",
       " 'Lesson 38 List Comprehension in Python.ipynb',\n",
       " 'Lesson 39 Python Statements test.ipynb',\n",
       " 'Lesson 41 Methods and Python Documentation.ipynb',\n",
       " 'Lesson 42 Introduction to functions.ipynb',\n",
       " 'Lesson 43 def keyword.ipynb',\n",
       " 'Lesson 44 Basics of Python Functions.ipynb',\n",
       " \"Lesson 45 Logic With Python Functions'.ipynb\",\n",
       " 'Lesson 46 Tuple Unpacking with Python Functions.ipynb',\n",
       " 'Lesson 47 Interactions between functions.ipynb',\n",
       " 'Lesson 49 star args and double star kwargs in Python.ipynb',\n",
       " 'Lesson 50 Function practice exercises.ipynb',\n",
       " 'lesson 55 lambda, expressions, map, and filter functions.ipynb',\n",
       " 'Lesson 56 Nested Statements and Scope .ipynb',\n",
       " 'Lesson 57 Functions and Methods HW Overview .ipynb',\n",
       " 'Lesson 58 Methods and functions HW.ipynb',\n",
       " 'lesson 59 intro to warm up project exercises.ipynb',\n",
       " 'Lesson 60 displaying info.ipynb',\n",
       " 'Lesson 62 Validating User Input.ipynb',\n",
       " 'lesson 63 real simple user interaction.ipynb',\n",
       " 'Lesson 63 simple user interaction v2.ipynb',\n",
       " 'lesson 63 simple user interaction.ipynb',\n",
       " 'Lesson 64 First Milestone Project Overview.ipynb',\n",
       " 'Lesson 68 object oriented programming intro .ipynb',\n",
       " 'lesson 70 Object Oriented Programming Class Object Attributes and Methods.ipynb',\n",
       " 'lesson 72 Object Oriented Programming Special Magic Dunder Methods.ipynb',\n",
       " 'Lesson 73 Object Oriented Programming Homework.ipynb',\n",
       " 'Lesson 76 Object Oriented programming challenge .ipynb',\n",
       " 'Lesson 77 Pip install and PYPI.ipynb',\n",
       " 'Lesson 78 Modules and Packages.ipynb',\n",
       " 'Lesson 79 __name __   and    __main__.ipynb',\n",
       " 'Lesson 80 Errors and Exception Handling .ipynb',\n",
       " 'Lesson 84 Pylint Overview.ipynb',\n",
       " 'Lesson 85 Running tests with the unittest library .ipynb',\n",
       " 'Lesson 86 Introduction to Milestone Project 2 Section Warmup.ipynb',\n",
       " 'Lesson 88 Deck Class-Copy1.ipynb',\n",
       " 'Lesson 88 Deck Class.ipynb',\n",
       " 'Lesson 89 Player Class-Copy1.ipynb',\n",
       " 'Lesson 89 Player Class.ipynb',\n",
       " 'Lesson 90 Game logic Part 1.ipynb',\n",
       " 'Lesson 91 Game Logic Part 2.ipynb',\n",
       " 'Lesson 92 game logic part 3.ipynb',\n",
       " 'Lesson 93 Milestone Project 2 Overview.ipynb',\n",
       " 'Lesson 98 Decorators with Python Overview .ipynb',\n",
       " 'practice.txt',\n",
       " 'testfile',\n",
       " 'Untitled.ipynb',\n",
       " 'untitled.txt',\n",
       " 'Untitled1.ipynb',\n",
       " 'Untitled2.ipynb',\n",
       " 'Video 17 String properties and methods.ipynb']"
      ]
     },
     "execution_count": 9,
     "metadata": {},
     "output_type": "execute_result"
    }
   ],
   "source": [
    "os.listdir()"
   ]
  },
  {
   "cell_type": "code",
   "execution_count": 11,
   "id": "18f5bd67",
   "metadata": {},
   "outputs": [
    {
     "data": {
      "text/plain": [
       "['All Users', 'areus', 'Default', 'Default User', 'desktop.ini', 'Public']"
      ]
     },
     "execution_count": 11,
     "metadata": {},
     "output_type": "execute_result"
    }
   ],
   "source": [
    "os.listdir('C:\\\\Users')"
   ]
  },
  {
   "cell_type": "code",
   "execution_count": 12,
   "id": "078485da",
   "metadata": {},
   "outputs": [],
   "source": [
    "import shutil"
   ]
  },
  {
   "cell_type": "code",
   "execution_count": 13,
   "id": "7dc2d199",
   "metadata": {},
   "outputs": [
    {
     "data": {
      "text/plain": [
       "'C:\\\\Users\\\\areus\\\\Desktop\\\\coding_folder\\\\Udemy_python_zero_to_hero\\\\practice.txt.'"
      ]
     },
     "execution_count": 13,
     "metadata": {},
     "output_type": "execute_result"
    }
   ],
   "source": [
    "shutil.move('practice.txt.','C:\\\\Users\\\\areus\\\\Desktop\\\\coding_folder\\\\Udemy_python_zero_to_hero' )"
   ]
  },
  {
   "cell_type": "code",
   "execution_count": 14,
   "id": "78905948",
   "metadata": {},
   "outputs": [
    {
     "data": {
      "text/plain": [
       "['.git',\n",
       " '00-Python Object and Data Structure Basics',\n",
       " '01-Python Comparison Operators',\n",
       " '02-Python Statements',\n",
       " '03-Methods and Functions',\n",
       " '04-Milestone Project - 1',\n",
       " '05-Object Oriented Programming',\n",
       " '06-Modules and Packages',\n",
       " '07-Errors and Exception Handling',\n",
       " '08-Milestone Project - 2',\n",
       " '09-Empty-Section-Skip',\n",
       " '10-Python Decorators',\n",
       " '11-Python Generators',\n",
       " '12-Advanced Python Modules',\n",
       " '13-Web-Scraping',\n",
       " '14-Working-with-Images',\n",
       " '15-PDFs-and-Spreadsheets',\n",
       " '16-Emailing-with-Python',\n",
       " '17-Advanced Python Objects and Data Structures',\n",
       " '18-Milestone Project - 3',\n",
       " '19-Bonus Material - Introduction to GUIs',\n",
       " 'Jupyter (iPython) Notebooks Guide.ipynb',\n",
       " 'my notes',\n",
       " 'practice.txt',\n",
       " 'README.md']"
      ]
     },
     "execution_count": 14,
     "metadata": {},
     "output_type": "execute_result"
    }
   ],
   "source": [
    "os.listdir('C:\\\\Users\\\\areus\\\\Desktop\\\\coding_folder\\\\Udemy_python_zero_to_hero')"
   ]
  },
  {
   "cell_type": "code",
   "execution_count": 15,
   "id": "3f798d37",
   "metadata": {},
   "outputs": [
    {
     "name": "stdout",
     "output_type": "stream",
     "text": [
      "Requirement already satisfied: send2trash in c:\\users\\areus\\anaconda3\\lib\\site-packages (1.8.0)\n",
      "Note: you may need to restart the kernel to use updated packages.\n"
     ]
    }
   ],
   "source": [
    "pip install send2trash"
   ]
  },
  {
   "cell_type": "code",
   "execution_count": 17,
   "id": "20a1a7ab",
   "metadata": {},
   "outputs": [],
   "source": [
    "import send2trash"
   ]
  },
  {
   "cell_type": "code",
   "execution_count": 18,
   "id": "917ef173",
   "metadata": {},
   "outputs": [
    {
     "data": {
      "text/plain": [
       "['.ipynb_checkpoints',\n",
       " 'function 10 skyline problem.ipynb',\n",
       " 'Guessing Game Challenge project.ipynb',\n",
       " 'Lesosn 61 Accepting user input.ipynb',\n",
       " 'Lesson 100 Generators with Python .ipynb',\n",
       " 'Lesson 104 Python Collections module.ipynb',\n",
       " 'Lesson 105 Opening and Reading Files And folders Shutil and OS Modules.ipynb',\n",
       " 'Lesson 19 Print Formatting with Strings.ipynb',\n",
       " 'Lesson 21 lists in python.ipynb',\n",
       " 'lesson 23 dictionaries in python.ipynb',\n",
       " 'Lesson 25 tuples.ipynb',\n",
       " 'lesson 26 sets in python.ipynb',\n",
       " 'lesson 27 booleans in python.ipynb',\n",
       " 'Lesson 28 IO basic files in python.ipynb',\n",
       " 'Lesson 34 if elif and else statements.ipynb',\n",
       " 'Lesson 34 while loops in python.ipynb',\n",
       " 'lesson 35 for loops in python.ipynb',\n",
       " 'Lesson 38 List Comprehension in Python.ipynb',\n",
       " 'Lesson 39 Python Statements test.ipynb',\n",
       " 'Lesson 41 Methods and Python Documentation.ipynb',\n",
       " 'Lesson 42 Introduction to functions.ipynb',\n",
       " 'Lesson 43 def keyword.ipynb',\n",
       " 'Lesson 44 Basics of Python Functions.ipynb',\n",
       " \"Lesson 45 Logic With Python Functions'.ipynb\",\n",
       " 'Lesson 46 Tuple Unpacking with Python Functions.ipynb',\n",
       " 'Lesson 47 Interactions between functions.ipynb',\n",
       " 'Lesson 49 star args and double star kwargs in Python.ipynb',\n",
       " 'Lesson 50 Function practice exercises.ipynb',\n",
       " 'lesson 55 lambda, expressions, map, and filter functions.ipynb',\n",
       " 'Lesson 56 Nested Statements and Scope .ipynb',\n",
       " 'Lesson 57 Functions and Methods HW Overview .ipynb',\n",
       " 'Lesson 58 Methods and functions HW.ipynb',\n",
       " 'lesson 59 intro to warm up project exercises.ipynb',\n",
       " 'Lesson 60 displaying info.ipynb',\n",
       " 'Lesson 62 Validating User Input.ipynb',\n",
       " 'lesson 63 real simple user interaction.ipynb',\n",
       " 'Lesson 63 simple user interaction v2.ipynb',\n",
       " 'lesson 63 simple user interaction.ipynb',\n",
       " 'Lesson 64 First Milestone Project Overview.ipynb',\n",
       " 'Lesson 68 object oriented programming intro .ipynb',\n",
       " 'lesson 70 Object Oriented Programming Class Object Attributes and Methods.ipynb',\n",
       " 'lesson 72 Object Oriented Programming Special Magic Dunder Methods.ipynb',\n",
       " 'Lesson 73 Object Oriented Programming Homework.ipynb',\n",
       " 'Lesson 76 Object Oriented programming challenge .ipynb',\n",
       " 'Lesson 77 Pip install and PYPI.ipynb',\n",
       " 'Lesson 78 Modules and Packages.ipynb',\n",
       " 'Lesson 79 __name __   and    __main__.ipynb',\n",
       " 'Lesson 80 Errors and Exception Handling .ipynb',\n",
       " 'Lesson 84 Pylint Overview.ipynb',\n",
       " 'Lesson 85 Running tests with the unittest library .ipynb',\n",
       " 'Lesson 86 Introduction to Milestone Project 2 Section Warmup.ipynb',\n",
       " 'Lesson 88 Deck Class-Copy1.ipynb',\n",
       " 'Lesson 88 Deck Class.ipynb',\n",
       " 'Lesson 89 Player Class-Copy1.ipynb',\n",
       " 'Lesson 89 Player Class.ipynb',\n",
       " 'Lesson 90 Game logic Part 1.ipynb',\n",
       " 'Lesson 91 Game Logic Part 2.ipynb',\n",
       " 'Lesson 92 game logic part 3.ipynb',\n",
       " 'Lesson 93 Milestone Project 2 Overview.ipynb',\n",
       " 'Lesson 98 Decorators with Python Overview .ipynb',\n",
       " 'testfile',\n",
       " 'Untitled.ipynb',\n",
       " 'untitled.txt',\n",
       " 'Untitled1.ipynb',\n",
       " 'Untitled2.ipynb',\n",
       " 'Video 17 String properties and methods.ipynb']"
      ]
     },
     "execution_count": 18,
     "metadata": {},
     "output_type": "execute_result"
    }
   ],
   "source": [
    "os.listdir()"
   ]
  },
  {
   "cell_type": "code",
   "execution_count": 19,
   "id": "4219cb74",
   "metadata": {},
   "outputs": [
    {
     "data": {
      "text/plain": [
       "'C:\\\\Users\\\\areus\\\\Desktop\\\\coding_folder\\\\Udemy_python_zero_to_hero\\\\my notes\\\\practice.txt.'"
      ]
     },
     "execution_count": 19,
     "metadata": {},
     "output_type": "execute_result"
    }
   ],
   "source": [
    "shutil.move('C:\\\\Users\\\\areus\\\\Desktop\\\\coding_folder\\\\Udemy_python_zero_to_hero\\\\practice.txt.', os.getcwd())"
   ]
  },
  {
   "cell_type": "code",
   "execution_count": 20,
   "id": "171b4b3a",
   "metadata": {},
   "outputs": [
    {
     "data": {
      "text/plain": [
       "['.ipynb_checkpoints',\n",
       " 'function 10 skyline problem.ipynb',\n",
       " 'Guessing Game Challenge project.ipynb',\n",
       " 'Lesosn 61 Accepting user input.ipynb',\n",
       " 'Lesson 100 Generators with Python .ipynb',\n",
       " 'Lesson 104 Python Collections module.ipynb',\n",
       " 'Lesson 105 Opening and Reading Files And folders Shutil and OS Modules.ipynb',\n",
       " 'Lesson 19 Print Formatting with Strings.ipynb',\n",
       " 'Lesson 21 lists in python.ipynb',\n",
       " 'lesson 23 dictionaries in python.ipynb',\n",
       " 'Lesson 25 tuples.ipynb',\n",
       " 'lesson 26 sets in python.ipynb',\n",
       " 'lesson 27 booleans in python.ipynb',\n",
       " 'Lesson 28 IO basic files in python.ipynb',\n",
       " 'Lesson 34 if elif and else statements.ipynb',\n",
       " 'Lesson 34 while loops in python.ipynb',\n",
       " 'lesson 35 for loops in python.ipynb',\n",
       " 'Lesson 38 List Comprehension in Python.ipynb',\n",
       " 'Lesson 39 Python Statements test.ipynb',\n",
       " 'Lesson 41 Methods and Python Documentation.ipynb',\n",
       " 'Lesson 42 Introduction to functions.ipynb',\n",
       " 'Lesson 43 def keyword.ipynb',\n",
       " 'Lesson 44 Basics of Python Functions.ipynb',\n",
       " \"Lesson 45 Logic With Python Functions'.ipynb\",\n",
       " 'Lesson 46 Tuple Unpacking with Python Functions.ipynb',\n",
       " 'Lesson 47 Interactions between functions.ipynb',\n",
       " 'Lesson 49 star args and double star kwargs in Python.ipynb',\n",
       " 'Lesson 50 Function practice exercises.ipynb',\n",
       " 'lesson 55 lambda, expressions, map, and filter functions.ipynb',\n",
       " 'Lesson 56 Nested Statements and Scope .ipynb',\n",
       " 'Lesson 57 Functions and Methods HW Overview .ipynb',\n",
       " 'Lesson 58 Methods and functions HW.ipynb',\n",
       " 'lesson 59 intro to warm up project exercises.ipynb',\n",
       " 'Lesson 60 displaying info.ipynb',\n",
       " 'Lesson 62 Validating User Input.ipynb',\n",
       " 'lesson 63 real simple user interaction.ipynb',\n",
       " 'Lesson 63 simple user interaction v2.ipynb',\n",
       " 'lesson 63 simple user interaction.ipynb',\n",
       " 'Lesson 64 First Milestone Project Overview.ipynb',\n",
       " 'Lesson 68 object oriented programming intro .ipynb',\n",
       " 'lesson 70 Object Oriented Programming Class Object Attributes and Methods.ipynb',\n",
       " 'lesson 72 Object Oriented Programming Special Magic Dunder Methods.ipynb',\n",
       " 'Lesson 73 Object Oriented Programming Homework.ipynb',\n",
       " 'Lesson 76 Object Oriented programming challenge .ipynb',\n",
       " 'Lesson 77 Pip install and PYPI.ipynb',\n",
       " 'Lesson 78 Modules and Packages.ipynb',\n",
       " 'Lesson 79 __name __   and    __main__.ipynb',\n",
       " 'Lesson 80 Errors and Exception Handling .ipynb',\n",
       " 'Lesson 84 Pylint Overview.ipynb',\n",
       " 'Lesson 85 Running tests with the unittest library .ipynb',\n",
       " 'Lesson 86 Introduction to Milestone Project 2 Section Warmup.ipynb',\n",
       " 'Lesson 88 Deck Class-Copy1.ipynb',\n",
       " 'Lesson 88 Deck Class.ipynb',\n",
       " 'Lesson 89 Player Class-Copy1.ipynb',\n",
       " 'Lesson 89 Player Class.ipynb',\n",
       " 'Lesson 90 Game logic Part 1.ipynb',\n",
       " 'Lesson 91 Game Logic Part 2.ipynb',\n",
       " 'Lesson 92 game logic part 3.ipynb',\n",
       " 'Lesson 93 Milestone Project 2 Overview.ipynb',\n",
       " 'Lesson 98 Decorators with Python Overview .ipynb',\n",
       " 'practice.txt',\n",
       " 'testfile',\n",
       " 'Untitled.ipynb',\n",
       " 'untitled.txt',\n",
       " 'Untitled1.ipynb',\n",
       " 'Untitled2.ipynb',\n",
       " 'Video 17 String properties and methods.ipynb']"
      ]
     },
     "execution_count": 20,
     "metadata": {},
     "output_type": "execute_result"
    }
   ],
   "source": [
    "os.listdir()"
   ]
  },
  {
   "cell_type": "code",
   "execution_count": 21,
   "id": "02d4a0f8",
   "metadata": {},
   "outputs": [],
   "source": [
    "send2trash.send2trash('practice.txt')"
   ]
  },
  {
   "cell_type": "code",
   "execution_count": 22,
   "id": "37448d61",
   "metadata": {},
   "outputs": [
    {
     "data": {
      "text/plain": [
       "['.ipynb_checkpoints',\n",
       " 'function 10 skyline problem.ipynb',\n",
       " 'Guessing Game Challenge project.ipynb',\n",
       " 'Lesosn 61 Accepting user input.ipynb',\n",
       " 'Lesson 100 Generators with Python .ipynb',\n",
       " 'Lesson 104 Python Collections module.ipynb',\n",
       " 'Lesson 105 Opening and Reading Files And folders Shutil and OS Modules.ipynb',\n",
       " 'Lesson 19 Print Formatting with Strings.ipynb',\n",
       " 'Lesson 21 lists in python.ipynb',\n",
       " 'lesson 23 dictionaries in python.ipynb',\n",
       " 'Lesson 25 tuples.ipynb',\n",
       " 'lesson 26 sets in python.ipynb',\n",
       " 'lesson 27 booleans in python.ipynb',\n",
       " 'Lesson 28 IO basic files in python.ipynb',\n",
       " 'Lesson 34 if elif and else statements.ipynb',\n",
       " 'Lesson 34 while loops in python.ipynb',\n",
       " 'lesson 35 for loops in python.ipynb',\n",
       " 'Lesson 38 List Comprehension in Python.ipynb',\n",
       " 'Lesson 39 Python Statements test.ipynb',\n",
       " 'Lesson 41 Methods and Python Documentation.ipynb',\n",
       " 'Lesson 42 Introduction to functions.ipynb',\n",
       " 'Lesson 43 def keyword.ipynb',\n",
       " 'Lesson 44 Basics of Python Functions.ipynb',\n",
       " \"Lesson 45 Logic With Python Functions'.ipynb\",\n",
       " 'Lesson 46 Tuple Unpacking with Python Functions.ipynb',\n",
       " 'Lesson 47 Interactions between functions.ipynb',\n",
       " 'Lesson 49 star args and double star kwargs in Python.ipynb',\n",
       " 'Lesson 50 Function practice exercises.ipynb',\n",
       " 'lesson 55 lambda, expressions, map, and filter functions.ipynb',\n",
       " 'Lesson 56 Nested Statements and Scope .ipynb',\n",
       " 'Lesson 57 Functions and Methods HW Overview .ipynb',\n",
       " 'Lesson 58 Methods and functions HW.ipynb',\n",
       " 'lesson 59 intro to warm up project exercises.ipynb',\n",
       " 'Lesson 60 displaying info.ipynb',\n",
       " 'Lesson 62 Validating User Input.ipynb',\n",
       " 'lesson 63 real simple user interaction.ipynb',\n",
       " 'Lesson 63 simple user interaction v2.ipynb',\n",
       " 'lesson 63 simple user interaction.ipynb',\n",
       " 'Lesson 64 First Milestone Project Overview.ipynb',\n",
       " 'Lesson 68 object oriented programming intro .ipynb',\n",
       " 'lesson 70 Object Oriented Programming Class Object Attributes and Methods.ipynb',\n",
       " 'lesson 72 Object Oriented Programming Special Magic Dunder Methods.ipynb',\n",
       " 'Lesson 73 Object Oriented Programming Homework.ipynb',\n",
       " 'Lesson 76 Object Oriented programming challenge .ipynb',\n",
       " 'Lesson 77 Pip install and PYPI.ipynb',\n",
       " 'Lesson 78 Modules and Packages.ipynb',\n",
       " 'Lesson 79 __name __   and    __main__.ipynb',\n",
       " 'Lesson 80 Errors and Exception Handling .ipynb',\n",
       " 'Lesson 84 Pylint Overview.ipynb',\n",
       " 'Lesson 85 Running tests with the unittest library .ipynb',\n",
       " 'Lesson 86 Introduction to Milestone Project 2 Section Warmup.ipynb',\n",
       " 'Lesson 88 Deck Class-Copy1.ipynb',\n",
       " 'Lesson 88 Deck Class.ipynb',\n",
       " 'Lesson 89 Player Class-Copy1.ipynb',\n",
       " 'Lesson 89 Player Class.ipynb',\n",
       " 'Lesson 90 Game logic Part 1.ipynb',\n",
       " 'Lesson 91 Game Logic Part 2.ipynb',\n",
       " 'Lesson 92 game logic part 3.ipynb',\n",
       " 'Lesson 93 Milestone Project 2 Overview.ipynb',\n",
       " 'Lesson 98 Decorators with Python Overview .ipynb',\n",
       " 'testfile',\n",
       " 'Untitled.ipynb',\n",
       " 'untitled.txt',\n",
       " 'Untitled1.ipynb',\n",
       " 'Untitled2.ipynb',\n",
       " 'Video 17 String properties and methods.ipynb']"
      ]
     },
     "execution_count": 22,
     "metadata": {},
     "output_type": "execute_result"
    }
   ],
   "source": [
    "os.listdir()"
   ]
  },
  {
   "cell_type": "code",
   "execution_count": null,
   "id": "480dbb23",
   "metadata": {},
   "outputs": [],
   "source": [
    "for folder, sub_folders, files in os.walk"
   ]
  }
 ],
 "metadata": {
  "kernelspec": {
   "display_name": "Python 3 (ipykernel)",
   "language": "python",
   "name": "python3"
  },
  "language_info": {
   "codemirror_mode": {
    "name": "ipython",
    "version": 3
   },
   "file_extension": ".py",
   "mimetype": "text/x-python",
   "name": "python",
   "nbconvert_exporter": "python",
   "pygments_lexer": "ipython3",
   "version": "3.9.7"
  }
 },
 "nbformat": 4,
 "nbformat_minor": 5
}
