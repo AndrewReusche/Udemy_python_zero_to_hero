{
 "cells": [
  {
   "cell_type": "code",
   "execution_count": 1,
   "id": "668b9126",
   "metadata": {},
   "outputs": [],
   "source": [
    "#variable names are stored in the namespace\n"
   ]
  },
  {
   "cell_type": "code",
   "execution_count": 5,
   "id": "ed378f57",
   "metadata": {},
   "outputs": [],
   "source": [
    "x=25\n",
    "\n",
    "def printer():\n",
    "    x=50\n",
    "    return x"
   ]
  },
  {
   "cell_type": "code",
   "execution_count": 6,
   "id": "b7f77b9d",
   "metadata": {},
   "outputs": [
    {
     "name": "stdout",
     "output_type": "stream",
     "text": [
      "25\n"
     ]
    }
   ],
   "source": [
    "print(x)"
   ]
  },
  {
   "cell_type": "code",
   "execution_count": 7,
   "id": "3ca6a177",
   "metadata": {},
   "outputs": [
    {
     "name": "stdout",
     "output_type": "stream",
     "text": [
      "50\n"
     ]
    }
   ],
   "source": [
    "print(printer())"
   ]
  },
  {
   "cell_type": "code",
   "execution_count": 9,
   "id": "f4f75e5a",
   "metadata": {},
   "outputs": [
    {
     "name": "stdout",
     "output_type": "stream",
     "text": [
      "25\n"
     ]
    }
   ],
   "source": [
    "print(x)"
   ]
  },
  {
   "cell_type": "code",
   "execution_count": 10,
   "id": "fdfb5c20",
   "metadata": {},
   "outputs": [],
   "source": [
    "#LEGB rule format \n",
    "#Local, Enclosing function locals, Global, Built in "
   ]
  },
  {
   "cell_type": "code",
   "execution_count": 11,
   "id": "16714e79",
   "metadata": {},
   "outputs": [],
   "source": [
    "#Local: names assigned in any way within a function (def of lambda) and not declared global in that function "
   ]
  },
  {
   "cell_type": "code",
   "execution_count": 12,
   "id": "4bb2734e",
   "metadata": {},
   "outputs": [],
   "source": [
    "#enclosing function locals: names in a local scope of any and all enclosing functions (def or lambda) from inner or outer "
   ]
  },
  {
   "cell_type": "code",
   "execution_count": 13,
   "id": "34fae4a5",
   "metadata": {},
   "outputs": [],
   "source": [
    "#global: names assigned at thew top level of a module file, or declared global in a def within the file "
   ]
  },
  {
   "cell_type": "code",
   "execution_count": 14,
   "id": "ddcee752",
   "metadata": {},
   "outputs": [],
   "source": [
    "#built-in (python) - names preassigned in the built-in names module: open, range, snytaxError"
   ]
  },
  {
   "cell_type": "code",
   "execution_count": 16,
   "id": "ba5ecb4b",
   "metadata": {},
   "outputs": [
    {
     "data": {
      "text/plain": [
       "<function __main__.<lambda>(num)>"
      ]
     },
     "execution_count": 16,
     "metadata": {},
     "output_type": "execute_result"
    }
   ],
   "source": [
    "lambda num:num**2\n",
    "\n",
    "here num is locaL"
   ]
  },
  {
   "cell_type": "code",
   "execution_count": 19,
   "id": "ef939184",
   "metadata": {},
   "outputs": [
    {
     "name": "stdout",
     "output_type": "stream",
     "text": [
      "HelloSammy\n"
     ]
    }
   ],
   "source": [
    "name='ThiS IS A GLOBAL STIRING'\n",
    "\n",
    "def greet():\n",
    "    name ='Sammy'\n",
    "    \n",
    "    def hello():\n",
    "        print('Hello'+name)\n",
    "        \n",
    "    hello()\n",
    "    \n",
    "greet()"
   ]
  },
  {
   "cell_type": "code",
   "execution_count": 20,
   "id": "11105ad4",
   "metadata": {},
   "outputs": [
    {
     "name": "stdout",
     "output_type": "stream",
     "text": [
      "HelloThiS IS A GLOBAL STIRING\n"
     ]
    }
   ],
   "source": [
    "name='ThiS IS A GLOBAL STIRING'\n",
    "\n",
    "def greet():\n",
    "    \n",
    "    \n",
    "    def hello():\n",
    "        print('Hello'+name)\n",
    "        \n",
    "    hello()\n",
    "    \n",
    "greet()"
   ]
  },
  {
   "cell_type": "code",
   "execution_count": 21,
   "id": "9c4ba9a7",
   "metadata": {},
   "outputs": [
    {
     "name": "stdout",
     "output_type": "stream",
     "text": [
      "Helloim a local\n"
     ]
    }
   ],
   "source": [
    "#global\n",
    "name='ThiS IS A GLOBAL STIRING'\n",
    "\n",
    "def greet():\n",
    "    #enclosing\n",
    "    name ='Sammy'\n",
    "    \n",
    "    def hello():\n",
    "        #local\n",
    "        name='im a local'\n",
    "        print('Hello'+name)\n",
    "        \n",
    "    hello()\n",
    "    \n",
    "greet()"
   ]
  },
  {
   "cell_type": "code",
   "execution_count": 22,
   "id": "89f6318a",
   "metadata": {},
   "outputs": [
    {
     "data": {
      "text/plain": [
       "<function len(obj, /)>"
      ]
     },
     "execution_count": 22,
     "metadata": {},
     "output_type": "execute_result"
    }
   ],
   "source": [
    "#built in function \n",
    "len\n"
   ]
  },
  {
   "cell_type": "code",
   "execution_count": 25,
   "id": "5abe3457",
   "metadata": {},
   "outputs": [],
   "source": [
    "x = 50\n",
    "def func(x):\n",
    "    print(f'X is {x}')"
   ]
  },
  {
   "cell_type": "code",
   "execution_count": 26,
   "id": "2a203479",
   "metadata": {},
   "outputs": [
    {
     "name": "stdout",
     "output_type": "stream",
     "text": [
      "X is 50\n"
     ]
    }
   ],
   "source": [
    "func(x)"
   ]
  },
  {
   "cell_type": "code",
   "execution_count": 33,
   "id": "f680765f",
   "metadata": {},
   "outputs": [],
   "source": [
    "x = 50\n",
    "def func(x):\n",
    "    print(f'X is {x}')\n",
    "    \n",
    "    #local reassignment\n",
    "    x=200\n",
    "    print(f'ijust locaLLY CHANGED X TO {x}')"
   ]
  },
  {
   "cell_type": "code",
   "execution_count": 34,
   "id": "33f65fb7",
   "metadata": {},
   "outputs": [
    {
     "name": "stdout",
     "output_type": "stream",
     "text": [
      "X is 50\n",
      "ijust locaLLY CHANGED X TO 200\n"
     ]
    }
   ],
   "source": [
    "func(x)"
   ]
  },
  {
   "cell_type": "code",
   "execution_count": 35,
   "id": "82ef53e4",
   "metadata": {},
   "outputs": [
    {
     "name": "stdout",
     "output_type": "stream",
     "text": [
      "50\n"
     ]
    }
   ],
   "source": [
    "print(x)"
   ]
  },
  {
   "cell_type": "code",
   "execution_count": 36,
   "id": "c9bf92d5",
   "metadata": {},
   "outputs": [],
   "source": [
    "x = 50\n",
    "def func():\n",
    "    global x\n",
    "    print(f'X is {x}')\n",
    "    \n",
    "    #local reassignment on a global level\n",
    "    x='new value'\n",
    "    print(f'ijust locaLLY CHANGED global X TO {x}')"
   ]
  },
  {
   "cell_type": "code",
   "execution_count": 37,
   "id": "007c8d74",
   "metadata": {},
   "outputs": [
    {
     "name": "stdout",
     "output_type": "stream",
     "text": [
      "50\n"
     ]
    }
   ],
   "source": [
    "print(x)"
   ]
  },
  {
   "cell_type": "code",
   "execution_count": 38,
   "id": "f3cff8a9",
   "metadata": {},
   "outputs": [
    {
     "name": "stdout",
     "output_type": "stream",
     "text": [
      "X is 50\n",
      "ijust locaLLY CHANGED global X TO new value\n"
     ]
    }
   ],
   "source": [
    "func()"
   ]
  },
  {
   "cell_type": "code",
   "execution_count": 39,
   "id": "12e6c544",
   "metadata": {},
   "outputs": [
    {
     "name": "stdout",
     "output_type": "stream",
     "text": [
      "new value\n"
     ]
    }
   ],
   "source": [
    "print(x)"
   ]
  },
  {
   "cell_type": "code",
   "execution_count": 40,
   "id": "9ffa8a23",
   "metadata": {},
   "outputs": [],
   "source": [
    "x = 50\n",
    "def func(x):\n",
    "    print(f'X is {x}')\n",
    "    \n",
    "    #local reassignment on a global level\n",
    "    x='new value'\n",
    "    print(f'ijust locaLLY CHANGED global X TO {x}')\n",
    "    return x"
   ]
  },
  {
   "cell_type": "code",
   "execution_count": 41,
   "id": "3274d0ef",
   "metadata": {},
   "outputs": [
    {
     "name": "stdout",
     "output_type": "stream",
     "text": [
      "50\n"
     ]
    }
   ],
   "source": [
    "print(x)"
   ]
  },
  {
   "cell_type": "code",
   "execution_count": 42,
   "id": "2a8a2a1a",
   "metadata": {},
   "outputs": [
    {
     "name": "stdout",
     "output_type": "stream",
     "text": [
      "X is 50\n",
      "ijust locaLLY CHANGED global X TO new value\n"
     ]
    },
    {
     "data": {
      "text/plain": [
       "'new value'"
      ]
     },
     "execution_count": 42,
     "metadata": {},
     "output_type": "execute_result"
    }
   ],
   "source": [
    "func(x)"
   ]
  },
  {
   "cell_type": "code",
   "execution_count": 43,
   "id": "1db3006d",
   "metadata": {},
   "outputs": [
    {
     "name": "stdout",
     "output_type": "stream",
     "text": [
      "X is 50\n",
      "ijust locaLLY CHANGED global X TO new value\n"
     ]
    }
   ],
   "source": [
    "x = func(x)"
   ]
  },
  {
   "cell_type": "code",
   "execution_count": 44,
   "id": "29f46ba3",
   "metadata": {},
   "outputs": [
    {
     "data": {
      "text/plain": [
       "'new value'"
      ]
     },
     "execution_count": 44,
     "metadata": {},
     "output_type": "execute_result"
    }
   ],
   "source": [
    "x"
   ]
  },
  {
   "cell_type": "code",
   "execution_count": null,
   "id": "b6fcbc0d",
   "metadata": {},
   "outputs": [],
   "source": []
  }
 ],
 "metadata": {
  "kernelspec": {
   "display_name": "Python 3 (ipykernel)",
   "language": "python",
   "name": "python3"
  },
  "language_info": {
   "codemirror_mode": {
    "name": "ipython",
    "version": 3
   },
   "file_extension": ".py",
   "mimetype": "text/x-python",
   "name": "python",
   "nbconvert_exporter": "python",
   "pygments_lexer": "ipython3",
   "version": "3.9.7"
  }
 },
 "nbformat": 4,
 "nbformat_minor": 5
}
