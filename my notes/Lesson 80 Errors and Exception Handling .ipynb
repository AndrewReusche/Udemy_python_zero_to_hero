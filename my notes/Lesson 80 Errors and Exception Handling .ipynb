{
 "cells": [
  {
   "cell_type": "code",
   "execution_count": 2,
   "id": "cccb16bf",
   "metadata": {},
   "outputs": [],
   "source": [
    "#read only mode \n",
    "#mode = r "
   ]
  },
  {
   "cell_type": "code",
   "execution_count": 3,
   "id": "8d348feb",
   "metadata": {},
   "outputs": [],
   "source": [
    "#try: this block of code to be attempted (may lead to an error)"
   ]
  },
  {
   "cell_type": "code",
   "execution_count": 4,
   "id": "c4a737a9",
   "metadata": {},
   "outputs": [],
   "source": [
    "#except: block of code will execute in case there is an error in try block"
   ]
  },
  {
   "cell_type": "code",
   "execution_count": 5,
   "id": "e0e891a9",
   "metadata": {},
   "outputs": [],
   "source": [
    "#finally: a final block of code to be executed regardless of an error"
   ]
  },
  {
   "cell_type": "code",
   "execution_count": 9,
   "id": "10be6979",
   "metadata": {},
   "outputs": [],
   "source": [
    "def add(n1,n2):\n",
    "    print(n1+n2)"
   ]
  },
  {
   "cell_type": "code",
   "execution_count": 10,
   "id": "ef5bf751",
   "metadata": {},
   "outputs": [
    {
     "name": "stdout",
     "output_type": "stream",
     "text": [
      "30\n"
     ]
    }
   ],
   "source": [
    "add(10,20)"
   ]
  },
  {
   "cell_type": "code",
   "execution_count": 11,
   "id": "f88f75a0",
   "metadata": {},
   "outputs": [],
   "source": [
    "number1 =10"
   ]
  },
  {
   "cell_type": "code",
   "execution_count": 12,
   "id": "29585f6a",
   "metadata": {},
   "outputs": [
    {
     "name": "stdout",
     "output_type": "stream",
     "text": [
      "Please provide a number: 25\n"
     ]
    }
   ],
   "source": [
    "number2= input(\"Please provide a number: \")"
   ]
  },
  {
   "cell_type": "code",
   "execution_count": 16,
   "id": "0c57b522",
   "metadata": {},
   "outputs": [
    {
     "ename": "TypeError",
     "evalue": "unsupported operand type(s) for +: 'int' and 'str'",
     "output_type": "error",
     "traceback": [
      "\u001b[1;31m---------------------------------------------------------------------------\u001b[0m",
      "\u001b[1;31mTypeError\u001b[0m                                 Traceback (most recent call last)",
      "\u001b[1;32m~\\AppData\\Local\\Temp/ipykernel_12792/1100812442.py\u001b[0m in \u001b[0;36m<module>\u001b[1;34m\u001b[0m\n\u001b[1;32m----> 1\u001b[1;33m \u001b[0madd\u001b[0m\u001b[1;33m(\u001b[0m\u001b[0mnumber1\u001b[0m\u001b[1;33m,\u001b[0m\u001b[0mnumber2\u001b[0m\u001b[1;33m)\u001b[0m\u001b[1;33m\u001b[0m\u001b[1;33m\u001b[0m\u001b[0m\n\u001b[0m\u001b[0;32m      2\u001b[0m \u001b[0mprint\u001b[0m\u001b[1;33m(\u001b[0m\u001b[1;34m\"something happened\"\u001b[0m\u001b[1;33m)\u001b[0m\u001b[1;33m\u001b[0m\u001b[1;33m\u001b[0m\u001b[0m\n",
      "\u001b[1;32m~\\AppData\\Local\\Temp/ipykernel_12792/620513249.py\u001b[0m in \u001b[0;36madd\u001b[1;34m(n1, n2)\u001b[0m\n\u001b[0;32m      1\u001b[0m \u001b[1;32mdef\u001b[0m \u001b[0madd\u001b[0m\u001b[1;33m(\u001b[0m\u001b[0mn1\u001b[0m\u001b[1;33m,\u001b[0m\u001b[0mn2\u001b[0m\u001b[1;33m)\u001b[0m\u001b[1;33m:\u001b[0m\u001b[1;33m\u001b[0m\u001b[1;33m\u001b[0m\u001b[0m\n\u001b[1;32m----> 2\u001b[1;33m     \u001b[0mprint\u001b[0m\u001b[1;33m(\u001b[0m\u001b[0mn1\u001b[0m\u001b[1;33m+\u001b[0m\u001b[0mn2\u001b[0m\u001b[1;33m)\u001b[0m\u001b[1;33m\u001b[0m\u001b[1;33m\u001b[0m\u001b[0m\n\u001b[0m",
      "\u001b[1;31mTypeError\u001b[0m: unsupported operand type(s) for +: 'int' and 'str'"
     ]
    }
   ],
   "source": [
    "add(number1,number2)\n",
    "print(\"something happened\")"
   ]
  },
  {
   "cell_type": "code",
   "execution_count": 15,
   "id": "dd8595fe",
   "metadata": {},
   "outputs": [
    {
     "name": "stdout",
     "output_type": "stream",
     "text": [
      "35\n"
     ]
    }
   ],
   "source": [
    "add(number1,int(number2))"
   ]
  },
  {
   "cell_type": "code",
   "execution_count": 21,
   "id": "b71468ae",
   "metadata": {},
   "outputs": [],
   "source": [
    "try: \n",
    "    #want to attempt this code\n",
    "    #may have any error \n",
    "    result = 10 +10\n",
    "    \n",
    "except:\n",
    "    #what I want to happen if there is an error\n",
    "    print(\"hey it looks like you aren't addingcorrectly!\")\n",
    "    "
   ]
  },
  {
   "cell_type": "code",
   "execution_count": 19,
   "id": "2b28a9d1",
   "metadata": {},
   "outputs": [
    {
     "data": {
      "text/plain": [
       "20"
      ]
     },
     "execution_count": 19,
     "metadata": {},
     "output_type": "execute_result"
    }
   ],
   "source": [
    "result"
   ]
  },
  {
   "cell_type": "code",
   "execution_count": 22,
   "id": "64856aed",
   "metadata": {},
   "outputs": [
    {
     "name": "stdout",
     "output_type": "stream",
     "text": [
      "hey it looks like you aren't adding correctly!\n"
     ]
    }
   ],
   "source": [
    "try: \n",
    "    #want to attempt this code\n",
    "    #may have any error \n",
    "    result = 10 +'10'\n",
    "    \n",
    "except:\n",
    "    #what I want to happen if there is an error\n",
    "    print(\"hey it looks like you aren't adding correctly!\")"
   ]
  },
  {
   "cell_type": "code",
   "execution_count": 23,
   "id": "ddd7a080",
   "metadata": {},
   "outputs": [
    {
     "name": "stdout",
     "output_type": "stream",
     "text": [
      "hey it looks like you aren't adding correctly!\n"
     ]
    }
   ],
   "source": [
    "try: \n",
    "    #want to attempt this code\n",
    "    #may have any error \n",
    "    result = 10 +'10'\n",
    "    \n",
    "except:\n",
    "    #what I want to happen if there is an error\n",
    "    print(\"hey it looks like you aren't adding correctly!\")\n",
    "    \n",
    "else:\n",
    "    print(\"Add went well!\")\n",
    "    print(result)"
   ]
  },
  {
   "cell_type": "code",
   "execution_count": 24,
   "id": "64d493b0",
   "metadata": {},
   "outputs": [
    {
     "name": "stdout",
     "output_type": "stream",
     "text": [
      "Add went well!\n",
      "20\n"
     ]
    }
   ],
   "source": [
    "try: \n",
    "    #want to attempt this code\n",
    "    #may have any error \n",
    "    result = 10 +10\n",
    "    \n",
    "except:\n",
    "    #what I want to happen if there is an error\n",
    "    print(\"hey it looks like you aren't adding correctly!\")\n",
    "    \n",
    "else:\n",
    "    print(\"Add went well!\")\n",
    "    print(result)"
   ]
  },
  {
   "cell_type": "code",
   "execution_count": null,
   "id": "2eaf97ef",
   "metadata": {},
   "outputs": [],
   "source": []
  },
  {
   "cell_type": "code",
   "execution_count": null,
   "id": "346cfc7f",
   "metadata": {},
   "outputs": [],
   "source": []
  },
  {
   "cell_type": "code",
   "execution_count": null,
   "id": "e8dfcd99",
   "metadata": {},
   "outputs": [],
   "source": []
  },
  {
   "cell_type": "code",
   "execution_count": null,
   "id": "c9fba969",
   "metadata": {},
   "outputs": [],
   "source": []
  },
  {
   "cell_type": "code",
   "execution_count": 29,
   "id": "ce587dbf",
   "metadata": {},
   "outputs": [
    {
     "name": "stdout",
     "output_type": "stream",
     "text": [
      "I always run\n"
     ]
    }
   ],
   "source": [
    "try:\n",
    "    f = open(\"testfile\", \"w\")\n",
    "    f.write(\"Write a test line\")\n",
    "except TypeError:\n",
    "    print(\"There was a type error!\")\n",
    "except OSError:\n",
    "    print(\"Hey you have an OS Error\")\n",
    "finally:\n",
    "    print(\"I always run\")"
   ]
  },
  {
   "cell_type": "code",
   "execution_count": 28,
   "id": "9e21b9ef",
   "metadata": {},
   "outputs": [
    {
     "name": "stdout",
     "output_type": "stream",
     "text": [
      "Hey you have an OS Error\n",
      "I always run\n"
     ]
    }
   ],
   "source": [
    "try:\n",
    "    f = open(\"testfile\", \"r\")\n",
    "    f.write(\"Write a test line\")\n",
    "except TypeError:\n",
    "    print(\"There was a type error!\")\n",
    "except OSError:\n",
    "    print(\"Hey you have an OS Error\")\n",
    "finally:\n",
    "    print(\"I always run\") "
   ]
  },
  {
   "cell_type": "code",
   "execution_count": 30,
   "id": "90f17377",
   "metadata": {},
   "outputs": [
    {
     "name": "stdout",
     "output_type": "stream",
     "text": [
      "All other exceptions\n",
      "I always run\n"
     ]
    }
   ],
   "source": [
    "try:\n",
    "    f = open(\"testfile\", \"r\")\n",
    "    f.write(\"Write a test line\")\n",
    "except TypeError:\n",
    "    print(\"There was a type error!\")\n",
    "except:\n",
    "    print(\"All other exceptions\")\n",
    "finally:\n",
    "    print(\"I always run\") "
   ]
  },
  {
   "cell_type": "code",
   "execution_count": 31,
   "id": "885ab882",
   "metadata": {},
   "outputs": [
    {
     "name": "stdout",
     "output_type": "stream",
     "text": [
      "I always run\n"
     ]
    }
   ],
   "source": [
    "try:\n",
    "    f = open(\"testfile\", \"w\")\n",
    "    f.write(\"Write a test line\")\n",
    "except TypeError:\n",
    "    print(\"There was a type error!\")\n",
    "except:\n",
    "    print(\"All other exceptions\")\n",
    "finally:\n",
    "    print(\"I always run\") "
   ]
  },
  {
   "cell_type": "code",
   "execution_count": null,
   "id": "49306843",
   "metadata": {},
   "outputs": [],
   "source": []
  },
  {
   "cell_type": "code",
   "execution_count": null,
   "id": "1d39f427",
   "metadata": {},
   "outputs": [],
   "source": []
  },
  {
   "cell_type": "code",
   "execution_count": null,
   "id": "218d1300",
   "metadata": {},
   "outputs": [],
   "source": []
  },
  {
   "cell_type": "code",
   "execution_count": 35,
   "id": "6146219b",
   "metadata": {},
   "outputs": [],
   "source": [
    "def ask_for_int():\n",
    "    try:\n",
    "        result = int(input(\"Please provide a number: \"))\n",
    "        \n",
    "    except:\n",
    "        print(\"whoops! thta is not a number\")\n",
    "    finally:\n",
    "        print(\"End of try/except/finally\")\n",
    "    "
   ]
  },
  {
   "cell_type": "code",
   "execution_count": 36,
   "id": "5734139c",
   "metadata": {},
   "outputs": [
    {
     "name": "stdout",
     "output_type": "stream",
     "text": [
      "Please provide a number: 20\n",
      "End of try/except/finally\n"
     ]
    }
   ],
   "source": [
    "ask_for_int()"
   ]
  },
  {
   "cell_type": "code",
   "execution_count": 37,
   "id": "4732c6fc",
   "metadata": {},
   "outputs": [
    {
     "name": "stdout",
     "output_type": "stream",
     "text": [
      "Please provide a number: word\n",
      "whoops! thta is not a number\n",
      "End of try/except/finally\n"
     ]
    }
   ],
   "source": [
    "ask_for_int()\n"
   ]
  },
  {
   "cell_type": "code",
   "execution_count": 1,
   "id": "bd9ef9f8",
   "metadata": {},
   "outputs": [],
   "source": [
    "def ask_for_int():\n",
    "      \n",
    "    while True:\n",
    "            \n",
    "        try:\n",
    "            result = int(input(\"Please provide a number: \"))\n",
    "        \n",
    "        except:\n",
    "            print(\"whoops! thta is not a number\")\n",
    "            continue\n",
    "            \n",
    "        else:\n",
    "            print(\"Yes, thank you\")\n",
    "            break\n",
    "        finally:\n",
    "            print(\"End of try/except/finally\")\n",
    "            print(\"I will always run at the end of the loop\")\n",
    "        \n",
    "        "
   ]
  },
  {
   "cell_type": "code",
   "execution_count": 2,
   "id": "44eb3092",
   "metadata": {},
   "outputs": [
    {
     "name": "stdout",
     "output_type": "stream",
     "text": [
      "Please provide a number: pizza\n",
      "whoops! thta is not a number\n",
      "End of try/except/finally\n",
      "I will always run at the end of the loop\n",
      "Please provide a number: 20\n",
      "Yes, thank you\n",
      "End of try/except/finally\n",
      "I will always run at the end of the loop\n"
     ]
    }
   ],
   "source": [
    "ask_for_int()"
   ]
  },
  {
   "cell_type": "code",
   "execution_count": 3,
   "id": "66c2d0b2",
   "metadata": {},
   "outputs": [],
   "source": [
    "def ask_for_int():\n",
    "      \n",
    "    while True:\n",
    "            \n",
    "        try:\n",
    "            result = int(input(\"Please provide a number: \"))\n",
    "        \n",
    "        except:\n",
    "            print(\"whoops! thta is not a number\")\n",
    "            continue\n",
    "            \n",
    "        else:\n",
    "            print(\"Yes, thank you\")\n",
    "            break\n",
    "        finally:\n",
    "            print(\"I am going to ask you again\")\n",
    "        "
   ]
  },
  {
   "cell_type": "code",
   "execution_count": null,
   "id": "ee9863d2",
   "metadata": {},
   "outputs": [
    {
     "name": "stdout",
     "output_type": "stream",
     "text": [
      "Please provide a number: pizza\n",
      "whoops! thta is not a number\n",
      "I am going to ask you again\n",
      "Please provide a number: dot\n",
      "whoops! thta is not a number\n",
      "I am going to ask you again\n"
     ]
    }
   ],
   "source": [
    "ask_for_int()"
   ]
  },
  {
   "cell_type": "code",
   "execution_count": null,
   "id": "fc9afee5",
   "metadata": {},
   "outputs": [],
   "source": []
  }
 ],
 "metadata": {
  "kernelspec": {
   "display_name": "Python 3 (ipykernel)",
   "language": "python",
   "name": "python3"
  },
  "language_info": {
   "codemirror_mode": {
    "name": "ipython",
    "version": 3
   },
   "file_extension": ".py",
   "mimetype": "text/x-python",
   "name": "python",
   "nbconvert_exporter": "python",
   "pygments_lexer": "ipython3",
   "version": "3.9.7"
  }
 },
 "nbformat": 4,
 "nbformat_minor": 5
}
