{
 "cells": [
  {
   "cell_type": "code",
   "execution_count": 36,
   "id": "43dd0dbe",
   "metadata": {},
   "outputs": [],
   "source": [
    "class Account:\n",
    "    \n",
    "    def __init__(self,owner,balance):\n",
    "        \n",
    "        self.owner = owner\n",
    "        self.balance = balance\n",
    "        \n",
    "    def deposit(self, dep_amount):\n",
    "        \n",
    "        self.dep_amount = dep_amount  \n",
    "        self.balance = self.balance + dep_amount\n",
    "        print(\"Account Owner: {}\".format(self.owner))\n",
    "        print(\"Account balance: {}\".format(self.balance))\n",
    "        \n",
    "    \n",
    "    def withdraw(self, with_amount):\n",
    "        \n",
    "        if with_amount <= self.balance:\n",
    "            \n",
    "            self.with_amount = with_amount\n",
    "            self.balance -=with_amount\n",
    "            print(\"Account Owner: {}\".format(self.owner))\n",
    "            print(\"Account balance: {}\".format(self.balance))\n",
    "        \n",
    "        else:\n",
    "            self.with_amount = with_amount\n",
    "            print('insufficient funds, unable to withdraw {}'.format(self.with_amount))\n",
    "            \n",
    "    def __str__(self):\n",
    "        return f\"Account Owner: {self.owner} \\nAccount balance: {self.balance}\"\n",
    "    "
   ]
  },
  {
   "cell_type": "code",
   "execution_count": 37,
   "id": "03b7026f",
   "metadata": {},
   "outputs": [],
   "source": [
    "# 1. Instantiate the class\n",
    "acct1 = Account('Jose',100)"
   ]
  },
  {
   "cell_type": "code",
   "execution_count": 38,
   "id": "80b8a9ae",
   "metadata": {},
   "outputs": [
    {
     "name": "stdout",
     "output_type": "stream",
     "text": [
      "Account Owner: Jose\n",
      "Account balance: 150\n"
     ]
    }
   ],
   "source": [
    "# 5. Make a series of deposits and withdrawals\n",
    "acct1.deposit(50)"
   ]
  },
  {
   "cell_type": "code",
   "execution_count": 39,
   "id": "1795d791",
   "metadata": {},
   "outputs": [
    {
     "name": "stdout",
     "output_type": "stream",
     "text": [
      "Account Owner: Jose\n",
      "Account balance: 75\n"
     ]
    }
   ],
   "source": [
    "acct1.withdraw(75)"
   ]
  },
  {
   "cell_type": "code",
   "execution_count": 40,
   "id": "d1ece51e",
   "metadata": {},
   "outputs": [
    {
     "name": "stdout",
     "output_type": "stream",
     "text": [
      "insufficient funds, unable to withdraw 500\n"
     ]
    }
   ],
   "source": [
    "# 6. Make a withdrawal that exceeds the available balance\n",
    "acct1.withdraw(500)"
   ]
  },
  {
   "cell_type": "code",
   "execution_count": 41,
   "id": "0ee6cedb",
   "metadata": {},
   "outputs": [
    {
     "name": "stdout",
     "output_type": "stream",
     "text": [
      "Account Owner: Jose \n",
      "Account balance: 75\n"
     ]
    }
   ],
   "source": [
    "print(acct1)"
   ]
  },
  {
   "cell_type": "code",
   "execution_count": null,
   "id": "767d3304",
   "metadata": {},
   "outputs": [],
   "source": []
  }
 ],
 "metadata": {
  "kernelspec": {
   "display_name": "Python 3 (ipykernel)",
   "language": "python",
   "name": "python3"
  },
  "language_info": {
   "codemirror_mode": {
    "name": "ipython",
    "version": 3
   },
   "file_extension": ".py",
   "mimetype": "text/x-python",
   "name": "python",
   "nbconvert_exporter": "python",
   "pygments_lexer": "ipython3",
   "version": "3.9.7"
  }
 },
 "nbformat": 4,
 "nbformat_minor": 5
}
