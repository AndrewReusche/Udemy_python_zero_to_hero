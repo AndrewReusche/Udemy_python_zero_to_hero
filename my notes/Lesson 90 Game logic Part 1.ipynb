{
 "cells": [
  {
   "cell_type": "code",
   "execution_count": 2,
   "id": "e840710b",
   "metadata": {},
   "outputs": [],
   "source": [
    "#somtimes creating the overall logic of a project can be the hardest part"
   ]
  },
  {
   "cell_type": "code",
   "execution_count": 3,
   "id": "4fbedcc2",
   "metadata": {},
   "outputs": [],
   "source": [
    "#we will plan the classes arounf this logic"
   ]
  },
  {
   "cell_type": "code",
   "execution_count": 4,
   "id": "37b428b0",
   "metadata": {},
   "outputs": [],
   "source": [
    "#in the real world you are working on the logic and classes more or less simutatiously"
   ]
  },
  {
   "cell_type": "code",
   "execution_count": 5,
   "id": "76a573e2",
   "metadata": {},
   "outputs": [],
   "source": [
    "# we need two instances of the player class: player1 and player 2"
   ]
  },
  {
   "cell_type": "code",
   "execution_count": 6,
   "id": "185d3913",
   "metadata": {},
   "outputs": [],
   "source": [
    "#we need to create an instance of a new deck, this deck has everything in order"
   ]
  },
  {
   "cell_type": "code",
   "execution_count": 7,
   "id": "345ca4be",
   "metadata": {},
   "outputs": [],
   "source": [
    "#make sure to call the shuffle method prior to splitting this deck into two"
   ]
  },
  {
   "cell_type": "code",
   "execution_count": 8,
   "id": "aa9d049f",
   "metadata": {},
   "outputs": [],
   "source": [
    "#use a for loop to stack half the deck to player1 and half the deck to player two"
   ]
  },
  {
   "cell_type": "code",
   "execution_count": 9,
   "id": "5b675481",
   "metadata": {},
   "outputs": [],
   "source": [
    "#now we go through the game"
   ]
  },
  {
   "cell_type": "code",
   "execution_count": 13,
   "id": "cb28edac",
   "metadata": {},
   "outputs": [],
   "source": [
    "#prior to going through the game we should check to see if someone has already lost\n",
    "#aka check for zero cards, this will be checked each round\n",
    "#if not we can have game_on = True"
   ]
  },
  {
   "cell_type": "code",
   "execution_count": 14,
   "id": "b1565f3c",
   "metadata": {},
   "outputs": [],
   "source": [
    "#while game_on == True"
   ]
  },
  {
   "cell_type": "code",
   "execution_count": 15,
   "id": "131e9ad9",
   "metadata": {},
   "outputs": [],
   "source": [
    "# to break out of this while loop (game ends) we can use break or set game_on to false"
   ]
  },
  {
   "cell_type": "code",
   "execution_count": 17,
   "id": "a7e095a6",
   "metadata": {},
   "outputs": [],
   "source": [
    "#now each player draws or removes a card and then we do a card comparison\n",
    "#whoever wins, assuming no tie, that player receives those cards to the bottom of their list\n"
   ]
  },
  {
   "cell_type": "code",
   "execution_count": 18,
   "id": "f3fbbdc6",
   "metadata": {},
   "outputs": [],
   "source": [
    "#if a 'WAR' occurs, eacxh players draw an addditional three cards\n",
    "#we will do a while at war loop for this occurance"
   ]
  },
  {
   "cell_type": "code",
   "execution_count": null,
   "id": "0e69cebb",
   "metadata": {},
   "outputs": [],
   "source": []
  }
 ],
 "metadata": {
  "kernelspec": {
   "display_name": "Python 3 (ipykernel)",
   "language": "python",
   "name": "python3"
  },
  "language_info": {
   "codemirror_mode": {
    "name": "ipython",
    "version": 3
   },
   "file_extension": ".py",
   "mimetype": "text/x-python",
   "name": "python",
   "nbconvert_exporter": "python",
   "pygments_lexer": "ipython3",
   "version": "3.9.7"
  }
 },
 "nbformat": 4,
 "nbformat_minor": 5
}
