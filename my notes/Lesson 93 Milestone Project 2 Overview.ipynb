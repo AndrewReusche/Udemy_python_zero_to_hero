{
 "cells": [
  {
   "cell_type": "markdown",
   "id": "89bca13e",
   "metadata": {},
   "source": [
    "# Version of Blackjack for the project"
   ]
  },
  {
   "cell_type": "code",
   "execution_count": 1,
   "id": "7f9d6191",
   "metadata": {},
   "outputs": [],
   "source": [
    "#you will have a computer dealer and a human player\n"
   ]
  },
  {
   "cell_type": "code",
   "execution_count": 2,
   "id": "a237d293",
   "metadata": {},
   "outputs": [],
   "source": [
    "#player will have a bank account\n",
    "#from this account the player will place a bet on wether they think they will win or not\n",
    "#player starts with two cards face up and the dealer starts with one card face down and one card face up\n",
    "\n"
   ]
  },
  {
   "cell_type": "code",
   "execution_count": 4,
   "id": "28a00dff",
   "metadata": {},
   "outputs": [],
   "source": [
    "#the player goes first in the gameplay\n",
    "#two possible actions here 1) hit: receive another card\n",
    "#2) stay (stop receiving cards)"
   ]
  },
  {
   "cell_type": "code",
   "execution_count": null,
   "id": "aac4d886",
   "metadata": {},
   "outputs": [],
   "source": [
    "#after the players turn:\n",
    "#if the player is under 21, then the dealer hits until they either beat the player or they bust"
   ]
  },
  {
   "cell_type": "code",
   "execution_count": null,
   "id": "902e6696",
   "metadata": {},
   "outputs": [],
   "source": [
    "#specail rules:\n",
    "#face cards count as 10\n",
    "#aces can count as either 1 0r 11, whichever is prefered "
   ]
  }
 ],
 "metadata": {
  "kernelspec": {
   "display_name": "Python 3 (ipykernel)",
   "language": "python",
   "name": "python3"
  },
  "language_info": {
   "codemirror_mode": {
    "name": "ipython",
    "version": 3
   },
   "file_extension": ".py",
   "mimetype": "text/x-python",
   "name": "python",
   "nbconvert_exporter": "python",
   "pygments_lexer": "ipython3",
   "version": "3.9.7"
  }
 },
 "nbformat": 4,
 "nbformat_minor": 5
}
