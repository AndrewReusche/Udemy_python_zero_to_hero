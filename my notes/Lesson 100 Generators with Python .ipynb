{
 "cells": [
  {
   "cell_type": "code",
   "execution_count": 1,
   "id": "b8fb5751",
   "metadata": {},
   "outputs": [],
   "source": [
    "#generators allow us to create a sequence of values over time "
   ]
  },
  {
   "cell_type": "code",
   "execution_count": 2,
   "id": "6df276c3",
   "metadata": {},
   "outputs": [],
   "source": [
    "#generators use a yield keyword statement"
   ]
  },
  {
   "cell_type": "code",
   "execution_count": 4,
   "id": "f3699c7f",
   "metadata": {},
   "outputs": [],
   "source": [
    "#when a generator function is compiled they become an object that supports an iteration protocol, meaning they don't \n",
    "#actually return a value and exit"
   ]
  },
  {
   "cell_type": "code",
   "execution_count": 5,
   "id": "16391d4b",
   "metadata": {},
   "outputs": [],
   "source": [
    "#generator functions will automatically suspend and resume thir execution and state around the last ppoint of value \n",
    "#generation"
   ]
  },
  {
   "cell_type": "code",
   "execution_count": 6,
   "id": "54bbdc01",
   "metadata": {},
   "outputs": [],
   "source": [
    "#the advantage is that instead of having to compute and enbtire series of vaLUES up front, the generator computes one value\n",
    "#and waits until the next value is called for"
   ]
  },
  {
   "cell_type": "code",
   "execution_count": 7,
   "id": "56013e4a",
   "metadata": {},
   "outputs": [],
   "source": [
    "#for example the range() function doesn't prodiuce a list in memory for all the values from start to stop"
   ]
  },
  {
   "cell_type": "code",
   "execution_count": 8,
   "id": "9f23b04d",
   "metadata": {},
   "outputs": [],
   "source": [
    "#instead it just keeps track of the last number and the step size top provide a flow of numbers"
   ]
  },
  {
   "cell_type": "code",
   "execution_count": 9,
   "id": "8efaf1f9",
   "metadata": {},
   "outputs": [],
   "source": [
    "#if the user did need the list they have to transform the generator to a list like list(range(0,10))"
   ]
  },
  {
   "cell_type": "code",
   "execution_count": 10,
   "id": "1a3c5ca3",
   "metadata": {},
   "outputs": [],
   "source": [
    "def create_cubes(n):\n",
    "    result = []\n",
    "    for x in range(n):\n",
    "        result.append(x**3)\n",
    "    return result"
   ]
  },
  {
   "cell_type": "code",
   "execution_count": 11,
   "id": "835773b8",
   "metadata": {},
   "outputs": [
    {
     "data": {
      "text/plain": [
       "[0, 1, 8, 27, 64, 125, 216, 343, 512, 729]"
      ]
     },
     "execution_count": 11,
     "metadata": {},
     "output_type": "execute_result"
    }
   ],
   "source": [
    "create_cubes(10)"
   ]
  },
  {
   "cell_type": "code",
   "execution_count": 12,
   "id": "5c10317c",
   "metadata": {},
   "outputs": [
    {
     "name": "stdout",
     "output_type": "stream",
     "text": [
      "0\n",
      "1\n",
      "8\n",
      "27\n",
      "64\n",
      "125\n",
      "216\n",
      "343\n",
      "512\n",
      "729\n"
     ]
    }
   ],
   "source": [
    "for x in create_cubes(10):\n",
    "    print(x)"
   ]
  },
  {
   "cell_type": "code",
   "execution_count": 13,
   "id": "943e2105",
   "metadata": {},
   "outputs": [],
   "source": [
    "def create_cubes(n):\n",
    "    \n",
    "    for x in range(n):\n",
    "        yield x**3"
   ]
  },
  {
   "cell_type": "code",
   "execution_count": 14,
   "id": "c5c9e2e6",
   "metadata": {},
   "outputs": [
    {
     "name": "stdout",
     "output_type": "stream",
     "text": [
      "0\n",
      "1\n",
      "8\n",
      "27\n",
      "64\n",
      "125\n",
      "216\n",
      "343\n",
      "512\n",
      "729\n"
     ]
    }
   ],
   "source": [
    "for x in create_cubes(10):\n",
    "    print(x)"
   ]
  },
  {
   "cell_type": "code",
   "execution_count": 15,
   "id": "49116c45",
   "metadata": {},
   "outputs": [
    {
     "data": {
      "text/plain": [
       "<generator object create_cubes at 0x00000187A68904A0>"
      ]
     },
     "execution_count": 15,
     "metadata": {},
     "output_type": "execute_result"
    }
   ],
   "source": [
    "create_cubes(10)"
   ]
  },
  {
   "cell_type": "code",
   "execution_count": 16,
   "id": "4015894b",
   "metadata": {},
   "outputs": [
    {
     "data": {
      "text/plain": [
       "[0, 1, 8, 27, 64, 125, 216, 343, 512, 729]"
      ]
     },
     "execution_count": 16,
     "metadata": {},
     "output_type": "execute_result"
    }
   ],
   "source": [
    "list(create_cubes(10))"
   ]
  },
  {
   "cell_type": "code",
   "execution_count": 19,
   "id": "bf8bbff7",
   "metadata": {},
   "outputs": [],
   "source": [
    "def gen_fibon(n):\n",
    "    \n",
    "    a=1\n",
    "    b=1\n",
    "    for i in range(n):\n",
    "        yield a\n",
    "        a,b = b, a+b\n",
    "        "
   ]
  },
  {
   "cell_type": "code",
   "execution_count": 20,
   "id": "6b9b529c",
   "metadata": {},
   "outputs": [
    {
     "name": "stdout",
     "output_type": "stream",
     "text": [
      "1\n",
      "1\n",
      "2\n",
      "3\n",
      "5\n",
      "8\n",
      "13\n",
      "21\n",
      "34\n",
      "55\n"
     ]
    }
   ],
   "source": [
    "for number in gen_fibon(10):\n",
    "    print(number)"
   ]
  },
  {
   "cell_type": "code",
   "execution_count": 21,
   "id": "b9ef8488",
   "metadata": {},
   "outputs": [],
   "source": [
    "#alternstively if it was a normal func"
   ]
  },
  {
   "cell_type": "code",
   "execution_count": 27,
   "id": "ab587e9c",
   "metadata": {},
   "outputs": [],
   "source": [
    "def gen_fibon(n):\n",
    "    \n",
    "    a=1\n",
    "    b=1\n",
    "    output = []\n",
    "    \n",
    "    for i in range(n):\n",
    "        output.append(a)\n",
    "        a,b = b,a+b\n",
    "    return output"
   ]
  },
  {
   "cell_type": "code",
   "execution_count": 28,
   "id": "938296af",
   "metadata": {},
   "outputs": [
    {
     "name": "stdout",
     "output_type": "stream",
     "text": [
      "1\n",
      "1\n",
      "2\n",
      "3\n",
      "5\n",
      "8\n",
      "13\n",
      "21\n",
      "34\n",
      "55\n"
     ]
    }
   ],
   "source": [
    "for number in gen_fibon(10):\n",
    "    print(number)"
   ]
  },
  {
   "cell_type": "code",
   "execution_count": null,
   "id": "bf9b21c9",
   "metadata": {},
   "outputs": [],
   "source": []
  }
 ],
 "metadata": {
  "kernelspec": {
   "display_name": "Python 3 (ipykernel)",
   "language": "python",
   "name": "python3"
  },
  "language_info": {
   "codemirror_mode": {
    "name": "ipython",
    "version": 3
   },
   "file_extension": ".py",
   "mimetype": "text/x-python",
   "name": "python",
   "nbconvert_exporter": "python",
   "pygments_lexer": "ipython3",
   "version": "3.9.7"
  }
 },
 "nbformat": 4,
 "nbformat_minor": 5
}
