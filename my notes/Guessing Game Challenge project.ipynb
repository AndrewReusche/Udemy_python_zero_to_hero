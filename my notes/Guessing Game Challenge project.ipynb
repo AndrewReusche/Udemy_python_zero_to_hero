{
 "cells": [
  {
   "cell_type": "code",
   "execution_count": 5,
   "id": "e5ef802e",
   "metadata": {},
   "outputs": [],
   "source": [
    "import random\n",
    "\n",
    "num = random.randint(1,100)"
   ]
  },
  {
   "cell_type": "code",
   "execution_count": 2,
   "id": "69cd259d",
   "metadata": {},
   "outputs": [
    {
     "data": {
      "text/plain": [
       "16"
      ]
     },
     "execution_count": 2,
     "metadata": {},
     "output_type": "execute_result"
    }
   ],
   "source": [
    "num"
   ]
  },
  {
   "cell_type": "code",
   "execution_count": 3,
   "id": "13d5d344",
   "metadata": {},
   "outputs": [
    {
     "name": "stdout",
     "output_type": "stream",
     "text": [
      "Guessing Game Challange\n",
      "I am going to pick a random number between 1 and 100, try to guess what it is.\n",
      "Here are the guessing game rules:\n",
      "If your guess is less than 1 or greater than 100 you are OUT OF BOUNDS\n",
      "On your first guess if you are within 10 of the number I will tell you you are WARM, and if you are outside of 10 from the number I will tell you you are Cold\n",
      "On every guess after that if your guess is closer to my number I will tell you WARMER, and if your guess is further away I will tell you COLDER\n",
      "When you finally guess the number I will tell you CORRECT and how many guesses it took.\n",
      "LET'S PLAY\n"
     ]
    }
   ],
   "source": [
    "print(\"Guessing Game Challange\")\n",
    "print('I am going to pick a random number between 1 and 100, try to guess what it is.')\n",
    "print('Here are the guessing game rules:')\n",
    "print(\"If your guess is less than 1 or greater than 100 you are OUT OF BOUNDS\")\n",
    "print(\"On your first guess if you are within 10 of the number I will tell you you are WARM, and if you are outside of 10 from the number I will tell you you are Cold\")\n",
    "print(\"On every guess after that if your guess is closer to my number I will tell you WARMER, and if your guess is further away I will tell you COLDER\")\n",
    "print(\"When you finally guess the number I will tell you CORRECT and how many guesses it took.\")\n",
    "print(\"LET'S PLAY\")\n"
   ]
  },
  {
   "cell_type": "code",
   "execution_count": 8,
   "id": "ca5c2e48",
   "metadata": {},
   "outputs": [],
   "source": [
    "guesses = [0]\n"
   ]
  },
  {
   "cell_type": "code",
   "execution_count": 4,
   "id": "6582ddfd",
   "metadata": {
    "scrolled": true
   },
   "outputs": [
    {
     "name": "stdout",
     "output_type": "stream",
     "text": [
      "I am thinking of a number between 1 and 100. \n",
      " What is your guess?200\n",
      "OUT OF BOUNDS! \n",
      " Please try again\n",
      "I am thinking of a number between 1 and 100. \n",
      " What is your guess?50\n"
     ]
    }
   ],
   "source": [
    "while True:\n",
    "    guess = int(input(\"I am thinking of a number between 1 and 100. \\n What is your guess?\"))\n",
    "\n",
    "    if guess < 1 or guess > 100:\n",
    "        print('OUT OF BOUNDS! \\n Please try again')\n",
    "        continue\n",
    "        \n",
    "    break\n",
    "\n"
   ]
  },
  {
   "cell_type": "code",
   "execution_count": 10,
   "id": "8972f346",
   "metadata": {},
   "outputs": [
    {
     "name": "stdout",
     "output_type": "stream",
     "text": [
      "I am thinking of a number between 1 and 100. \n",
      " What is your guess?16\n",
      "Your guess is CORRECT, and it only took 5!\n"
     ]
    }
   ],
   "source": [
    "while True:\n",
    "    guess = int(input(\"I am thinking of a number between 1 and 100. \\n What is your guess?\"))\n",
    "\n",
    "    if guess < 1 or guess > 100:\n",
    "        print('OUT OF BOUNDS! \\n Please try again')\n",
    "        continue\n",
    "\n",
    "    if guess == num:\n",
    "        print(f'Your guess is CORRECT, and it only took {len(guesses)}!')\n",
    "        break\n",
    "        \n",
    "    guesses.append(guess)\n",
    "    \n",
    "    if guesses[-2]:\n",
    "        if abs(num - guess) < abs(num - guesses[-2]):\n",
    "            print('WARMER')\n",
    "        elif abs(num - guess) == abs(num - guesses[-2]):\n",
    "            print('SAME DISTANCE')\n",
    "        \n",
    "        else:\n",
    "            print('COLDER')\n",
    "    \n",
    "    else:\n",
    "        if abs(num-guess) <= 10:\n",
    "            print('WARM')\n",
    "        else:\n",
    "            print('COLD')\n",
    "        "
   ]
  },
  {
   "cell_type": "code",
   "execution_count": 16,
   "id": "43078a44",
   "metadata": {},
   "outputs": [],
   "source": [
    "if []:\n",
    "    print('True')"
   ]
  },
  {
   "cell_type": "code",
   "execution_count": null,
   "id": "b3079f2e",
   "metadata": {},
   "outputs": [],
   "source": [
    "if 7"
   ]
  },
  {
   "cell_type": "code",
   "execution_count": 2,
   "id": "f63cdf75",
   "metadata": {
    "scrolled": true
   },
   "outputs": [
    {
     "name": "stdout",
     "output_type": "stream",
     "text": [
      "I am thinking of a number between 1 and 100. \n",
      " What is your guess?29\n",
      "COLD\n",
      "I am thinking of a number between 1 and 100. \n",
      " What is your guess?72\n",
      "WARMER\n",
      "I am thinking of a number between 1 and 100. \n",
      " What is your guess?61\n",
      "WARMER\n",
      "I am thinking of a number between 1 and 100. \n",
      " What is your guess?55\n",
      "SAME DISTANCE\n",
      "I am thinking of a number between 1 and 100. \n",
      " What is your guess?58\n",
      "Your guess is CORRECT, and it only took 5!\n"
     ]
    }
   ],
   "source": [
    "guesses = [0]\n",
    "\n",
    "while True:\n",
    "    guess = int(input(\"I am thinking of a number between 1 and 100. \\n What is your guess?\"))\n",
    "\n",
    "    if guess < 1 or guess > 100:\n",
    "        print('OUT OF BOUNDS! \\n Please try again')\n",
    "        continue\n",
    "\n",
    "    if guess == num:\n",
    "        print(f'Your guess is CORRECT, and it only took {len(guesses)}!')\n",
    "        break\n",
    "        \n",
    "    guesses.append(guess)\n",
    "    \n",
    "    if guesses[-2]:\n",
    "        if abs(num - guess) < abs(num - guesses[-2]):\n",
    "            print('WARMER')\n",
    "        elif abs(num - guess) == abs(num - guesses[-2]):\n",
    "            print('SAME DISTANCE')\n",
    "        \n",
    "        else:\n",
    "            print('COLDER')\n",
    "    \n",
    "    else:\n",
    "        if abs(num-guess) <= 10:\n",
    "            print('WARM')\n",
    "        else:\n",
    "            print('COLD')\n",
    "        "
   ]
  },
  {
   "cell_type": "code",
   "execution_count": 2,
   "id": "b793ecc1",
   "metadata": {},
   "outputs": [
    {
     "name": "stdout",
     "output_type": "stream",
     "text": [
      "I am thinking of a number between 1 and 100. \n",
      " What is your guess?35\n",
      "COLD\n",
      "I am thinking of a number between 1 and 100. \n",
      " What is your guess?86\n",
      "WARMER\n",
      "I am thinking of a number between 1 and 100. \n",
      " What is your guess?92\n",
      "COLDER\n",
      "I am thinking of a number between 1 and 100. \n",
      " What is your guess?52\n",
      "COLDER\n",
      "I am thinking of a number between 1 and 100. \n",
      " What is your guess?68\n",
      "WARMER\n",
      "I am thinking of a number between 1 and 100. \n",
      " What is your guess?74\n",
      "WARMER\n",
      "I am thinking of a number between 1 and 100. \n",
      " What is your guess?82\n",
      "WARMER\n",
      "I am thinking of a number between 1 and 100. \n",
      " What is your guess?90\n",
      "WARMER\n",
      "I am thinking of a number between 1 and 100. \n",
      " What is your guess?89\n",
      "WARMER\n",
      "I am thinking of a number between 1 and 100. \n",
      " What is your guess?88\n",
      "WARMER\n",
      "I am thinking of a number between 1 and 100. \n",
      " What is your guess?87\n",
      "Your guess is CORRECT, and it only took 10!\n"
     ]
    }
   ],
   "source": [
    "guesses = []\n",
    "\n",
    "while True:\n",
    "    guess = int(input(\"I am thinking of a number between 1 and 100. \\n What is your guess?\"))\n",
    "\n",
    "    if guess < 1 or guess > 100:\n",
    "        print('OUT OF BOUNDS! \\n Please try again')\n",
    "        continue\n",
    "\n",
    "    if guess == num:\n",
    "        print(f'Your guess is CORRECT, and it only took {len(guesses)}!')\n",
    "        break\n",
    "        \n",
    "    \n",
    "    \n",
    "    if guesses:\n",
    "        if abs(num - guess) < abs(num - guesses[-1]):\n",
    "            print('WARMER')\n",
    "        elif abs(num - guess) == abs(num - guesses[-1]):\n",
    "            print('SAME DISTANCE')\n",
    "        else:\n",
    "            print('COLDER')\n",
    "    \n",
    "    else:\n",
    "        if abs(num-guess) <= 10:\n",
    "            print('WARM')\n",
    "        else:\n",
    "            print('COLD')\n",
    "            \n",
    "    guesses.append(guess)\n",
    "        "
   ]
  },
  {
   "cell_type": "code",
   "execution_count": 3,
   "id": "366baf59",
   "metadata": {},
   "outputs": [],
   "source": [
    "## THE JUSTIN METHOD AKA SHABANGO 2.0"
   ]
  },
  {
   "cell_type": "code",
   "execution_count": null,
   "id": "5c4abc3f",
   "metadata": {
    "scrolled": true
   },
   "outputs": [],
   "source": [
    "guesses = []\n",
    "\n",
    "while True:\n",
    "    guess = int(input(\"I am thinking of a number between 1 and 100. \\n What is your guess?\"))\n",
    "\n",
    "    if guess < 1 or guess > 100:\n",
    "        print('OUT OF BOUNDS! \\n Please try again')\n",
    "        continue\n",
    "\n",
    "    if guess == num:\n",
    "        print(f'Your guess is CORRECT, and it only took {len(guesses)}!')\n",
    "        break\n",
    "        \n",
    "    \n",
    "    \n",
    "    if guesses:\n",
    "        if abs(num - guess) < abs(num - best_guess):\n",
    "            print(f'WARMER than {best_guess}')\n",
    "            best_guess = guess\n",
    "        elif abs(num - guess) == abs(num - best_guess):\n",
    "            print(f'SAME DISTANCE as {best_guess}')\n",
    "        else:\n",
    "            print(f'COLDER than {best_guess}')\n",
    "    \n",
    "    else:\n",
    "        best_guess = guess\n",
    "        \n",
    "        if abs(num-guess) <= 10:\n",
    "            print('WARM')\n",
    "        else:\n",
    "            print('COLD')\n",
    "            \n",
    "    guesses.append(guess)\n",
    "    \n",
    "        "
   ]
  },
  {
   "cell_type": "code",
   "execution_count": 7,
   "id": "67f5567d",
   "metadata": {},
   "outputs": [
    {
     "data": {
      "text/plain": [
       "78"
      ]
     },
     "execution_count": 7,
     "metadata": {},
     "output_type": "execute_result"
    }
   ],
   "source": [
    "num\n"
   ]
  },
  {
   "cell_type": "code",
   "execution_count": null,
   "id": "88fece83",
   "metadata": {},
   "outputs": [],
   "source": []
  }
 ],
 "metadata": {
  "kernelspec": {
   "display_name": "Python 3 (ipykernel)",
   "language": "python",
   "name": "python3"
  },
  "language_info": {
   "codemirror_mode": {
    "name": "ipython",
    "version": 3
   },
   "file_extension": ".py",
   "mimetype": "text/x-python",
   "name": "python",
   "nbconvert_exporter": "python",
   "pygments_lexer": "ipython3",
   "version": "3.9.7"
  }
 },
 "nbformat": 4,
 "nbformat_minor": 5
}
