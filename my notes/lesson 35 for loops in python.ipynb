{
 "cells": [
  {
   "cell_type": "code",
   "execution_count": 4,
   "id": "6fa4897d",
   "metadata": {},
   "outputs": [],
   "source": [
    "my_list = [1,2,3,4,5,6,7,8,9,10]"
   ]
  },
  {
   "cell_type": "code",
   "execution_count": 5,
   "id": "d0e24185",
   "metadata": {},
   "outputs": [
    {
     "name": "stdout",
     "output_type": "stream",
     "text": [
      "1\n",
      "2\n",
      "3\n",
      "4\n",
      "5\n",
      "6\n",
      "7\n",
      "8\n",
      "9\n",
      "10\n"
     ]
    }
   ],
   "source": [
    "for num in my_list:\n",
    "    print(num);"
   ]
  },
  {
   "cell_type": "code",
   "execution_count": 6,
   "id": "5f8b31c6",
   "metadata": {},
   "outputs": [
    {
     "name": "stdout",
     "output_type": "stream",
     "text": [
      "4\n",
      "5\n",
      "6\n",
      "7\n"
     ]
    }
   ],
   "source": [
    "for num in my_list[3:7]:\n",
    "    print(num);"
   ]
  },
  {
   "cell_type": "code",
   "execution_count": 7,
   "id": "ff89e6a9",
   "metadata": {},
   "outputs": [
    {
     "name": "stdout",
     "output_type": "stream",
     "text": [
      "hello\n",
      "hello\n",
      "hello\n",
      "hello\n",
      "hello\n",
      "hello\n",
      "hello\n",
      "hello\n",
      "hello\n",
      "hello\n"
     ]
    }
   ],
   "source": [
    "for num in my_list:\n",
    "    print(\"hello\");"
   ]
  },
  {
   "cell_type": "code",
   "execution_count": 8,
   "id": "5b17737e",
   "metadata": {},
   "outputs": [
    {
     "name": "stdout",
     "output_type": "stream",
     "text": [
      "2\n",
      "4\n",
      "6\n",
      "8\n",
      "10\n"
     ]
    }
   ],
   "source": [
    "for num in my_list:\n",
    "    #check for even\n",
    "    if num % 2 == 0:\n",
    "        print(num)"
   ]
  },
  {
   "cell_type": "code",
   "execution_count": 9,
   "id": "9431d77c",
   "metadata": {},
   "outputs": [
    {
     "name": "stdout",
     "output_type": "stream",
     "text": [
      "odd number\n",
      "2\n",
      "odd number\n",
      "4\n",
      "odd number\n",
      "6\n",
      "odd number\n",
      "8\n",
      "odd number\n",
      "10\n"
     ]
    }
   ],
   "source": [
    "for num in my_list:\n",
    "    #check for even\n",
    "    if num % 2 == 0:\n",
    "        print(num)\n",
    "    else:\n",
    "        print('odd number')"
   ]
  },
  {
   "cell_type": "code",
   "execution_count": 10,
   "id": "f1c08af2",
   "metadata": {},
   "outputs": [
    {
     "name": "stdout",
     "output_type": "stream",
     "text": [
      "odd number: 1\n",
      "2\n",
      "odd number: 3\n",
      "4\n",
      "odd number: 5\n",
      "6\n",
      "odd number: 7\n",
      "8\n",
      "odd number: 9\n",
      "10\n"
     ]
    }
   ],
   "source": [
    "for num in my_list:\n",
    "    #check for even\n",
    "    if num % 2 == 0:\n",
    "        print(num)\n",
    "    else:\n",
    "        print(f'odd number: {num}')"
   ]
  },
  {
   "cell_type": "code",
   "execution_count": 12,
   "id": "75ec9926",
   "metadata": {},
   "outputs": [
    {
     "name": "stdout",
     "output_type": "stream",
     "text": [
      "55\n"
     ]
    }
   ],
   "source": [
    "list_sum = 0\n",
    "\n",
    "for num in my_list:\n",
    "    list_sum = list_sum + num\n",
    "    \n",
    "print(list_sum);"
   ]
  },
  {
   "cell_type": "code",
   "execution_count": 41,
   "id": "252354fc",
   "metadata": {},
   "outputs": [
    {
     "name": "stdout",
     "output_type": "stream",
     "text": [
      "55\n"
     ]
    }
   ],
   "source": [
    "list_sum = 0\n",
    "\n",
    "for num in my_list:\n",
    "    list_sum += num;\n",
    "\n",
    "print(list_sum);"
   ]
  },
  {
   "cell_type": "code",
   "execution_count": 14,
   "id": "6cc108fe",
   "metadata": {},
   "outputs": [
    {
     "name": "stdout",
     "output_type": "stream",
     "text": [
      "1\n",
      "3\n",
      "6\n",
      "10\n",
      "15\n",
      "21\n",
      "28\n",
      "36\n",
      "45\n",
      "55\n"
     ]
    }
   ],
   "source": [
    "list_sum = 0\n",
    "\n",
    "for num in my_list:\n",
    "    list_sum = list_sum + num\n",
    "    print(list_sum);"
   ]
  },
  {
   "cell_type": "code",
   "execution_count": 40,
   "id": "cb89cd83",
   "metadata": {},
   "outputs": [
    {
     "name": "stdout",
     "output_type": "stream",
     "text": [
      "1\n",
      "3\n",
      "6\n",
      "10\n",
      "15\n",
      "21\n",
      "28\n",
      "36\n",
      "45\n",
      "55\n"
     ]
    }
   ],
   "source": [
    "list_sum = 0\n",
    "\n",
    "for num in my_list:\n",
    "    list_sum += num\n",
    "    print(list_sum);"
   ]
  },
  {
   "cell_type": "code",
   "execution_count": 15,
   "id": "e4a029dc",
   "metadata": {},
   "outputs": [
    {
     "name": "stdout",
     "output_type": "stream",
     "text": [
      "H\n",
      "e\n",
      "l\n",
      "l\n",
      "o\n",
      " \n",
      "W\n",
      "o\n",
      "r\n",
      "l\n",
      "d\n"
     ]
    }
   ],
   "source": [
    "my_string = \"Hello World\"\n",
    "\n",
    "for letter in my_string:\n",
    "    print(letter);"
   ]
  },
  {
   "cell_type": "code",
   "execution_count": 17,
   "id": "4087ee30",
   "metadata": {},
   "outputs": [
    {
     "name": "stdout",
     "output_type": "stream",
     "text": [
      "H\n",
      "e\n",
      "l\n",
      "l\n",
      "o\n",
      " \n",
      "W\n",
      "o\n",
      "r\n",
      "l\n",
      "d\n"
     ]
    }
   ],
   "source": [
    "for pizza in 'Hello World':\n",
    "    print(pizza);"
   ]
  },
  {
   "cell_type": "code",
   "execution_count": 18,
   "id": "adb57d10",
   "metadata": {},
   "outputs": [
    {
     "name": "stdout",
     "output_type": "stream",
     "text": [
      " i love sausage\n",
      " i love sausage\n",
      " i love sausage\n",
      " i love sausage\n",
      " i love sausage\n",
      " i love sausage\n",
      " i love sausage\n",
      " i love sausage\n",
      " i love sausage\n",
      " i love sausage\n",
      " i love sausage\n"
     ]
    }
   ],
   "source": [
    "for pizza in 'Hello World':\n",
    "    print(\" i love sausage\");"
   ]
  },
  {
   "cell_type": "code",
   "execution_count": 19,
   "id": "16ae6309",
   "metadata": {},
   "outputs": [
    {
     "name": "stdout",
     "output_type": "stream",
     "text": [
      " i love sausage\n",
      " i love sausage\n",
      " i love sausage\n",
      " i love sausage\n",
      " i love sausage\n",
      " i love sausage\n",
      " i love sausage\n",
      " i love sausage\n",
      " i love sausage\n",
      " i love sausage\n",
      " i love sausage\n"
     ]
    }
   ],
   "source": [
    "for _ in 'Hello World':\n",
    "    print(\" i love sausage\");"
   ]
  },
  {
   "cell_type": "code",
   "execution_count": null,
   "id": "bbc668be",
   "metadata": {},
   "outputs": [],
   "source": [
    "#iterate through tupples"
   ]
  },
  {
   "cell_type": "code",
   "execution_count": 34,
   "id": "8e1fcf95",
   "metadata": {},
   "outputs": [
    {
     "name": "stdout",
     "output_type": "stream",
     "text": [
      "1\n",
      "2\n",
      "3\n"
     ]
    }
   ],
   "source": [
    "tup = (1,2,3)\n",
    "\n",
    "for item in tup:\n",
    "    print(item);"
   ]
  },
  {
   "cell_type": "code",
   "execution_count": 21,
   "id": "f6bc606f",
   "metadata": {},
   "outputs": [],
   "source": [
    "second_list = [(1,2), (3,4), (5,6), (7,8)]"
   ]
  },
  {
   "cell_type": "code",
   "execution_count": 22,
   "id": "5cd58af9",
   "metadata": {},
   "outputs": [
    {
     "data": {
      "text/plain": [
       "4"
      ]
     },
     "execution_count": 22,
     "metadata": {},
     "output_type": "execute_result"
    }
   ],
   "source": [
    "len(second_list)"
   ]
  },
  {
   "cell_type": "code",
   "execution_count": 24,
   "id": "1fb910c5",
   "metadata": {},
   "outputs": [
    {
     "name": "stdout",
     "output_type": "stream",
     "text": [
      "(1, 2)\n",
      "(3, 4)\n",
      "(5, 6)\n",
      "(7, 8)\n"
     ]
    }
   ],
   "source": [
    "for item in second_list:\n",
    "    print(item);"
   ]
  },
  {
   "cell_type": "code",
   "execution_count": 25,
   "id": "8da61546",
   "metadata": {},
   "outputs": [
    {
     "name": "stdout",
     "output_type": "stream",
     "text": [
      "1\n",
      "2\n",
      "3\n",
      "4\n",
      "5\n",
      "6\n",
      "7\n",
      "8\n"
     ]
    }
   ],
   "source": [
    "#tupple unpacking\n",
    "for (a,b) in second_list:\n",
    "    print(a)\n",
    "    print(b);"
   ]
  },
  {
   "cell_type": "code",
   "execution_count": 26,
   "id": "32e21b0d",
   "metadata": {},
   "outputs": [
    {
     "name": "stdout",
     "output_type": "stream",
     "text": [
      "1\n",
      "3\n",
      "5\n",
      "7\n"
     ]
    }
   ],
   "source": [
    "for (a,b) in second_list:\n",
    "    print(a);"
   ]
  },
  {
   "cell_type": "code",
   "execution_count": 28,
   "id": "5bfbf298",
   "metadata": {},
   "outputs": [
    {
     "name": "stdout",
     "output_type": "stream",
     "text": [
      "2\n",
      "4\n",
      "6\n",
      "8\n"
     ]
    }
   ],
   "source": [
    "# don't need the parenthesis around the structure\n",
    "for a,b in second_list:\n",
    "    print(b);"
   ]
  },
  {
   "cell_type": "code",
   "execution_count": 29,
   "id": "fd936815",
   "metadata": {},
   "outputs": [],
   "source": [
    "third_list = [(1,2,3), (5,6,7), (8,9,10)]"
   ]
  },
  {
   "cell_type": "code",
   "execution_count": 30,
   "id": "a1c9afdb",
   "metadata": {},
   "outputs": [
    {
     "name": "stdout",
     "output_type": "stream",
     "text": [
      "(1, 2, 3)\n",
      "(5, 6, 7)\n",
      "(8, 9, 10)\n"
     ]
    }
   ],
   "source": [
    "for item in third_list:\n",
    "    print(item);"
   ]
  },
  {
   "cell_type": "code",
   "execution_count": 31,
   "id": "4d14d6b9",
   "metadata": {},
   "outputs": [
    {
     "name": "stdout",
     "output_type": "stream",
     "text": [
      "1\n",
      "2\n",
      "3\n",
      "5\n",
      "6\n",
      "7\n",
      "8\n",
      "9\n",
      "10\n"
     ]
    }
   ],
   "source": [
    "for a,b,c in third_list:\n",
    "    print(a)\n",
    "    print(b)\n",
    "    print(c);"
   ]
  },
  {
   "cell_type": "code",
   "execution_count": 32,
   "id": "051c47d9",
   "metadata": {},
   "outputs": [
    {
     "name": "stdout",
     "output_type": "stream",
     "text": [
      "2\n",
      "6\n",
      "9\n"
     ]
    }
   ],
   "source": [
    "for a,b,c in third_list:\n",
    "    print(b);"
   ]
  },
  {
   "cell_type": "code",
   "execution_count": 33,
   "id": "15221b03",
   "metadata": {},
   "outputs": [],
   "source": [
    "#how to iterate through a dictionanry "
   ]
  },
  {
   "cell_type": "code",
   "execution_count": 35,
   "id": "14a862a5",
   "metadata": {},
   "outputs": [
    {
     "name": "stdout",
     "output_type": "stream",
     "text": [
      "k1\n",
      "k2\n",
      "k3\n"
     ]
    }
   ],
   "source": [
    "d = {'k1':1, 'k2':2, 'k3':3}\n",
    "\n",
    "for item in d:\n",
    "    print(item);"
   ]
  },
  {
   "cell_type": "code",
   "execution_count": 36,
   "id": "202e1851",
   "metadata": {},
   "outputs": [
    {
     "name": "stdout",
     "output_type": "stream",
     "text": [
      "('k1', 1)\n",
      "('k2', 2)\n",
      "('k3', 3)\n"
     ]
    }
   ],
   "source": [
    "d = {'k1':1, 'k2':2, 'k3':3}\n",
    "\n",
    "for item in d.items():\n",
    "    print(item);"
   ]
  },
  {
   "cell_type": "code",
   "execution_count": 37,
   "id": "00cadb51",
   "metadata": {},
   "outputs": [
    {
     "name": "stdout",
     "output_type": "stream",
     "text": [
      "1\n",
      "2\n",
      "3\n"
     ]
    }
   ],
   "source": [
    "d = {'k1':1, 'k2':2, 'k3':3}\n",
    "\n",
    "for key, value in d.items():\n",
    "    print(value);"
   ]
  },
  {
   "cell_type": "code",
   "execution_count": 38,
   "id": "6c689efe",
   "metadata": {},
   "outputs": [
    {
     "name": "stdout",
     "output_type": "stream",
     "text": [
      "1\n",
      "2\n",
      "3\n"
     ]
    }
   ],
   "source": [
    "d = {'k1':1, 'k2':2, 'k3':3}\n",
    "\n",
    "for value in d.values():\n",
    "    print(value);"
   ]
  },
  {
   "cell_type": "code",
   "execution_count": 39,
   "id": "0b318b0e",
   "metadata": {},
   "outputs": [
    {
     "data": {
      "text/plain": [
       "2"
      ]
     },
     "execution_count": 39,
     "metadata": {},
     "output_type": "execute_result"
    }
   ],
   "source": [
    "17 % 5"
   ]
  },
  {
   "cell_type": "code",
   "execution_count": 43,
   "id": "efcfd218",
   "metadata": {},
   "outputs": [
    {
     "data": {
      "text/plain": [
       "['k1', 'k2', 'k3']"
      ]
     },
     "execution_count": 43,
     "metadata": {},
     "output_type": "execute_result"
    }
   ],
   "source": [
    "#to obtain a true list of keys, values, or key/value tuples you can cast the view as a list\n",
    "list(d.keys())"
   ]
  },
  {
   "cell_type": "code",
   "execution_count": 48,
   "id": "b5a25e75",
   "metadata": {},
   "outputs": [
    {
     "data": {
      "text/plain": [
       "[1, 2, 3]"
      ]
     },
     "execution_count": 48,
     "metadata": {},
     "output_type": "execute_result"
    }
   ],
   "source": [
    "#dictionaries are unordered, and that keys and values come back in arbitrary order. You can obtain a \n",
    "#sorted list using sorted():\n",
    "\n",
    "sorted(d.values())\n"
   ]
  },
  {
   "cell_type": "code",
   "execution_count": 45,
   "id": "78dcf4e0",
   "metadata": {},
   "outputs": [
    {
     "data": {
      "text/plain": [
       "['k1', 'k2', 'k3']"
      ]
     },
     "execution_count": 45,
     "metadata": {},
     "output_type": "execute_result"
    }
   ],
   "source": [
    "sorted(d.keys())"
   ]
  },
  {
   "cell_type": "code",
   "execution_count": 47,
   "id": "f3527389",
   "metadata": {},
   "outputs": [
    {
     "data": {
      "text/plain": [
       "[('k1', 1), ('k2', 2), ('k3', 3)]"
      ]
     },
     "execution_count": 47,
     "metadata": {},
     "output_type": "execute_result"
    }
   ],
   "source": [
    "sorted(d.items())"
   ]
  },
  {
   "cell_type": "markdown",
   "id": "e48b5537",
   "metadata": {},
   "source": [
    "# iterating_var in sequence"
   ]
  },
  {
   "cell_type": "code",
   "execution_count": 50,
   "id": "2ec8c6fd",
   "metadata": {},
   "outputs": [
    {
     "name": "stdout",
     "output_type": "stream",
     "text": [
      "Current Letter : P\n",
      "Current Letter : y\n",
      "Current Letter : t\n",
      "Current Letter : h\n",
      "Current Letter : o\n",
      "Current Letter : n\n"
     ]
    }
   ],
   "source": [
    "for letter in 'Python':\n",
    "    print('Current Letter :', letter);"
   ]
  },
  {
   "cell_type": "code",
   "execution_count": 52,
   "id": "824d8bd9",
   "metadata": {},
   "outputs": [
    {
     "name": "stdout",
     "output_type": "stream",
     "text": [
      "Current fruit : banana\n",
      "Current fruit : apple\n",
      "Current fruit : mango\n"
     ]
    }
   ],
   "source": [
    "fruits = ['banana', 'apple',  'mango']\n",
    "\n",
    "for fruit in fruits:\n",
    "    print('Current fruit :', fruit);"
   ]
  },
  {
   "cell_type": "code",
   "execution_count": 53,
   "id": "f1b486cc",
   "metadata": {},
   "outputs": [
    {
     "name": "stdout",
     "output_type": "stream",
     "text": [
      "Good bye!\n"
     ]
    }
   ],
   "source": [
    "print(\"Good bye!\");"
   ]
  },
  {
   "cell_type": "markdown",
   "id": "82c2ae1b",
   "metadata": {},
   "source": [
    "# Iterating by Sequence Index"
   ]
  },
  {
   "cell_type": "code",
   "execution_count": 56,
   "id": "3c30535a",
   "metadata": {},
   "outputs": [
    {
     "name": "stdout",
     "output_type": "stream",
     "text": [
      "Current fruit : ['banana', 'apple', 'mango']\n",
      "Current fruit : ['banana', 'apple', 'mango']\n",
      "Current fruit : ['banana', 'apple', 'mango']\n",
      "Good bye!\n"
     ]
    }
   ],
   "source": [
    "fruits = ['banana', 'apple',  'mango']\n",
    "for index in range(len(fruits)):\n",
    "   print('Current fruit :', fruits)\n",
    "\n",
    "print(\"Good bye!\")"
   ]
  },
  {
   "cell_type": "code",
   "execution_count": 57,
   "id": "bc393631",
   "metadata": {},
   "outputs": [
    {
     "name": "stdout",
     "output_type": "stream",
     "text": [
      "Current fruit : banana\n",
      "Current fruit : apple\n",
      "Current fruit : mango\n",
      "Good bye!\n"
     ]
    }
   ],
   "source": [
    "fruits = ['banana', 'apple',  'mango']\n",
    "for index in range(len(fruits)):\n",
    "   print('Current fruit :', fruits[index])\n",
    "\n",
    "print(\"Good bye!\")"
   ]
  },
  {
   "cell_type": "markdown",
   "id": "6ad30093",
   "metadata": {},
   "source": [
    "# Using else Statement with For Loop"
   ]
  },
  {
   "cell_type": "markdown",
   "id": "f03e34ad",
   "metadata": {},
   "source": [
    "If the else statement is used with a for loop, the else statement is executed when the loop has exhausted iterating the list."
   ]
  },
  {
   "cell_type": "markdown",
   "id": "45e6af84",
   "metadata": {},
   "source": [
    "The following example illustrates the combination of an else statement with a for statement that searches for prime numbers from 10 through 20."
   ]
  },
  {
   "cell_type": "code",
   "execution_count": 71,
   "id": "b0ab0cb9",
   "metadata": {},
   "outputs": [
    {
     "name": "stdout",
     "output_type": "stream",
     "text": [
      "10 equals 2 * 5\n",
      "11 is a prime number\n",
      "12 equals 2 * 6\n",
      "13 is a prime number\n",
      "14 equals 2 * 7\n",
      "15 equals 3 * 5\n",
      "16 equals 2 * 8\n",
      "17 is a prime number\n",
      "18 equals 2 * 9\n",
      "19 is a prime number\n"
     ]
    }
   ],
   "source": [
    "for num in range(10,20):     #to iterate between 10 to 20\n",
    "   for i in range(2,num):    #to iterate on the factors of the number\n",
    "      if num%i == 0:         #to determine the first factor\n",
    "         j=num/i             #to calculate the second factor\n",
    "         print('%d equals %d * %d' % (num,i,j))\n",
    "         break #to move to the next number, the #first FOR\n",
    "   else:                  # else part of the loop\n",
    "      print(num, 'is a prime number')"
   ]
  },
  {
   "cell_type": "code",
   "execution_count": 72,
   "id": "98ae9329",
   "metadata": {},
   "outputs": [
    {
     "name": "stdout",
     "output_type": "stream",
     "text": [
      "10 equals 2 * 5\n",
      "10 equals 5 * 2\n",
      "10 is a prime number\n",
      "11 is a prime number\n",
      "12 equals 2 * 6\n",
      "12 equals 3 * 4\n",
      "12 equals 4 * 3\n",
      "12 equals 6 * 2\n",
      "12 is a prime number\n",
      "13 is a prime number\n",
      "14 equals 2 * 7\n",
      "14 equals 7 * 2\n",
      "14 is a prime number\n",
      "15 equals 3 * 5\n",
      "15 equals 5 * 3\n",
      "15 is a prime number\n",
      "16 equals 2 * 8\n",
      "16 equals 4 * 4\n",
      "16 equals 8 * 2\n",
      "16 is a prime number\n",
      "17 is a prime number\n",
      "18 equals 2 * 9\n",
      "18 equals 3 * 6\n",
      "18 equals 6 * 3\n",
      "18 equals 9 * 2\n",
      "18 is a prime number\n",
      "19 is a prime number\n"
     ]
    }
   ],
   "source": [
    "for num in range(10,20):     #to iterate between 10 to 20\n",
    "   for i in range(2,num):    #to iterate on the factors of the number\n",
    "      if num%i == 0:         #to determine the first factor\n",
    "         j=num/i             #to calculate the second factor\n",
    "         print('%d equals %d * %d' % (num,i,j))\n",
    "   else:                  # else part of the loop\n",
    "      print(num, 'is a prime number')"
   ]
  },
  {
   "cell_type": "code",
   "execution_count": null,
   "id": "0affb997",
   "metadata": {},
   "outputs": [],
   "source": []
  }
 ],
 "metadata": {
  "kernelspec": {
   "display_name": "Python 3 (ipykernel)",
   "language": "python",
   "name": "python3"
  },
  "language_info": {
   "codemirror_mode": {
    "name": "ipython",
    "version": 3
   },
   "file_extension": ".py",
   "mimetype": "text/x-python",
   "name": "python",
   "nbconvert_exporter": "python",
   "pygments_lexer": "ipython3",
   "version": "3.9.7"
  }
 },
 "nbformat": 4,
 "nbformat_minor": 5
}
