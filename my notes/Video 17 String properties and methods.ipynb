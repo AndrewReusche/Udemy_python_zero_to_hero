{
 "cells": [
  {
   "cell_type": "code",
   "execution_count": 1,
   "id": "46101689",
   "metadata": {},
   "outputs": [],
   "source": [
    "name = 'Sam'"
   ]
  },
  {
   "cell_type": "code",
   "execution_count": 3,
   "id": "602940f1",
   "metadata": {},
   "outputs": [],
   "source": [
    "# name[0] = 'P'"
   ]
  },
  {
   "cell_type": "code",
   "execution_count": 5,
   "id": "9e11f83b",
   "metadata": {},
   "outputs": [],
   "source": [
    "last_letters = name[1:]"
   ]
  },
  {
   "cell_type": "code",
   "execution_count": 6,
   "id": "7d471110",
   "metadata": {},
   "outputs": [
    {
     "data": {
      "text/plain": [
       "'am'"
      ]
     },
     "execution_count": 6,
     "metadata": {},
     "output_type": "execute_result"
    }
   ],
   "source": [
    "last_letters"
   ]
  },
  {
   "cell_type": "code",
   "execution_count": 7,
   "id": "8210f86f",
   "metadata": {},
   "outputs": [
    {
     "data": {
      "text/plain": [
       "'Pam'"
      ]
     },
     "execution_count": 7,
     "metadata": {},
     "output_type": "execute_result"
    }
   ],
   "source": [
    "'P' + last_letters"
   ]
  },
  {
   "cell_type": "code",
   "execution_count": 8,
   "id": "f435231b",
   "metadata": {},
   "outputs": [],
   "source": [
    "X = 'Hello World'"
   ]
  },
  {
   "cell_type": "code",
   "execution_count": 11,
   "id": "e878ce2f",
   "metadata": {},
   "outputs": [],
   "source": [
    "X = X + ' it is beautiful outside'"
   ]
  },
  {
   "cell_type": "code",
   "execution_count": 12,
   "id": "ae8c09d5",
   "metadata": {},
   "outputs": [
    {
     "data": {
      "text/plain": [
       "'Hello World it is beautiful outside'"
      ]
     },
     "execution_count": 12,
     "metadata": {},
     "output_type": "execute_result"
    }
   ],
   "source": [
    "X"
   ]
  },
  {
   "cell_type": "code",
   "execution_count": 13,
   "id": "1d878c0d",
   "metadata": {},
   "outputs": [],
   "source": [
    "letter = 'z'"
   ]
  },
  {
   "cell_type": "code",
   "execution_count": 14,
   "id": "64df0635",
   "metadata": {},
   "outputs": [
    {
     "data": {
      "text/plain": [
       "'zzzzzzzzzz'"
      ]
     },
     "execution_count": 14,
     "metadata": {},
     "output_type": "execute_result"
    }
   ],
   "source": [
    "letter * 10"
   ]
  },
  {
   "cell_type": "code",
   "execution_count": 30,
   "id": "af6851c8",
   "metadata": {},
   "outputs": [],
   "source": [
    "trainer1_remarkA = 'Gotta Run, '"
   ]
  },
  {
   "cell_type": "code",
   "execution_count": 34,
   "id": "5215a2eb",
   "metadata": {},
   "outputs": [],
   "source": [
    "Trainer_loss_reaction = trainer1_remarkA * 4 + 'BYYYYYY'"
   ]
  },
  {
   "cell_type": "code",
   "execution_count": 19,
   "id": "aac28101",
   "metadata": {},
   "outputs": [
    {
     "data": {
      "text/plain": [
       "5"
      ]
     },
     "execution_count": 19,
     "metadata": {},
     "output_type": "execute_result"
    }
   ],
   "source": [
    "2 + 3"
   ]
  },
  {
   "cell_type": "code",
   "execution_count": 20,
   "id": "6df67323",
   "metadata": {},
   "outputs": [
    {
     "data": {
      "text/plain": [
       "'23'"
      ]
     },
     "execution_count": 20,
     "metadata": {},
     "output_type": "execute_result"
    }
   ],
   "source": [
    "'2' + '3'"
   ]
  },
  {
   "cell_type": "code",
   "execution_count": 25,
   "id": "98df8063",
   "metadata": {},
   "outputs": [],
   "source": [
    "X = 'Hello World'"
   ]
  },
  {
   "cell_type": "code",
   "execution_count": 33,
   "id": "34762d56",
   "metadata": {},
   "outputs": [
    {
     "data": {
      "text/plain": [
       "'HELLO WORLD'"
      ]
     },
     "execution_count": 33,
     "metadata": {},
     "output_type": "execute_result"
    }
   ],
   "source": [
    "X.upper()"
   ]
  },
  {
   "cell_type": "code",
   "execution_count": 36,
   "id": "a04bf98e",
   "metadata": {},
   "outputs": [
    {
     "data": {
      "text/plain": [
       "'Gotta Run, Gotta Run, Gotta Run, Gotta Run, BYYYYYY'"
      ]
     },
     "execution_count": 36,
     "metadata": {},
     "output_type": "execute_result"
    }
   ],
   "source": [
    "Trainer_loss_reaction"
   ]
  },
  {
   "cell_type": "code",
   "execution_count": 37,
   "id": "56caa381",
   "metadata": {},
   "outputs": [
    {
     "data": {
      "text/plain": [
       "'GOTTA RUN, GOTTA RUN, GOTTA RUN, GOTTA RUN, BYYYYYY'"
      ]
     },
     "execution_count": 37,
     "metadata": {},
     "output_type": "execute_result"
    }
   ],
   "source": [
    "Trainer_loss_reaction.upper()"
   ]
  },
  {
   "cell_type": "code",
   "execution_count": 38,
   "id": "f9e639bb",
   "metadata": {},
   "outputs": [
    {
     "data": {
      "text/plain": [
       "'hello world'"
      ]
     },
     "execution_count": 38,
     "metadata": {},
     "output_type": "execute_result"
    }
   ],
   "source": [
    "X.lower()"
   ]
  },
  {
   "cell_type": "code",
   "execution_count": 40,
   "id": "9c01d1a7",
   "metadata": {},
   "outputs": [
    {
     "data": {
      "text/plain": [
       "['Hello', 'World']"
      ]
     },
     "execution_count": 40,
     "metadata": {},
     "output_type": "execute_result"
    }
   ],
   "source": [
    "X.split()"
   ]
  },
  {
   "cell_type": "code",
   "execution_count": 42,
   "id": "ab615347",
   "metadata": {},
   "outputs": [],
   "source": [
    "TLR_String = Trainer_loss_reaction.split()"
   ]
  },
  {
   "cell_type": "code",
   "execution_count": 46,
   "id": "ae9269af",
   "metadata": {},
   "outputs": [
    {
     "data": {
      "text/plain": [
       "['Gotta', 'Run,', 'Gotta', 'Run,', 'Gotta', 'Run,', 'Gotta', 'Run,', 'BYYYYYY']"
      ]
     },
     "execution_count": 46,
     "metadata": {},
     "output_type": "execute_result"
    }
   ],
   "source": [
    "TLR_String"
   ]
  },
  {
   "cell_type": "code",
   "execution_count": 53,
   "id": "c455ba3c",
   "metadata": {},
   "outputs": [
    {
     "data": {
      "text/plain": [
       "['Run,', 'Run,', 'Run,', 'Run,']"
      ]
     },
     "execution_count": 53,
     "metadata": {},
     "output_type": "execute_result"
    }
   ],
   "source": [
    "TLR_String[1::2]"
   ]
  },
  {
   "cell_type": "code",
   "execution_count": 54,
   "id": "e7c1c9e8",
   "metadata": {},
   "outputs": [],
   "source": [
    "x = 'Hi this is a string'"
   ]
  },
  {
   "cell_type": "code",
   "execution_count": 55,
   "id": "da2ebea7",
   "metadata": {},
   "outputs": [
    {
     "data": {
      "text/plain": [
       "['Hi', 'this', 'is', 'a', 'string']"
      ]
     },
     "execution_count": 55,
     "metadata": {},
     "output_type": "execute_result"
    }
   ],
   "source": [
    "x.split()"
   ]
  },
  {
   "cell_type": "code",
   "execution_count": 56,
   "id": "e42a37de",
   "metadata": {},
   "outputs": [
    {
     "data": {
      "text/plain": [
       "['H', ' th', 's ', 's a str', 'ng']"
      ]
     },
     "execution_count": 56,
     "metadata": {},
     "output_type": "execute_result"
    }
   ],
   "source": [
    "x.split('i')"
   ]
  },
  {
   "cell_type": "code",
   "execution_count": null,
   "id": "ab613908",
   "metadata": {},
   "outputs": [],
   "source": []
  }
 ],
 "metadata": {
  "kernelspec": {
   "display_name": "Python 3 (ipykernel)",
   "language": "python",
   "name": "python3"
  },
  "language_info": {
   "codemirror_mode": {
    "name": "ipython",
    "version": 3
   },
   "file_extension": ".py",
   "mimetype": "text/x-python",
   "name": "python",
   "nbconvert_exporter": "python",
   "pygments_lexer": "ipython3",
   "version": "3.9.7"
  }
 },
 "nbformat": 4,
 "nbformat_minor": 5
}
