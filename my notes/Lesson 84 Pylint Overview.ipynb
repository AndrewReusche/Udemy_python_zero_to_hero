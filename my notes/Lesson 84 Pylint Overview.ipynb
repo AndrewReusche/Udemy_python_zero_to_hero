{
 "cells": [
  {
   "cell_type": "code",
   "execution_count": 1,
   "id": "cda06de6",
   "metadata": {},
   "outputs": [],
   "source": [
    "#unit testing "
   ]
  },
  {
   "cell_type": "code",
   "execution_count": 2,
   "id": "ac46ccb8",
   "metadata": {},
   "outputs": [],
   "source": [
    "#two different kinds of testing tools"
   ]
  },
  {
   "cell_type": "code",
   "execution_count": 3,
   "id": "6011eb48",
   "metadata": {},
   "outputs": [],
   "source": [
    "#1) pylint: this is a library that looks at your code and reposrts back possible issues"
   ]
  },
  {
   "cell_type": "code",
   "execution_count": 4,
   "id": "51982cb3",
   "metadata": {},
   "outputs": [],
   "source": [
    "#2) unittest: this is a built in library that will allow you to test your own programs and check if \n",
    "#you are getting the desired outputs"
   ]
  },
  {
   "cell_type": "code",
   "execution_count": 5,
   "id": "e02d5810",
   "metadata": {},
   "outputs": [],
   "source": [
    "#python has a set of style convention rulesa known as PEP 8"
   ]
  },
  {
   "cell_type": "code",
   "execution_count": 6,
   "id": "d3611c85",
   "metadata": {},
   "outputs": [],
   "source": [
    "#pylint simple1.py -r y"
   ]
  },
  {
   "cell_type": "code",
   "execution_count": null,
   "id": "e6740292",
   "metadata": {},
   "outputs": [],
   "source": []
  }
 ],
 "metadata": {
  "kernelspec": {
   "display_name": "Python 3 (ipykernel)",
   "language": "python",
   "name": "python3"
  },
  "language_info": {
   "codemirror_mode": {
    "name": "ipython",
    "version": 3
   },
   "file_extension": ".py",
   "mimetype": "text/x-python",
   "name": "python",
   "nbconvert_exporter": "python",
   "pygments_lexer": "ipython3",
   "version": "3.9.7"
  }
 },
 "nbformat": 4,
 "nbformat_minor": 5
}
