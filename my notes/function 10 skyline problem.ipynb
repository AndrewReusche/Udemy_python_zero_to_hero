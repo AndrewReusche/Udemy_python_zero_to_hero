{
 "cells": [
  {
   "cell_type": "code",
   "execution_count": null,
   "id": "a9336901",
   "metadata": {},
   "outputs": [],
   "source": []
  },
  {
   "cell_type": "code",
   "execution_count": 1,
   "id": "fdab1e07",
   "metadata": {},
   "outputs": [],
   "source": [
    "def myfunc(args):\n",
    "    case_string=[]\n",
    "    for i, letter in enumerate(args):\n",
    "       if i%2 == 0:\n",
    "           case_string.append(args[i].upper())\n",
    "       else:\n",
    "            case_string.append(args[i].lower())\n",
    "    return ''.join(case_string)"
   ]
  },
  {
   "cell_type": "code",
   "execution_count": 2,
   "id": "be0ab510",
   "metadata": {},
   "outputs": [
    {
     "data": {
      "text/plain": [
       "'AnThRoPoMoRpHiSm'"
      ]
     },
     "execution_count": 2,
     "metadata": {},
     "output_type": "execute_result"
    }
   ],
   "source": [
    "myfunc('Anthropomorphism')"
   ]
  },
  {
   "cell_type": "code",
   "execution_count": 3,
   "id": "944ae126",
   "metadata": {},
   "outputs": [],
   "source": [
    "def myfunc(args):\n",
    "    case_string=[]\n",
    "    for i, letter in enumerate(args):\n",
    "       if i%2 == 0:\n",
    "           case_string.append(args[i].upper())\n",
    "       else:\n",
    "            case_string.append(args[i].lower())\n",
    "    return case_string"
   ]
  },
  {
   "cell_type": "code",
   "execution_count": 4,
   "id": "6787b21c",
   "metadata": {},
   "outputs": [
    {
     "data": {
      "text/plain": [
       "['A',\n",
       " 'n',\n",
       " 'T',\n",
       " 'h',\n",
       " 'R',\n",
       " 'o',\n",
       " 'P',\n",
       " 'o',\n",
       " 'M',\n",
       " 'o',\n",
       " 'R',\n",
       " 'p',\n",
       " 'H',\n",
       " 'i',\n",
       " 'S',\n",
       " 'm']"
      ]
     },
     "execution_count": 4,
     "metadata": {},
     "output_type": "execute_result"
    }
   ],
   "source": [
    "myfunc('Anthropomorphism')"
   ]
  },
  {
   "cell_type": "code",
   "execution_count": 9,
   "id": "43459071",
   "metadata": {},
   "outputs": [],
   "source": [
    "def myfunc(args):\n",
    "    case_string=[]\n",
    "    for i, letter in enumerate(args):\n",
    "       if i%2 == 0:\n",
    "           case_string.append(args[i].upper())\n",
    "       else:\n",
    "            case_string.append(args[i].lower())\n",
    "    return ''.join(case_string)"
   ]
  },
  {
   "cell_type": "code",
   "execution_count": 13,
   "id": "199bf1f6",
   "metadata": {},
   "outputs": [
    {
     "data": {
      "text/plain": [
       "'AnThRoPoMoRpHiSm'"
      ]
     },
     "execution_count": 13,
     "metadata": {},
     "output_type": "execute_result"
    }
   ],
   "source": [
    "myfunc('Anthropomorphism')"
   ]
  },
  {
   "cell_type": "code",
   "execution_count": null,
   "id": "f9778e6e",
   "metadata": {},
   "outputs": [],
   "source": []
  }
 ],
 "metadata": {
  "kernelspec": {
   "display_name": "Python 3 (ipykernel)",
   "language": "python",
   "name": "python3"
  },
  "language_info": {
   "codemirror_mode": {
    "name": "ipython",
    "version": 3
   },
   "file_extension": ".py",
   "mimetype": "text/x-python",
   "name": "python",
   "nbconvert_exporter": "python",
   "pygments_lexer": "ipython3",
   "version": "3.9.7"
  }
 },
 "nbformat": 4,
 "nbformat_minor": 5
}
