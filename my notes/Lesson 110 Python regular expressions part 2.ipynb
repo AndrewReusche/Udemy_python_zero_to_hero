{
 "cells": [
  {
   "cell_type": "code",
   "execution_count": 1,
   "id": "9b336107",
   "metadata": {},
   "outputs": [],
   "source": [
    "# \\d     a digit      file_\\d\\d      file_25"
   ]
  },
  {
   "cell_type": "code",
   "execution_count": 2,
   "id": "1e263965",
   "metadata": {},
   "outputs": [],
   "source": [
    "# \\w     alphanumeric     \\w-\\w\\w\\w    A-b_1"
   ]
  },
  {
   "cell_type": "code",
   "execution_count": 3,
   "id": "613015b8",
   "metadata": {},
   "outputs": [],
   "source": [
    "# \\s     white space     a\\sb\\sc     a b c "
   ]
  },
  {
   "cell_type": "code",
   "execution_count": 4,
   "id": "be6161ee",
   "metadata": {},
   "outputs": [],
   "source": [
    "# \\D    A non digt      \\D\\D\\D      ABC"
   ]
  },
  {
   "cell_type": "code",
   "execution_count": 5,
   "id": "a9a2a041",
   "metadata": {},
   "outputs": [],
   "source": [
    "# \\W     non-alphanumeric     \\W\\W\\w\\W\\W     *-+=)"
   ]
  },
  {
   "cell_type": "code",
   "execution_count": 6,
   "id": "007a81b8",
   "metadata": {},
   "outputs": [],
   "source": [
    "# \\S    Non-whitespace     \\S\\S\\S\\S   Yoyo"
   ]
  },
  {
   "cell_type": "code",
   "execution_count": 7,
   "id": "241d5998",
   "metadata": {},
   "outputs": [],
   "source": [
    "text = 'my phone number is 408-555-1234'"
   ]
  },
  {
   "cell_type": "code",
   "execution_count": 8,
   "id": "5413effd",
   "metadata": {},
   "outputs": [],
   "source": [
    "import re"
   ]
  },
  {
   "cell_type": "code",
   "execution_count": 13,
   "id": "41d396ed",
   "metadata": {},
   "outputs": [
    {
     "data": {
      "text/plain": [
       "<re.Match object; span=(19, 31), match='408-555-1234'>"
      ]
     },
     "execution_count": 13,
     "metadata": {},
     "output_type": "execute_result"
    }
   ],
   "source": [
    "re.search(r'\\d{3}-\\d{3}-\\d{4}',text)"
   ]
  },
  {
   "cell_type": "code",
   "execution_count": 14,
   "id": "81d6b45b",
   "metadata": {},
   "outputs": [],
   "source": [
    "phone = re.search(r'\\d{3}-\\d{3}-\\d{4}',text)"
   ]
  },
  {
   "cell_type": "code",
   "execution_count": 15,
   "id": "437d9ea7",
   "metadata": {},
   "outputs": [
    {
     "data": {
      "text/plain": [
       "'408-555-1234'"
      ]
     },
     "execution_count": 15,
     "metadata": {},
     "output_type": "execute_result"
    }
   ],
   "source": [
    "phone.group()"
   ]
  },
  {
   "cell_type": "markdown",
   "id": "3dd8efed",
   "metadata": {},
   "source": [
    "quantifiers table"
   ]
  },
  {
   "cell_type": "code",
   "execution_count": 16,
   "id": "cb55b2b2",
   "metadata": {},
   "outputs": [],
   "source": [
    "# +    occurs one or more times     Version\\w-\\w+  VersionA-b1_1"
   ]
  },
  {
   "cell_type": "code",
   "execution_count": 17,
   "id": "cce146d3",
   "metadata": {},
   "outputs": [],
   "source": [
    "# {3}    occurs exactly 3 times   \\D{3}   abc"
   ]
  },
  {
   "cell_type": "code",
   "execution_count": 18,
   "id": "7f88e269",
   "metadata": {},
   "outputs": [],
   "source": [
    "# {2,4}    occurs 2 to 4 times     \\d{2,4}   1,2,3"
   ]
  },
  {
   "cell_type": "code",
   "execution_count": 19,
   "id": "3155ba71",
   "metadata": {},
   "outputs": [],
   "source": [
    "# {3,}     occurs 3 or more times    \\w{3,}    anycharacters"
   ]
  },
  {
   "cell_type": "code",
   "execution_count": 20,
   "id": "095b20d9",
   "metadata": {},
   "outputs": [],
   "source": [
    "# *    occurs zero or more times    A*B*  C*    AAACC"
   ]
  },
  {
   "cell_type": "code",
   "execution_count": 21,
   "id": "1daa7dfc",
   "metadata": {},
   "outputs": [],
   "source": [
    "# ?     once or more       plurals?    plural"
   ]
  },
  {
   "cell_type": "code",
   "execution_count": 22,
   "id": "371a430c",
   "metadata": {},
   "outputs": [],
   "source": [
    "phone_pattern = re.compile(\"(\\d{3})-(\\d{3})-(\\d{4})\")"
   ]
  },
  {
   "cell_type": "code",
   "execution_count": 24,
   "id": "16f6b2af",
   "metadata": {},
   "outputs": [],
   "source": [
    "results = re.search(phone_pattern, text)"
   ]
  },
  {
   "cell_type": "code",
   "execution_count": 25,
   "id": "7354e02b",
   "metadata": {},
   "outputs": [
    {
     "data": {
      "text/plain": [
       "'408-555-1234'"
      ]
     },
     "execution_count": 25,
     "metadata": {},
     "output_type": "execute_result"
    }
   ],
   "source": [
    "results.group()"
   ]
  },
  {
   "cell_type": "code",
   "execution_count": 26,
   "id": "23919972",
   "metadata": {},
   "outputs": [
    {
     "data": {
      "text/plain": [
       "'408'"
      ]
     },
     "execution_count": 26,
     "metadata": {},
     "output_type": "execute_result"
    }
   ],
   "source": [
    "results.group(1)"
   ]
  },
  {
   "cell_type": "code",
   "execution_count": null,
   "id": "03c52689",
   "metadata": {},
   "outputs": [],
   "source": []
  }
 ],
 "metadata": {
  "kernelspec": {
   "display_name": "Python 3 (ipykernel)",
   "language": "python",
   "name": "python3"
  },
  "language_info": {
   "codemirror_mode": {
    "name": "ipython",
    "version": 3
   },
   "file_extension": ".py",
   "mimetype": "text/x-python",
   "name": "python",
   "nbconvert_exporter": "python",
   "pygments_lexer": "ipython3",
   "version": "3.9.7"
  }
 },
 "nbformat": 4,
 "nbformat_minor": 5
}
