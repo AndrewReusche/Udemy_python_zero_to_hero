{
 "cells": [
  {
   "cell_type": "code",
   "execution_count": 1,
   "id": "0c0ca912",
   "metadata": {},
   "outputs": [],
   "source": [
    "s = 'hello world'"
   ]
  },
  {
   "cell_type": "code",
   "execution_count": 2,
   "id": "ae9cc4c4",
   "metadata": {},
   "outputs": [],
   "source": [
    "#to change case"
   ]
  },
  {
   "cell_type": "code",
   "execution_count": 3,
   "id": "c3e1204a",
   "metadata": {},
   "outputs": [
    {
     "data": {
      "text/plain": [
       "'Hello world'"
      ]
     },
     "execution_count": 3,
     "metadata": {},
     "output_type": "execute_result"
    }
   ],
   "source": [
    "s.capitalize()"
   ]
  },
  {
   "cell_type": "code",
   "execution_count": 5,
   "id": "47ffd17a",
   "metadata": {},
   "outputs": [
    {
     "data": {
      "text/plain": [
       "'HELLO WORLD'"
      ]
     },
     "execution_count": 5,
     "metadata": {},
     "output_type": "execute_result"
    }
   ],
   "source": [
    "s.upper()"
   ]
  },
  {
   "cell_type": "code",
   "execution_count": 6,
   "id": "684e12be",
   "metadata": {},
   "outputs": [
    {
     "data": {
      "text/plain": [
       "'hello world'"
      ]
     },
     "execution_count": 6,
     "metadata": {},
     "output_type": "execute_result"
    }
   ],
   "source": [
    "s.lower()"
   ]
  },
  {
   "cell_type": "code",
   "execution_count": 7,
   "id": "b3865243",
   "metadata": {},
   "outputs": [],
   "source": [
    "#location and counting methods"
   ]
  },
  {
   "cell_type": "code",
   "execution_count": 8,
   "id": "ea98036b",
   "metadata": {},
   "outputs": [],
   "source": [
    "#how to count how many there are of something in a string "
   ]
  },
  {
   "cell_type": "code",
   "execution_count": 9,
   "id": "b1633471",
   "metadata": {},
   "outputs": [
    {
     "data": {
      "text/plain": [
       "2"
      ]
     },
     "execution_count": 9,
     "metadata": {},
     "output_type": "execute_result"
    }
   ],
   "source": [
    "s.count('o')"
   ]
  },
  {
   "cell_type": "code",
   "execution_count": 12,
   "id": "a39afa2d",
   "metadata": {},
   "outputs": [],
   "source": [
    "#how to find the index of something in a string, will return the first instance of something "
   ]
  },
  {
   "cell_type": "code",
   "execution_count": 11,
   "id": "4e67b2ec",
   "metadata": {},
   "outputs": [
    {
     "data": {
      "text/plain": [
       "6"
      ]
     },
     "execution_count": 11,
     "metadata": {},
     "output_type": "execute_result"
    }
   ],
   "source": [
    "s.find('w')"
   ]
  },
  {
   "cell_type": "code",
   "execution_count": 13,
   "id": "2247ca65",
   "metadata": {},
   "outputs": [],
   "source": [
    "#formatiing methods"
   ]
  },
  {
   "cell_type": "code",
   "execution_count": 14,
   "id": "329205ba",
   "metadata": {},
   "outputs": [
    {
     "data": {
      "text/plain": [
       "'hello world'"
      ]
     },
     "execution_count": 14,
     "metadata": {},
     "output_type": "execute_result"
    }
   ],
   "source": [
    "s"
   ]
  },
  {
   "cell_type": "code",
   "execution_count": 15,
   "id": "130f647a",
   "metadata": {},
   "outputs": [
    {
     "data": {
      "text/plain": [
       "'zzzzhello worldzzzzz'"
      ]
     },
     "execution_count": 15,
     "metadata": {},
     "output_type": "execute_result"
    }
   ],
   "source": [
    "s.center(20,'z')"
   ]
  },
  {
   "cell_type": "code",
   "execution_count": 16,
   "id": "bcf9b5fa",
   "metadata": {},
   "outputs": [],
   "source": [
    "#how to center your string between something^"
   ]
  },
  {
   "cell_type": "code",
   "execution_count": 17,
   "id": "9299ed89",
   "metadata": {},
   "outputs": [],
   "source": [
    "#expand tabs method"
   ]
  },
  {
   "cell_type": "code",
   "execution_count": 18,
   "id": "3dd1f41d",
   "metadata": {},
   "outputs": [],
   "source": [
    "#example will print hello tab> hi"
   ]
  },
  {
   "cell_type": "code",
   "execution_count": 19,
   "id": "d060c2ae",
   "metadata": {},
   "outputs": [
    {
     "name": "stdout",
     "output_type": "stream",
     "text": [
      "hello\thi\n"
     ]
    }
   ],
   "source": [
    "print('hello\\thi')"
   ]
  },
  {
   "cell_type": "code",
   "execution_count": 20,
   "id": "787ba6a8",
   "metadata": {},
   "outputs": [],
   "source": [
    "#or"
   ]
  },
  {
   "cell_type": "code",
   "execution_count": 22,
   "id": "ba6eedc9",
   "metadata": {},
   "outputs": [
    {
     "data": {
      "text/plain": [
       "'hello   hi'"
      ]
     },
     "execution_count": 22,
     "metadata": {},
     "output_type": "execute_result"
    }
   ],
   "source": [
    "'hello\\thi'.expandtabs()"
   ]
  },
  {
   "cell_type": "code",
   "execution_count": 23,
   "id": "350d26e2",
   "metadata": {},
   "outputs": [],
   "source": [
    "#checks if string is some sort of case"
   ]
  },
  {
   "cell_type": "code",
   "execution_count": 24,
   "id": "9bdeb552",
   "metadata": {},
   "outputs": [],
   "source": [
    "s='hello'"
   ]
  },
  {
   "cell_type": "code",
   "execution_count": 25,
   "id": "2f55e4b9",
   "metadata": {},
   "outputs": [],
   "source": [
    "#checks if all characters in s are alphnumeric"
   ]
  },
  {
   "cell_type": "code",
   "execution_count": 27,
   "id": "ff231ee6",
   "metadata": {},
   "outputs": [
    {
     "data": {
      "text/plain": [
       "True"
      ]
     },
     "execution_count": 27,
     "metadata": {},
     "output_type": "execute_result"
    }
   ],
   "source": [
    "s.isalnum()\n"
   ]
  },
  {
   "cell_type": "code",
   "execution_count": 28,
   "id": "43781922",
   "metadata": {},
   "outputs": [],
   "source": [
    "#checks if they are all alphabetic"
   ]
  },
  {
   "cell_type": "code",
   "execution_count": 29,
   "id": "4577e780",
   "metadata": {},
   "outputs": [
    {
     "data": {
      "text/plain": [
       "True"
      ]
     },
     "execution_count": 29,
     "metadata": {},
     "output_type": "execute_result"
    }
   ],
   "source": [
    "s.isalpha()"
   ]
  },
  {
   "cell_type": "code",
   "execution_count": 30,
   "id": "113b937e",
   "metadata": {},
   "outputs": [
    {
     "data": {
      "text/plain": [
       "True"
      ]
     },
     "execution_count": 30,
     "metadata": {},
     "output_type": "execute_result"
    }
   ],
   "source": [
    "s.islower()"
   ]
  },
  {
   "cell_type": "code",
   "execution_count": 31,
   "id": "205db954",
   "metadata": {},
   "outputs": [
    {
     "data": {
      "text/plain": [
       "False"
      ]
     },
     "execution_count": 31,
     "metadata": {},
     "output_type": "execute_result"
    }
   ],
   "source": [
    "s.isupper()"
   ]
  },
  {
   "cell_type": "code",
   "execution_count": 36,
   "id": "ef0dff4d",
   "metadata": {},
   "outputs": [
    {
     "data": {
      "text/plain": [
       "True"
      ]
     },
     "execution_count": 36,
     "metadata": {},
     "output_type": "execute_result"
    }
   ],
   "source": [
    "'HELLO'.isupper()"
   ]
  },
  {
   "cell_type": "code",
   "execution_count": 32,
   "id": "3874bfa8",
   "metadata": {},
   "outputs": [],
   "source": [
    "#are all characters in s white space"
   ]
  },
  {
   "cell_type": "code",
   "execution_count": 33,
   "id": "1664a9e9",
   "metadata": {},
   "outputs": [
    {
     "data": {
      "text/plain": [
       "False"
      ]
     },
     "execution_count": 33,
     "metadata": {},
     "output_type": "execute_result"
    }
   ],
   "source": [
    "s.isspace()"
   ]
  },
  {
   "cell_type": "code",
   "execution_count": 34,
   "id": "62461d13",
   "metadata": {},
   "outputs": [],
   "source": [
    "#check if s is a title case string"
   ]
  },
  {
   "cell_type": "code",
   "execution_count": 35,
   "id": "02159b2d",
   "metadata": {},
   "outputs": [
    {
     "data": {
      "text/plain": [
       "False"
      ]
     },
     "execution_count": 35,
     "metadata": {},
     "output_type": "execute_result"
    }
   ],
   "source": [
    "s.istitle()"
   ]
  },
  {
   "cell_type": "code",
   "execution_count": 37,
   "id": "ad0f1f8e",
   "metadata": {},
   "outputs": [],
   "source": [
    "#checks to see if s ends with something"
   ]
  },
  {
   "cell_type": "code",
   "execution_count": 38,
   "id": "b9ec90bd",
   "metadata": {},
   "outputs": [
    {
     "data": {
      "text/plain": [
       "True"
      ]
     },
     "execution_count": 38,
     "metadata": {},
     "output_type": "execute_result"
    }
   ],
   "source": [
    "s.endswith('o')"
   ]
  },
  {
   "cell_type": "code",
   "execution_count": 39,
   "id": "edd57640",
   "metadata": {},
   "outputs": [],
   "source": [
    "#or you could do "
   ]
  },
  {
   "cell_type": "code",
   "execution_count": 40,
   "id": "941eeded",
   "metadata": {},
   "outputs": [
    {
     "data": {
      "text/plain": [
       "True"
      ]
     },
     "execution_count": 40,
     "metadata": {},
     "output_type": "execute_result"
    }
   ],
   "source": [
    "s[-1]=='o'"
   ]
  },
  {
   "cell_type": "code",
   "execution_count": 41,
   "id": "ed833c29",
   "metadata": {},
   "outputs": [],
   "source": [
    "#reuglar expressions opperations"
   ]
  },
  {
   "cell_type": "code",
   "execution_count": 42,
   "id": "950044d3",
   "metadata": {},
   "outputs": [
    {
     "data": {
      "text/plain": [
       "'hello'"
      ]
     },
     "execution_count": 42,
     "metadata": {},
     "output_type": "execute_result"
    }
   ],
   "source": [
    "s\n"
   ]
  },
  {
   "cell_type": "code",
   "execution_count": 46,
   "id": "3f352c8d",
   "metadata": {},
   "outputs": [],
   "source": [
    "#how to split your string at something, seperates at evert occurance"
   ]
  },
  {
   "cell_type": "code",
   "execution_count": 47,
   "id": "e286c7b2",
   "metadata": {},
   "outputs": [
    {
     "data": {
      "text/plain": [
       "['h', 'llo']"
      ]
     },
     "execution_count": 47,
     "metadata": {},
     "output_type": "execute_result"
    }
   ],
   "source": [
    "s.split('e')"
   ]
  },
  {
   "cell_type": "code",
   "execution_count": 48,
   "id": "177fb6b8",
   "metadata": {},
   "outputs": [],
   "source": [
    "b= 'the boy ran incredibly fast'"
   ]
  },
  {
   "cell_type": "code",
   "execution_count": 49,
   "id": "4aba2b67",
   "metadata": {},
   "outputs": [
    {
     "data": {
      "text/plain": [
       "['the', 'boy', 'ran', 'incredibly', 'fast']"
      ]
     },
     "execution_count": 49,
     "metadata": {},
     "output_type": "execute_result"
    }
   ],
   "source": [
    "b.split(' ')"
   ]
  },
  {
   "cell_type": "code",
   "execution_count": 51,
   "id": "a32b25f0",
   "metadata": {},
   "outputs": [],
   "source": [
    "#how to partition a string, gives you the first part, the seperator, then everything that happens after"
   ]
  },
  {
   "cell_type": "code",
   "execution_count": 54,
   "id": "30478c09",
   "metadata": {},
   "outputs": [
    {
     "data": {
      "text/plain": [
       "('the', ' ', 'boy ran incredibly fast')"
      ]
     },
     "execution_count": 54,
     "metadata": {},
     "output_type": "execute_result"
    }
   ],
   "source": [
    "b.partition(' ')"
   ]
  },
  {
   "cell_type": "code",
   "execution_count": null,
   "id": "ed9c1470",
   "metadata": {},
   "outputs": [],
   "source": []
  }
 ],
 "metadata": {
  "kernelspec": {
   "display_name": "Python 3 (ipykernel)",
   "language": "python",
   "name": "python3"
  },
  "language_info": {
   "codemirror_mode": {
    "name": "ipython",
    "version": 3
   },
   "file_extension": ".py",
   "mimetype": "text/x-python",
   "name": "python",
   "nbconvert_exporter": "python",
   "pygments_lexer": "ipython3",
   "version": "3.9.7"
  }
 },
 "nbformat": 4,
 "nbformat_minor": 5
}
