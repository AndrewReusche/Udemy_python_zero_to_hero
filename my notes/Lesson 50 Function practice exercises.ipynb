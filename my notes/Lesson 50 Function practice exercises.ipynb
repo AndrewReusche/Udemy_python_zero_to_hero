{
 "cells": [
  {
   "cell_type": "code",
   "execution_count": 2,
   "id": "df922bed",
   "metadata": {},
   "outputs": [],
   "source": [
    "# LESSER OF TWO EVENS: Write a function that returns the lesser of two given numbers if both numbers are even\n",
    "#, but returns the greater if one or both numbers are odd\n"
   ]
  },
  {
   "cell_type": "code",
   "execution_count": 3,
   "id": "f90d7315",
   "metadata": {},
   "outputs": [],
   "source": [
    "def lesser_of_two_evens(a,b):\n",
    "    if a%2 == 0 and b%2 == 0:\n",
    "        if a < b:\n",
    "            return a\n",
    "        else:\n",
    "            return b\n",
    "    else:\n",
    "        if a > b:\n",
    "            return a\n",
    "        else:\n",
    "            return b\n"
   ]
  },
  {
   "cell_type": "code",
   "execution_count": 5,
   "id": "cfd49eb2",
   "metadata": {},
   "outputs": [
    {
     "data": {
      "text/plain": [
       "4"
      ]
     },
     "execution_count": 5,
     "metadata": {},
     "output_type": "execute_result"
    }
   ],
   "source": [
    "lesser_of_two_evens(8,4)"
   ]
  },
  {
   "cell_type": "code",
   "execution_count": 7,
   "id": "635a1e99",
   "metadata": {},
   "outputs": [
    {
     "data": {
      "text/plain": [
       "10"
      ]
     },
     "execution_count": 7,
     "metadata": {},
     "output_type": "execute_result"
    }
   ],
   "source": [
    "lesser_of_two_evens(10,5)"
   ]
  },
  {
   "cell_type": "code",
   "execution_count": 8,
   "id": "4e174a79",
   "metadata": {},
   "outputs": [],
   "source": [
    "#ANIMAL CRACKERS: Write a function takes a two-word string and returns True if both words begin with same letter"
   ]
  },
  {
   "cell_type": "code",
   "execution_count": 9,
   "id": "2065fd98",
   "metadata": {},
   "outputs": [],
   "source": [
    "def animal_crackers(A,B):\n",
    "    if A[0] == B[0]:\n",
    "        return True\n",
    "    else:\n",
    "        return False\n",
    "    "
   ]
  },
  {
   "cell_type": "code",
   "execution_count": 10,
   "id": "53a9a9c3",
   "metadata": {},
   "outputs": [
    {
     "data": {
      "text/plain": [
       "True"
      ]
     },
     "execution_count": 10,
     "metadata": {},
     "output_type": "execute_result"
    }
   ],
   "source": [
    "animal_crackers('Lick','Lama')"
   ]
  },
  {
   "cell_type": "code",
   "execution_count": 11,
   "id": "bbf6a6bd",
   "metadata": {},
   "outputs": [
    {
     "data": {
      "text/plain": [
       "False"
      ]
     },
     "execution_count": 11,
     "metadata": {},
     "output_type": "execute_result"
    }
   ],
   "source": [
    "animal_crackers('Taxi', 'Panda')"
   ]
  },
  {
   "cell_type": "code",
   "execution_count": 12,
   "id": "673d9289",
   "metadata": {},
   "outputs": [],
   "source": [
    "#MAKES TWENTY: Given two integers, return True if the sum of the integers is 20 or if one of the integers is 20. \n",
    "#If not, return False"
   ]
  },
  {
   "cell_type": "code",
   "execution_count": 28,
   "id": "6ab42de1",
   "metadata": {},
   "outputs": [],
   "source": [
    "def makes_twenty(a,b):\n",
    "    if a+b==20 or a==20 or b==20:\n",
    "        return True\n",
    "    else:\n",
    "        return False"
   ]
  },
  {
   "cell_type": "code",
   "execution_count": 29,
   "id": "d326b852",
   "metadata": {},
   "outputs": [
    {
     "data": {
      "text/plain": [
       "True"
      ]
     },
     "execution_count": 29,
     "metadata": {},
     "output_type": "execute_result"
    }
   ],
   "source": [
    "makes_twenty(20,10)"
   ]
  },
  {
   "cell_type": "code",
   "execution_count": 30,
   "id": "71506124",
   "metadata": {},
   "outputs": [
    {
     "data": {
      "text/plain": [
       "False"
      ]
     },
     "execution_count": 30,
     "metadata": {},
     "output_type": "execute_result"
    }
   ],
   "source": [
    "makes_twenty(2,3)"
   ]
  },
  {
   "cell_type": "code",
   "execution_count": 31,
   "id": "46d87511",
   "metadata": {},
   "outputs": [],
   "source": [
    "## Level one problems\n"
   ]
  },
  {
   "cell_type": "code",
   "execution_count": 32,
   "id": "508cc80d",
   "metadata": {},
   "outputs": [],
   "source": [
    "#OLD MACDONALD: Write a function that capitalizes the first and fourth letters of a name"
   ]
  },
  {
   "cell_type": "code",
   "execution_count": 88,
   "id": "30b2b24b",
   "metadata": {},
   "outputs": [],
   "source": [
    "def old_macdonald(name):\n",
    "    spell = list(name)\n",
    "    \n",
    "    spell[0] = spell[0].upper()\n",
    "    spell[3] = spell[3].upper()\n",
    "    \n",
    "    return ''.join(spell)"
   ]
  },
  {
   "cell_type": "code",
   "execution_count": 89,
   "id": "15881ede",
   "metadata": {},
   "outputs": [
    {
     "data": {
      "text/plain": [
       "'MacDonald'"
      ]
     },
     "execution_count": 89,
     "metadata": {},
     "output_type": "execute_result"
    }
   ],
   "source": [
    "old_macdonald('macdonald')"
   ]
  },
  {
   "cell_type": "code",
   "execution_count": 90,
   "id": "c08ec3e2",
   "metadata": {},
   "outputs": [
    {
     "data": {
      "text/plain": [
       "'AndRew'"
      ]
     },
     "execution_count": 90,
     "metadata": {},
     "output_type": "execute_result"
    }
   ],
   "source": [
    "old_macdonald('andrew')"
   ]
  },
  {
   "cell_type": "code",
   "execution_count": 63,
   "id": "47548dca",
   "metadata": {},
   "outputs": [],
   "source": [
    "#MASTER YODA: Given a sentence, return a sentence with the words reversed"
   ]
  },
  {
   "cell_type": "code",
   "execution_count": 85,
   "id": "33ea4536",
   "metadata": {},
   "outputs": [],
   "source": [
    "def master_yoda(sentence):\n",
    "    \n",
    "    seperated = sentence.split(' ')\n",
    "    backwards = seperated[::-1]\n",
    "    \n",
    "    return ' '.join(backwards)"
   ]
  },
  {
   "cell_type": "code",
   "execution_count": 86,
   "id": "8f4a13e0",
   "metadata": {},
   "outputs": [
    {
     "data": {
      "text/plain": [
       "'home am I'"
      ]
     },
     "execution_count": 86,
     "metadata": {},
     "output_type": "execute_result"
    }
   ],
   "source": [
    "master_yoda('I am home')"
   ]
  },
  {
   "cell_type": "code",
   "execution_count": 87,
   "id": "77093970",
   "metadata": {},
   "outputs": [
    {
     "data": {
      "text/plain": [
       "'night the for done now am I'"
      ]
     },
     "execution_count": 87,
     "metadata": {},
     "output_type": "execute_result"
    }
   ],
   "source": [
    "master_yoda('I am now done for the night')"
   ]
  },
  {
   "cell_type": "code",
   "execution_count": 91,
   "id": "477f7b2d",
   "metadata": {},
   "outputs": [],
   "source": [
    "#ALMOST THERE: Given an integer n, return True if n is within 10 of either 100 or 200"
   ]
  },
  {
   "cell_type": "code",
   "execution_count": 92,
   "id": "90d920cc",
   "metadata": {},
   "outputs": [],
   "source": [
    "def within_ten(n):\n",
    "    if abs(100 - n) <= 10 or abs(200-n) <= 10:\n",
    "        return True\n",
    "    else:\n",
    "        return False"
   ]
  },
  {
   "cell_type": "code",
   "execution_count": 93,
   "id": "11feb71c",
   "metadata": {},
   "outputs": [
    {
     "data": {
      "text/plain": [
       "True"
      ]
     },
     "execution_count": 93,
     "metadata": {},
     "output_type": "execute_result"
    }
   ],
   "source": [
    "within_ten(104)"
   ]
  },
  {
   "cell_type": "code",
   "execution_count": 94,
   "id": "a722eff6",
   "metadata": {},
   "outputs": [
    {
     "data": {
      "text/plain": [
       "True"
      ]
     },
     "execution_count": 94,
     "metadata": {},
     "output_type": "execute_result"
    }
   ],
   "source": [
    "within_ten(196)"
   ]
  },
  {
   "cell_type": "code",
   "execution_count": 95,
   "id": "6e830af6",
   "metadata": {},
   "outputs": [
    {
     "data": {
      "text/plain": [
       "False"
      ]
     },
     "execution_count": 95,
     "metadata": {},
     "output_type": "execute_result"
    }
   ],
   "source": [
    "within_ten(50)"
   ]
  },
  {
   "cell_type": "code",
   "execution_count": null,
   "id": "7504ef20",
   "metadata": {},
   "outputs": [],
   "source": []
  }
 ],
 "metadata": {
  "kernelspec": {
   "display_name": "Python 3 (ipykernel)",
   "language": "python",
   "name": "python3"
  },
  "language_info": {
   "codemirror_mode": {
    "name": "ipython",
    "version": 3
   },
   "file_extension": ".py",
   "mimetype": "text/x-python",
   "name": "python",
   "nbconvert_exporter": "python",
   "pygments_lexer": "ipython3",
   "version": "3.9.7"
  }
 },
 "nbformat": 4,
 "nbformat_minor": 5
}
