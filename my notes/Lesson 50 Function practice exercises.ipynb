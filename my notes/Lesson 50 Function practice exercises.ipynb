{
 "cells": [
  {
   "cell_type": "code",
   "execution_count": 2,
   "id": "5c9a1edd",
   "metadata": {},
   "outputs": [],
   "source": [
    "# LESSER OF TWO EVENS: Write a function that returns the lesser of two given numbers if both numbers are even\n",
    "#, but returns the greater if one or both numbers are odd\n"
   ]
  },
  {
   "cell_type": "code",
   "execution_count": null,
   "id": "c9b2509a",
   "metadata": {},
   "outputs": [],
   "source": [
    "def lesser_of_two_evens(a,b):\n",
    "    if a%2 == 0 and b%2 == 0:\n",
    "        if a < b:\n",
    "            return a\n",
    "    else:\n",
    "        if a > b:\n",
    "            return a\n",
    "    return b\n",
    "\n"
   ]
  },
  {
   "cell_type": "code",
   "execution_count": 3,
   "id": "c7b845c7",
   "metadata": {},
   "outputs": [],
   "source": [
    "def lesser_of_two_evens(a,b):\n",
    "    if a%2 == 0 and b%2 == 0:\n",
    "        if a < b:\n",
    "            return a\n",
    "        else:\n",
    "            return b\n",
    "    else:\n",
    "        if a > b:\n",
    "            return a\n",
    "        else:\n",
    "            return b\n"
   ]
  },
  {
   "cell_type": "code",
   "execution_count": 283,
   "id": "6696f6c9",
   "metadata": {},
   "outputs": [],
   "source": [
    "def lesser_v2(a,b):\n",
    "    if a%2== 0 and b%2==0:\n",
    "        return min(a,b)\n",
    "    else:\n",
    "        return max(a,b)\n",
    "    "
   ]
  },
  {
   "cell_type": "code",
   "execution_count": 286,
   "id": "317fa289",
   "metadata": {},
   "outputs": [
    {
     "data": {
      "text/plain": [
       "4"
      ]
     },
     "execution_count": 286,
     "metadata": {},
     "output_type": "execute_result"
    }
   ],
   "source": [
    "lesser_of_two_evens(8,4)"
   ]
  },
  {
   "cell_type": "code",
   "execution_count": 285,
   "id": "30040ea3",
   "metadata": {},
   "outputs": [
    {
     "data": {
      "text/plain": [
       "10"
      ]
     },
     "execution_count": 285,
     "metadata": {},
     "output_type": "execute_result"
    }
   ],
   "source": [
    "lesser_of_two_evens(10,5)"
   ]
  },
  {
   "cell_type": "code",
   "execution_count": 287,
   "id": "5e5ba150",
   "metadata": {},
   "outputs": [
    {
     "data": {
      "text/plain": [
       "4"
      ]
     },
     "execution_count": 287,
     "metadata": {},
     "output_type": "execute_result"
    }
   ],
   "source": [
    "lesser_v2(8,4)"
   ]
  },
  {
   "cell_type": "code",
   "execution_count": 288,
   "id": "93ab934a",
   "metadata": {},
   "outputs": [
    {
     "data": {
      "text/plain": [
       "10"
      ]
     },
     "execution_count": 288,
     "metadata": {},
     "output_type": "execute_result"
    }
   ],
   "source": [
    "lesser_v2(10,5)"
   ]
  },
  {
   "cell_type": "code",
   "execution_count": 8,
   "id": "ff45eef8",
   "metadata": {},
   "outputs": [],
   "source": [
    "#ANIMAL CRACKERS: Write a function takes a two-word string and returns True if both words begin with same letter"
   ]
  },
  {
   "cell_type": "code",
   "execution_count": 9,
   "id": "2f95daaa",
   "metadata": {},
   "outputs": [],
   "source": [
    "def animal_crackers(A,B):\n",
    "    if A[0] == B[0]:\n",
    "        return True\n",
    "    else:\n",
    "        return False\n",
    "    "
   ]
  },
  {
   "cell_type": "code",
   "execution_count": 10,
   "id": "1b73a705",
   "metadata": {},
   "outputs": [
    {
     "data": {
      "text/plain": [
       "True"
      ]
     },
     "execution_count": 10,
     "metadata": {},
     "output_type": "execute_result"
    }
   ],
   "source": [
    "animal_crackers('Lick','Lama')"
   ]
  },
  {
   "cell_type": "code",
   "execution_count": 11,
   "id": "6cfe8dd1",
   "metadata": {},
   "outputs": [
    {
     "data": {
      "text/plain": [
       "False"
      ]
     },
     "execution_count": 11,
     "metadata": {},
     "output_type": "execute_result"
    }
   ],
   "source": [
    "animal_crackers('Taxi', 'Panda')"
   ]
  },
  {
   "cell_type": "code",
   "execution_count": 12,
   "id": "188778bf",
   "metadata": {},
   "outputs": [],
   "source": [
    "#MAKES TWENTY: Given two integers, return True if the sum of the integers is 20 or if one of the integers is 20. \n",
    "#If not, return False"
   ]
  },
  {
   "cell_type": "code",
   "execution_count": 28,
   "id": "e0553ed7",
   "metadata": {},
   "outputs": [],
   "source": [
    "def makes_twenty(a,b):\n",
    "    if a+b==20 or a==20 or b==20:\n",
    "        return True\n",
    "    else:\n",
    "        return False"
   ]
  },
  {
   "cell_type": "code",
   "execution_count": 29,
   "id": "441018c3",
   "metadata": {},
   "outputs": [
    {
     "data": {
      "text/plain": [
       "True"
      ]
     },
     "execution_count": 29,
     "metadata": {},
     "output_type": "execute_result"
    }
   ],
   "source": [
    "makes_twenty(20,10)"
   ]
  },
  {
   "cell_type": "code",
   "execution_count": 30,
   "id": "1ab45506",
   "metadata": {},
   "outputs": [
    {
     "data": {
      "text/plain": [
       "False"
      ]
     },
     "execution_count": 30,
     "metadata": {},
     "output_type": "execute_result"
    }
   ],
   "source": [
    "makes_twenty(2,3)"
   ]
  },
  {
   "cell_type": "markdown",
   "id": "4c000e71",
   "metadata": {},
   "source": [
    "# level one questions\n"
   ]
  },
  {
   "cell_type": "code",
   "execution_count": 32,
   "id": "b6d66ff0",
   "metadata": {},
   "outputs": [],
   "source": [
    "#OLD MACDONALD: Write a function that capitalizes the first and fourth letters of a name"
   ]
  },
  {
   "cell_type": "code",
   "execution_count": 88,
   "id": "f05de40c",
   "metadata": {},
   "outputs": [],
   "source": [
    "def old_macdonald(name):\n",
    "    spell = list(name)\n",
    "    \n",
    "    spell[0] = spell[0].upper()\n",
    "    spell[3] = spell[3].upper()\n",
    "    \n",
    "    return ''.join(spell)"
   ]
  },
  {
   "cell_type": "code",
   "execution_count": 89,
   "id": "75c7db1a",
   "metadata": {},
   "outputs": [
    {
     "data": {
      "text/plain": [
       "'MacDonald'"
      ]
     },
     "execution_count": 89,
     "metadata": {},
     "output_type": "execute_result"
    }
   ],
   "source": [
    "old_macdonald('macdonald')"
   ]
  },
  {
   "cell_type": "code",
   "execution_count": 90,
   "id": "d9a2b381",
   "metadata": {},
   "outputs": [
    {
     "data": {
      "text/plain": [
       "'AndRew'"
      ]
     },
     "execution_count": 90,
     "metadata": {},
     "output_type": "execute_result"
    }
   ],
   "source": [
    "old_macdonald('andrew')"
   ]
  },
  {
   "cell_type": "code",
   "execution_count": 289,
   "id": "a1dfee9f",
   "metadata": {},
   "outputs": [],
   "source": [
    "#another solution\n"
   ]
  },
  {
   "cell_type": "code",
   "execution_count": 291,
   "id": "c3d5c6e1",
   "metadata": {},
   "outputs": [],
   "source": [
    "def their_way(name):\n",
    "    firstletter = name[0]\n",
    "    inbetween = name[1:3]\n",
    "    fourthletter = name[3]\n",
    "    rest = name[4:]\n",
    "    \n",
    "    return firstlett.upper() + inbetween + fourthletter.upper() +rest"
   ]
  },
  {
   "cell_type": "code",
   "execution_count": 292,
   "id": "ea51ad04",
   "metadata": {},
   "outputs": [],
   "source": [
    "def other_macdonald(name):\n",
    "    first_half = name[:3]\n",
    "    second_half = name[3:]\n",
    "    \n",
    "    return first_half.capitalize() +second_half.capitalize()"
   ]
  },
  {
   "cell_type": "code",
   "execution_count": 63,
   "id": "94db553c",
   "metadata": {},
   "outputs": [],
   "source": [
    "#MASTER YODA: Given a sentence, return a sentence with the words reversed"
   ]
  },
  {
   "cell_type": "code",
   "execution_count": 85,
   "id": "9ceb7a1a",
   "metadata": {},
   "outputs": [],
   "source": [
    "def master_yoda(sentence):\n",
    "    \n",
    "    seperated = sentence.split(' ')\n",
    "    backwards = seperated[::-1]\n",
    "    \n",
    "    return ' '.join(backwards)"
   ]
  },
  {
   "cell_type": "code",
   "execution_count": 86,
   "id": "081df8ae",
   "metadata": {},
   "outputs": [
    {
     "data": {
      "text/plain": [
       "'home am I'"
      ]
     },
     "execution_count": 86,
     "metadata": {},
     "output_type": "execute_result"
    }
   ],
   "source": [
    "master_yoda('I am home')"
   ]
  },
  {
   "cell_type": "code",
   "execution_count": 87,
   "id": "5e203a03",
   "metadata": {},
   "outputs": [
    {
     "data": {
      "text/plain": [
       "'night the for done now am I'"
      ]
     },
     "execution_count": 87,
     "metadata": {},
     "output_type": "execute_result"
    }
   ],
   "source": [
    "master_yoda('I am now done for the night')"
   ]
  },
  {
   "cell_type": "code",
   "execution_count": 91,
   "id": "728751e8",
   "metadata": {},
   "outputs": [],
   "source": [
    "#ALMOST THERE: Given an integer n, return True if n is within 10 of either 100 or 200"
   ]
  },
  {
   "cell_type": "code",
   "execution_count": 92,
   "id": "c7c61ec7",
   "metadata": {},
   "outputs": [],
   "source": [
    "def within_ten(n):\n",
    "    if abs(100 - n) <= 10 or abs(200-n) <= 10:\n",
    "        return True\n",
    "    else:\n",
    "        return False"
   ]
  },
  {
   "cell_type": "code",
   "execution_count": 93,
   "id": "5fe89cdd",
   "metadata": {},
   "outputs": [
    {
     "data": {
      "text/plain": [
       "True"
      ]
     },
     "execution_count": 93,
     "metadata": {},
     "output_type": "execute_result"
    }
   ],
   "source": [
    "within_ten(104)"
   ]
  },
  {
   "cell_type": "code",
   "execution_count": 94,
   "id": "72f16e6f",
   "metadata": {},
   "outputs": [
    {
     "data": {
      "text/plain": [
       "True"
      ]
     },
     "execution_count": 94,
     "metadata": {},
     "output_type": "execute_result"
    }
   ],
   "source": [
    "within_ten(196)"
   ]
  },
  {
   "cell_type": "code",
   "execution_count": 95,
   "id": "f7c5a774",
   "metadata": {},
   "outputs": [
    {
     "data": {
      "text/plain": [
       "False"
      ]
     },
     "execution_count": 95,
     "metadata": {},
     "output_type": "execute_result"
    }
   ],
   "source": [
    "within_ten(50)"
   ]
  },
  {
   "cell_type": "markdown",
   "id": "05cde342",
   "metadata": {},
   "source": [
    "# level two problems "
   ]
  },
  {
   "cell_type": "code",
   "execution_count": 97,
   "id": "d91443de",
   "metadata": {},
   "outputs": [],
   "source": [
    "#Given a list of ints, return True if the array contains a 3 next to a 3 somewhere."
   ]
  },
  {
   "cell_type": "code",
   "execution_count": 125,
   "id": "2ab97cb7",
   "metadata": {},
   "outputs": [],
   "source": [
    "def has_33(nums):\n",
    "    print(nums)\n",
    "    numlist = []\n",
    "    for num in nums:\n",
    "        numlist.append(num)\n",
    "    print(numlist)\n",
    "    for num1, num2 in zip(numlist, numlist[:-1]):\n",
    "        if num1 == num2:\n",
    "            return True\n",
    "        else:\n",
    "            return False\n"
   ]
  },
  {
   "cell_type": "code",
   "execution_count": 126,
   "id": "466bcd1f",
   "metadata": {},
   "outputs": [
    {
     "name": "stdout",
     "output_type": "stream",
     "text": [
      "[1, 3, 3]\n",
      "[1, 3, 3]\n"
     ]
    },
    {
     "data": {
      "text/plain": [
       "True"
      ]
     },
     "execution_count": 126,
     "metadata": {},
     "output_type": "execute_result"
    }
   ],
   "source": [
    "has_33([1, 3, 3])"
   ]
  },
  {
   "cell_type": "code",
   "execution_count": 266,
   "id": "a4449c40",
   "metadata": {},
   "outputs": [],
   "source": [
    "def has_33(nums):\n",
    "    print(nums)\n",
    "    \n",
    "    for num1, num2 in zip(nums, nums[1:]):\n",
    "        print(num1, num2)\n",
    "        \n",
    "        if num1 == num2:\n",
    "            return True\n",
    "    return False\n",
    "    \n"
   ]
  },
  {
   "cell_type": "code",
   "execution_count": null,
   "id": "8bcefcc1",
   "metadata": {},
   "outputs": [],
   "source": [
    "#version 3 solution"
   ]
  },
  {
   "cell_type": "code",
   "execution_count": null,
   "id": "a77eca65",
   "metadata": {},
   "outputs": [],
   "source": [
    "for i in range(len(nums)-1):\n",
    "    if nums[i] == nums[i+1]:\n",
    "        return True\n",
    "return False"
   ]
  },
  {
   "cell_type": "code",
   "execution_count": 267,
   "id": "fcba7369",
   "metadata": {},
   "outputs": [
    {
     "name": "stdout",
     "output_type": "stream",
     "text": [
      "[1, 3, 3]\n",
      "1 3\n",
      "3 3\n"
     ]
    },
    {
     "data": {
      "text/plain": [
       "True"
      ]
     },
     "execution_count": 267,
     "metadata": {},
     "output_type": "execute_result"
    }
   ],
   "source": [
    "has_33([1, 3, 3])"
   ]
  },
  {
   "cell_type": "code",
   "execution_count": 268,
   "id": "3a9a9f85",
   "metadata": {},
   "outputs": [
    {
     "name": "stdout",
     "output_type": "stream",
     "text": [
      "[1, 3, 1, 3]\n",
      "1 3\n",
      "3 1\n",
      "1 3\n"
     ]
    },
    {
     "data": {
      "text/plain": [
       "False"
      ]
     },
     "execution_count": 268,
     "metadata": {},
     "output_type": "execute_result"
    }
   ],
   "source": [
    "has_33([1, 3, 1, 3])"
   ]
  },
  {
   "cell_type": "code",
   "execution_count": 293,
   "id": "be455752",
   "metadata": {},
   "outputs": [],
   "source": [
    "#their method "
   ]
  },
  {
   "cell_type": "code",
   "execution_count": 294,
   "id": "7a72646e",
   "metadata": {},
   "outputs": [],
   "source": [
    "def their_33(nums):\n",
    "    for i in range(0,len(nums)-1):\n",
    "        if nums[i]== 3 and nums[i+1] == 3:\n",
    "            return True\n",
    "    return Flase"
   ]
  },
  {
   "cell_type": "code",
   "execution_count": null,
   "id": "9843237f",
   "metadata": {},
   "outputs": [],
   "source": [
    "#or"
   ]
  },
  {
   "cell_type": "code",
   "execution_count": 297,
   "id": "0525e54d",
   "metadata": {},
   "outputs": [],
   "source": [
    "def their_33(nums):\n",
    "    for i in range(0,len(nums)-1):\n",
    "        if nums[i:i+2] == [3,3]:\n",
    "            return True\n",
    "    return Flase"
   ]
  },
  {
   "cell_type": "code",
   "execution_count": null,
   "id": "870b5e81",
   "metadata": {},
   "outputs": [],
   "source": [
    "#example of how zip works there"
   ]
  },
  {
   "cell_type": "code",
   "execution_count": 162,
   "id": "48879075",
   "metadata": {},
   "outputs": [
    {
     "name": "stdout",
     "output_type": "stream",
     "text": [
      "[(1, 2, 3), (2, 3, 4), (3, 4, 5), (4, 5, 6)]\n"
     ]
    }
   ],
   "source": [
    "jlist = [1,2,3,4,5,6] \n",
    "\n",
    "j1 , j2, j3 in zip(jlist, jlist[1:], jlist[2:])\n",
    "print(list(zip(jlist,jlist[1:], jlist[2:])))"
   ]
  },
  {
   "cell_type": "code",
   "execution_count": 163,
   "id": "b9e21e64",
   "metadata": {},
   "outputs": [],
   "source": [
    "#PAPER DOLL: Given a string, return a string where for every character in the original there are three characters"
   ]
  },
  {
   "cell_type": "code",
   "execution_count": 255,
   "id": "6c03fbee",
   "metadata": {},
   "outputs": [],
   "source": [
    "def paper_doll(text):\n",
    "    letters = [letter for letter in text]\n",
    "    print(letters)\n",
    "    multletters = []\n",
    "    for a in letters:\n",
    "         multletters.append(a*3)\n",
    "    print(multletters)\n",
    "    goal = ''.join(multletters)\n",
    "    return(goal)\n",
    "    \n",
    "    "
   ]
  },
  {
   "cell_type": "code",
   "execution_count": 256,
   "id": "ce0b7566",
   "metadata": {},
   "outputs": [
    {
     "name": "stdout",
     "output_type": "stream",
     "text": [
      "['H', 'e', 'l', 'l', 'o']\n",
      "['HHH', 'eee', 'lll', 'lll', 'ooo']\n"
     ]
    },
    {
     "data": {
      "text/plain": [
       "'HHHeeellllllooo'"
      ]
     },
     "execution_count": 256,
     "metadata": {},
     "output_type": "execute_result"
    }
   ],
   "source": [
    "paper_doll('Hello')"
   ]
  },
  {
   "cell_type": "code",
   "execution_count": 257,
   "id": "8ec418b3",
   "metadata": {},
   "outputs": [],
   "source": [
    "# without the prints"
   ]
  },
  {
   "cell_type": "code",
   "execution_count": 258,
   "id": "3008d630",
   "metadata": {},
   "outputs": [],
   "source": [
    "def paper_doll(text):\n",
    "    letters = [letter for letter in text]\n",
    "    multletters = []\n",
    "    for a in letters:\n",
    "         multletters.append(a*3)\n",
    "    goal = ''.join(multletters)\n",
    "    return(goal)\n",
    "    "
   ]
  },
  {
   "cell_type": "code",
   "execution_count": 259,
   "id": "21a3351a",
   "metadata": {},
   "outputs": [
    {
     "data": {
      "text/plain": [
       "'HHHeeellllllooo'"
      ]
     },
     "execution_count": 259,
     "metadata": {},
     "output_type": "execute_result"
    }
   ],
   "source": [
    "paper_doll('Hello')"
   ]
  },
  {
   "cell_type": "code",
   "execution_count": 260,
   "id": "7016e646",
   "metadata": {},
   "outputs": [],
   "source": [
    "def paper_doll(text):\n",
    "    return ''.join([letter*3 for letter in text])"
   ]
  },
  {
   "cell_type": "code",
   "execution_count": 319,
   "id": "acb29397",
   "metadata": {},
   "outputs": [
    {
     "name": "stdout",
     "output_type": "stream",
     "text": [
      "850 ns ± 15.2 ns per loop (mean ± std. dev. of 7 runs, 1000000 loops each)\n"
     ]
    }
   ],
   "source": [
    "%%timeit\n",
    "paper_doll('Hello')"
   ]
  },
  {
   "cell_type": "code",
   "execution_count": 264,
   "id": "579339ba",
   "metadata": {},
   "outputs": [],
   "source": [
    "def paper_doll(text):\n",
    "    multletters = []\n",
    "    for a in text:\n",
    "         multletters.append(a*3)\n",
    "    return ''.join(multletters)"
   ]
  },
  {
   "cell_type": "code",
   "execution_count": 265,
   "id": "fd7f6773",
   "metadata": {},
   "outputs": [
    {
     "data": {
      "text/plain": [
       "'HHHeeellllllooo'"
      ]
     },
     "execution_count": 265,
     "metadata": {},
     "output_type": "execute_result"
    }
   ],
   "source": [
    "paper_doll('Hello')"
   ]
  },
  {
   "cell_type": "code",
   "execution_count": 298,
   "id": "0cfcef3d",
   "metadata": {},
   "outputs": [],
   "source": [
    "def their_doll(text):\n",
    "    result =''\n",
    "    \n",
    "    for char in text:\n",
    "        result += char*3\n",
    "    return result"
   ]
  },
  {
   "cell_type": "code",
   "execution_count": 269,
   "id": "bc968be2",
   "metadata": {},
   "outputs": [],
   "source": [
    "#BLACKJACK: Given three integers between 1 and 11, if their sum is less than or equal to 21, return their sum. \n",
    "#If their sum exceeds 21 and there's an eleven, reduce the total sum by 10. \n",
    "#Finally, if the sum (even after adjustment) exceeds 21, return 'BUST'"
   ]
  },
  {
   "cell_type": "code",
   "execution_count": 276,
   "id": "33ddf60f",
   "metadata": {},
   "outputs": [],
   "source": [
    "def blackjack(a,b,c):\n",
    "    if 1 <= a <=11 and  1 <= b <=11 and 1 <= c <=11:\n",
    "        if (a+b+c) <= 21:\n",
    "            return (a+b+c)\n",
    "        elif (a+b+c) > 21 and a == 11 or b == 11 or c == 11:\n",
    "            reset = (a+b+c) - 10\n",
    "            if reset > 21:\n",
    "                return 'BUST'\n",
    "            else:\n",
    "                return reset\n",
    "        else:\n",
    "            if a+b+c > 21:\n",
    "                return 'BUST'"
   ]
  },
  {
   "cell_type": "code",
   "execution_count": 320,
   "id": "6da3d19b",
   "metadata": {},
   "outputs": [],
   "source": [
    "def their_black(a,b,c):\n",
    "    if sum([a,b,c])<= 21:\n",
    "        return sum([a,b,c])\n",
    "    elif 11 in [a,b,c] and sum[a,b,c]<=31:\n",
    "        return sum([a,b,c])-10\n",
    "    else:\n",
    "        return 'BUST'\n",
    "    "
   ]
  },
  {
   "cell_type": "code",
   "execution_count": 277,
   "id": "7f901f69",
   "metadata": {},
   "outputs": [
    {
     "data": {
      "text/plain": [
       "18"
      ]
     },
     "execution_count": 277,
     "metadata": {},
     "output_type": "execute_result"
    }
   ],
   "source": [
    "blackjack(5,6,7)"
   ]
  },
  {
   "cell_type": "code",
   "execution_count": 278,
   "id": "50a3b9cc",
   "metadata": {},
   "outputs": [
    {
     "data": {
      "text/plain": [
       "'BUST'"
      ]
     },
     "execution_count": 278,
     "metadata": {},
     "output_type": "execute_result"
    }
   ],
   "source": [
    "blackjack(9,9,9)"
   ]
  },
  {
   "cell_type": "code",
   "execution_count": 279,
   "id": "00a62057",
   "metadata": {},
   "outputs": [
    {
     "data": {
      "text/plain": [
       "19"
      ]
     },
     "execution_count": 279,
     "metadata": {},
     "output_type": "execute_result"
    }
   ],
   "source": [
    "blackjack(9,9,11)"
   ]
  },
  {
   "cell_type": "code",
   "execution_count": null,
   "id": "1955cdeb",
   "metadata": {},
   "outputs": [],
   "source": [
    "def their_black()"
   ]
  },
  {
   "cell_type": "code",
   "execution_count": 280,
   "id": "77db88ed",
   "metadata": {},
   "outputs": [],
   "source": [
    "#SUMMER OF '69: Return the sum of the numbers in the array, except ignore sections of numbers starting with a 6 \n",
    "#and extending to the next 9 (every 6 will be followed by at least one 9). Return 0 for no numbers."
   ]
  },
  {
   "cell_type": "code",
   "execution_count": null,
   "id": "fd6be579",
   "metadata": {},
   "outputs": [],
   "source": [
    "#my attempt and fail unfinished\n",
    "def summer_69(arr):\n",
    "    mynums = []\n",
    "    for num in arr:\n",
    "        while != 6:\n",
    "            mynums.append()\n",
    "        if nums == 6:\n",
    "            break\n",
    "            return sum(arr[0:])"
   ]
  },
  {
   "cell_type": "code",
   "execution_count": 324,
   "id": "e763c226",
   "metadata": {},
   "outputs": [],
   "source": [
    "def their_summer(arr):\n",
    "    \n",
    "    total = 0\n",
    "    add = True\n",
    "    \n",
    "    for num in arr:\n",
    "        while add:\n",
    "            if num!= 6:\n",
    "                total += num\n",
    "                break\n",
    "            else:\n",
    "                add = False\n",
    "        while not add:\n",
    "            if num != 9:\n",
    "                break\n",
    "            else: \n",
    "                add = True\n",
    "                break\n",
    "    return total\n"
   ]
  },
  {
   "cell_type": "code",
   "execution_count": 325,
   "id": "3d2dfdce",
   "metadata": {},
   "outputs": [
    {
     "data": {
      "text/plain": [
       "9"
      ]
     },
     "execution_count": 325,
     "metadata": {},
     "output_type": "execute_result"
    }
   ],
   "source": [
    "their_summer([1,3,5])"
   ]
  },
  {
   "cell_type": "code",
   "execution_count": 326,
   "id": "066e9ba6",
   "metadata": {},
   "outputs": [
    {
     "data": {
      "text/plain": [
       "9"
      ]
     },
     "execution_count": 326,
     "metadata": {},
     "output_type": "execute_result"
    }
   ],
   "source": [
    "their_summer([4,5,6,7,8,9])"
   ]
  },
  {
   "cell_type": "code",
   "execution_count": 327,
   "id": "d164b14f",
   "metadata": {},
   "outputs": [
    {
     "data": {
      "text/plain": [
       "14"
      ]
     },
     "execution_count": 327,
     "metadata": {},
     "output_type": "execute_result"
    }
   ],
   "source": [
    "their_summer([2,1,6,7,9,11])"
   ]
  },
  {
   "cell_type": "markdown",
   "id": "12e8f147",
   "metadata": {},
   "source": [
    "# challenging problems"
   ]
  },
  {
   "cell_type": "code",
   "execution_count": 328,
   "id": "34705fd7",
   "metadata": {},
   "outputs": [],
   "source": [
    "#spy game: write a function that takes a list of interegers and returns True if it contains 007 in order\n"
   ]
  },
  {
   "cell_type": "code",
   "execution_count": 331,
   "id": "da86f004",
   "metadata": {},
   "outputs": [],
   "source": [
    "def spy_game(nums):\n",
    "    for i in range(0,len(nums)-2):\n",
    "        if nums[i] == 0 and nums[i+1]==0 and nums[i+2]==7:\n",
    "            return True\n",
    "    return False"
   ]
  },
  {
   "cell_type": "code",
   "execution_count": 332,
   "id": "12cfecf7",
   "metadata": {},
   "outputs": [
    {
     "data": {
      "text/plain": [
       "True"
      ]
     },
     "execution_count": 332,
     "metadata": {},
     "output_type": "execute_result"
    }
   ],
   "source": [
    "spy_game([1,2,4,0,0,7,5])"
   ]
  },
  {
   "cell_type": "code",
   "execution_count": 333,
   "id": "55a9434c",
   "metadata": {},
   "outputs": [
    {
     "data": {
      "text/plain": [
       "False"
      ]
     },
     "execution_count": 333,
     "metadata": {},
     "output_type": "execute_result"
    }
   ],
   "source": [
    "spy_game([1,0,2,4,0,5,7])"
   ]
  },
  {
   "cell_type": "code",
   "execution_count": 334,
   "id": "9a6daaa4",
   "metadata": {},
   "outputs": [
    {
     "data": {
      "text/plain": [
       "False"
      ]
     },
     "execution_count": 334,
     "metadata": {},
     "output_type": "execute_result"
    }
   ],
   "source": [
    "spy_game([1,7,2,0,4,5,0])"
   ]
  },
  {
   "cell_type": "code",
   "execution_count": 408,
   "id": "c43f3e4a",
   "metadata": {},
   "outputs": [],
   "source": [
    "def spy_game2(nums):\n",
    "    for i in range(0,len(nums)-2):\n",
    "        if nums[i:i+3] == [0,0,7]:\n",
    "            return True\n",
    "        print(nums[i:i+3])\n",
    "    return False\n",
    "\n",
    "        "
   ]
  },
  {
   "cell_type": "code",
   "execution_count": 413,
   "id": "59334553",
   "metadata": {},
   "outputs": [
    {
     "name": "stdout",
     "output_type": "stream",
     "text": [
      "[1, 2, 0]\n",
      "[2, 0, 0]\n"
     ]
    },
    {
     "data": {
      "text/plain": [
       "True"
      ]
     },
     "execution_count": 413,
     "metadata": {},
     "output_type": "execute_result"
    }
   ],
   "source": [
    "spy_game2([1,2,0,0,7,5,4])"
   ]
  },
  {
   "cell_type": "code",
   "execution_count": 427,
   "id": "9ec085db",
   "metadata": {},
   "outputs": [],
   "source": [
    "def their_spy(nums):\n",
    "    \n",
    "    code =[0,0,7,'x']\n",
    "    \n",
    "    for num in nums:\n",
    "        if num == code[0]:\n",
    "            code.pop(0)\n",
    "    \n",
    "    return len(code) == 1"
   ]
  },
  {
   "cell_type": "code",
   "execution_count": 428,
   "id": "fdfeba8f",
   "metadata": {},
   "outputs": [
    {
     "data": {
      "text/plain": [
       "True"
      ]
     },
     "execution_count": 428,
     "metadata": {},
     "output_type": "execute_result"
    }
   ],
   "source": [
    "their_spy([1,2,4,0,0,7,5])"
   ]
  },
  {
   "cell_type": "code",
   "execution_count": 429,
   "id": "2b73b748",
   "metadata": {},
   "outputs": [
    {
     "data": {
      "text/plain": [
       "True"
      ]
     },
     "execution_count": 429,
     "metadata": {},
     "output_type": "execute_result"
    }
   ],
   "source": [
    "their_spy([1,0,2,0,5,7])"
   ]
  },
  {
   "cell_type": "code",
   "execution_count": 430,
   "id": "7ffafa75",
   "metadata": {},
   "outputs": [
    {
     "data": {
      "text/plain": [
       "False"
      ]
     },
     "execution_count": 430,
     "metadata": {},
     "output_type": "execute_result"
    }
   ],
   "source": [
    "their_spy([1,7,2,0,4,5,0])"
   ]
  },
  {
   "cell_type": "code",
   "execution_count": 431,
   "id": "bc3f1c7d",
   "metadata": {},
   "outputs": [],
   "source": [
    "#COUNT PRIMES: Write a function that returns the number of prime numbers that exist up to and including a given number\n",
    "#here zero and one wont count as prime"
   ]
  },
  {
   "cell_type": "code",
   "execution_count": 358,
   "id": "8ef17f80",
   "metadata": {},
   "outputs": [],
   "source": [
    "def count_primes(thenum):\n",
    "    \n",
    "    nums =[]\n",
    "    pnums =[]\n",
    "    count = 0\n",
    "    \n",
    "    #populate number list up to plugged in number\n",
    "    while count < thenum:\n",
    "        count += 1\n",
    "        nums.append(count)\n",
    "    print(nums)\n",
    "    \n",
    "    #filter out numbers that are not prime\n",
    "    for num in nums:\n",
    "        if  num == 1:\n",
    "            pnums.append(num)\n",
    "            \n",
    "        elif num > 1:\n",
    "            for i in range(2, int(num/2)+1):\n",
    "                if (num%i)==0:\n",
    "                    break\n",
    "                else:\n",
    "                    pnums.append(num)\n",
    "    print(pnums)\n",
    "    \n",
    "    #return amount of prime numbers in list\n",
    "    return len(pnums)\n",
    "\n",
    "   #could filter this out for only unique values but I have an idea below (failed)        return to this \n",
    "    "
   ]
  },
  {
   "cell_type": "code",
   "execution_count": 359,
   "id": "67eeca16",
   "metadata": {},
   "outputs": [
    {
     "name": "stdout",
     "output_type": "stream",
     "text": [
      "[1, 2, 3, 4, 5, 6, 7, 8, 9, 10, 11, 12, 13, 14, 15, 16, 17, 18, 19, 20, 21, 22, 23, 24, 25, 26, 27, 28, 29, 30, 31, 32, 33, 34, 35, 36, 37, 38, 39, 40, 41, 42, 43, 44, 45, 46, 47, 48, 49, 50, 51, 52, 53, 54, 55, 56, 57, 58, 59, 60, 61, 62, 63, 64, 65, 66, 67, 68, 69, 70, 71, 72, 73, 74, 75, 76, 77, 78, 79, 80, 81, 82, 83, 84, 85, 86, 87, 88, 89, 90, 91, 92, 93, 94, 95, 96, 97, 98, 99, 100]\n",
      "[1, 5, 7, 7, 9, 11, 11, 11, 11, 13, 13, 13, 13, 13, 15, 17, 17, 17, 17, 17, 17, 17, 19, 19, 19, 19, 19, 19, 19, 19, 21, 23, 23, 23, 23, 23, 23, 23, 23, 23, 23, 25, 25, 25, 27, 29, 29, 29, 29, 29, 29, 29, 29, 29, 29, 29, 29, 29, 31, 31, 31, 31, 31, 31, 31, 31, 31, 31, 31, 31, 31, 31, 33, 35, 35, 35, 37, 37, 37, 37, 37, 37, 37, 37, 37, 37, 37, 37, 37, 37, 37, 37, 37, 39, 41, 41, 41, 41, 41, 41, 41, 41, 41, 41, 41, 41, 41, 41, 41, 41, 41, 41, 41, 43, 43, 43, 43, 43, 43, 43, 43, 43, 43, 43, 43, 43, 43, 43, 43, 43, 43, 43, 43, 45, 47, 47, 47, 47, 47, 47, 47, 47, 47, 47, 47, 47, 47, 47, 47, 47, 47, 47, 47, 47, 47, 47, 49, 49, 49, 49, 49, 51, 53, 53, 53, 53, 53, 53, 53, 53, 53, 53, 53, 53, 53, 53, 53, 53, 53, 53, 53, 53, 53, 53, 53, 53, 53, 55, 55, 55, 57, 59, 59, 59, 59, 59, 59, 59, 59, 59, 59, 59, 59, 59, 59, 59, 59, 59, 59, 59, 59, 59, 59, 59, 59, 59, 59, 59, 59, 61, 61, 61, 61, 61, 61, 61, 61, 61, 61, 61, 61, 61, 61, 61, 61, 61, 61, 61, 61, 61, 61, 61, 61, 61, 61, 61, 61, 61, 63, 65, 65, 65, 67, 67, 67, 67, 67, 67, 67, 67, 67, 67, 67, 67, 67, 67, 67, 67, 67, 67, 67, 67, 67, 67, 67, 67, 67, 67, 67, 67, 67, 67, 67, 67, 69, 71, 71, 71, 71, 71, 71, 71, 71, 71, 71, 71, 71, 71, 71, 71, 71, 71, 71, 71, 71, 71, 71, 71, 71, 71, 71, 71, 71, 71, 71, 71, 71, 71, 71, 73, 73, 73, 73, 73, 73, 73, 73, 73, 73, 73, 73, 73, 73, 73, 73, 73, 73, 73, 73, 73, 73, 73, 73, 73, 73, 73, 73, 73, 73, 73, 73, 73, 73, 73, 75, 77, 77, 77, 77, 77, 79, 79, 79, 79, 79, 79, 79, 79, 79, 79, 79, 79, 79, 79, 79, 79, 79, 79, 79, 79, 79, 79, 79, 79, 79, 79, 79, 79, 79, 79, 79, 79, 79, 79, 79, 79, 79, 79, 81, 83, 83, 83, 83, 83, 83, 83, 83, 83, 83, 83, 83, 83, 83, 83, 83, 83, 83, 83, 83, 83, 83, 83, 83, 83, 83, 83, 83, 83, 83, 83, 83, 83, 83, 83, 83, 83, 83, 83, 83, 85, 85, 85, 87, 89, 89, 89, 89, 89, 89, 89, 89, 89, 89, 89, 89, 89, 89, 89, 89, 89, 89, 89, 89, 89, 89, 89, 89, 89, 89, 89, 89, 89, 89, 89, 89, 89, 89, 89, 89, 89, 89, 89, 89, 89, 89, 89, 91, 91, 91, 91, 91, 93, 95, 95, 95, 97, 97, 97, 97, 97, 97, 97, 97, 97, 97, 97, 97, 97, 97, 97, 97, 97, 97, 97, 97, 97, 97, 97, 97, 97, 97, 97, 97, 97, 97, 97, 97, 97, 97, 97, 97, 97, 97, 97, 97, 97, 97, 97, 97, 97, 97, 97, 99]\n"
     ]
    },
    {
     "data": {
      "text/plain": [
       "543"
      ]
     },
     "execution_count": 359,
     "metadata": {},
     "output_type": "execute_result"
    }
   ],
   "source": [
    "count_primes(100)"
   ]
  },
  {
   "cell_type": "code",
   "execution_count": 365,
   "id": "e897b079",
   "metadata": {},
   "outputs": [],
   "source": [
    "def count_primes2(thenum):\n",
    "    \n",
    "    pnums = []\n",
    "    \n",
    "    for i in range(1, int(thenum/2)+1):\n",
    "                if (thenum%i)==0:\n",
    "                    break\n",
    "                else:\n",
    "                    pnums.append(i)\n",
    "    print(pnums)"
   ]
  },
  {
   "cell_type": "code",
   "execution_count": 366,
   "id": "ca974cb3",
   "metadata": {},
   "outputs": [
    {
     "name": "stdout",
     "output_type": "stream",
     "text": [
      "[]\n"
     ]
    }
   ],
   "source": [
    "count_primes2(100)"
   ]
  },
  {
   "cell_type": "code",
   "execution_count": 389,
   "id": "f9ce55ff",
   "metadata": {},
   "outputs": [],
   "source": [
    "def count_primes(thenum):\n",
    "    \n",
    "    nums =[]\n",
    "    pnums =[]\n",
    "    count = 0\n",
    "    \n",
    "    \n",
    "    #populate number list up to plugged in number\n",
    "    while count < thenum:\n",
    "        count += 1\n",
    "        nums.append(count)\n",
    "    print(nums)\n",
    "    \n",
    "    #filter out numbers that are not prime\n",
    "    for num in nums:\n",
    "        if  num == 1:\n",
    "            pnums.append(num)\n",
    "            \n",
    "        elif num > 1:\n",
    "            for i in range(2, num):\n",
    "                if (num%i)==0:\n",
    "                    break\n",
    "                else:\n",
    "                    pnums.append(num)\n",
    "  \n",
    "    print(set(pnums))\n",
    "   \n",
    "    \n",
    "    #return amount of prime numbers in list\n",
    "    return len(set(pnums))"
   ]
  },
  {
   "cell_type": "code",
   "execution_count": 390,
   "id": "c4a8463c",
   "metadata": {},
   "outputs": [
    {
     "name": "stdout",
     "output_type": "stream",
     "text": [
      "[1, 2, 3, 4, 5, 6, 7, 8, 9, 10, 11, 12, 13, 14, 15, 16, 17, 18, 19, 20, 21, 22, 23, 24, 25, 26, 27, 28, 29, 30, 31, 32, 33, 34, 35, 36, 37, 38, 39, 40, 41, 42, 43, 44, 45, 46, 47, 48, 49, 50, 51, 52, 53, 54, 55, 56, 57, 58, 59, 60, 61, 62, 63, 64, 65, 66, 67, 68, 69, 70, 71, 72, 73, 74, 75, 76, 77, 78, 79, 80, 81, 82, 83, 84, 85, 86, 87, 88, 89, 90, 91, 92, 93, 94, 95, 96, 97, 98, 99, 100]\n",
      "{1, 3, 5, 7, 9, 11, 13, 15, 17, 19, 21, 23, 25, 27, 29, 31, 33, 35, 37, 39, 41, 43, 45, 47, 49, 51, 53, 55, 57, 59, 61, 63, 65, 67, 69, 71, 73, 75, 77, 79, 81, 83, 85, 87, 89, 91, 93, 95, 97, 99}\n"
     ]
    },
    {
     "data": {
      "text/plain": [
       "50"
      ]
     },
     "execution_count": 390,
     "metadata": {},
     "output_type": "execute_result"
    }
   ],
   "source": [
    "count_primes(100)"
   ]
  },
  {
   "cell_type": "code",
   "execution_count": 422,
   "id": "b0fd3673",
   "metadata": {},
   "outputs": [],
   "source": [
    "def justin_count_prime(thenum):\n",
    "    primes = []\n",
    "    \n",
    "    if thenum <3:\n",
    "        return list(range(thenum+1))\n",
    "    else:\n",
    "        starterprimes = list(range(3))\n",
    "    \n",
    "    for num in range(3,thenum +1,2):\n",
    "        prm = True\n",
    "        for prime in primes:\n",
    "            if num%prime == 0:\n",
    "                prm = False\n",
    "                break \n",
    "        if prm:\n",
    "            primes.append(num)\n",
    "    \n",
    "    "
   ]
  },
  {
   "cell_type": "code",
   "execution_count": 421,
   "id": "27ba2a8d",
   "metadata": {},
   "outputs": [
    {
     "data": {
      "text/plain": [
       "[0]"
      ]
     },
     "execution_count": 421,
     "metadata": {},
     "output_type": "execute_result"
    }
   ],
   "source": [
    "justin_count_prime(0)"
   ]
  },
  {
   "cell_type": "code",
   "execution_count": 433,
   "id": "fe0d6d84",
   "metadata": {},
   "outputs": [],
   "source": [
    "def their_primes(num):\n",
    "   #check for zero or one input \n",
    "    if num <2:\n",
    "        return 0\n",
    "    \n",
    "    #for number that is 2 or greater\n",
    "    primes = [2]\n",
    "    x = 3\n",
    "    \n",
    "    #x is goint through ewvery number up to the input num\n",
    "    while x <= num:\n",
    "        #check if x is prime\n",
    "        for y in range(3,x,2):\n",
    "            if x%y == 0:\n",
    "                x+=2\n",
    "                break\n",
    "        else:\n",
    "            primes.append(x)\n",
    "            x += 2\n",
    "    \n",
    "    print(primes)\n",
    "    return len(primes)\n",
    "        \n",
    "    "
   ]
  },
  {
   "cell_type": "code",
   "execution_count": 434,
   "id": "0cc636f1",
   "metadata": {},
   "outputs": [],
   "source": [
    "def their_primes(num):\n",
    " \n",
    "    if num <2:\n",
    "        return 0\n",
    "\n",
    "    primes = [2]\n",
    "    x = 3\n",
    "    \n",
    "    while x <= num:\n",
    "        for y in range(3,x,2):\n",
    "            if x%y == 0:\n",
    "                x+=2\n",
    "                break\n",
    "        else:\n",
    "            primes.append(x)\n",
    "            x += 2\n",
    "    \n",
    "    print(primes)\n",
    "    return len(primes)\n",
    "        "
   ]
  },
  {
   "cell_type": "code",
   "execution_count": 435,
   "id": "1d0d185c",
   "metadata": {},
   "outputs": [
    {
     "name": "stdout",
     "output_type": "stream",
     "text": [
      "[2, 3, 5, 7, 11, 13, 17, 19, 23, 29, 31, 37, 41, 43, 47, 53, 59, 61, 67, 71, 73, 79, 83, 89, 97]\n"
     ]
    },
    {
     "data": {
      "text/plain": [
       "25"
      ]
     },
     "execution_count": 435,
     "metadata": {},
     "output_type": "execute_result"
    }
   ],
   "source": [
    "their_primes(100)"
   ]
  },
  {
   "cell_type": "code",
   "execution_count": 436,
   "id": "df2e45aa",
   "metadata": {},
   "outputs": [],
   "source": [
    "def their_primes2(num):\n",
    " \n",
    "    if num <2:\n",
    "        return 0\n",
    "\n",
    "    primes = [2]\n",
    "    x = 3\n",
    "    \n",
    "    while x <= num:\n",
    "        for y in primes:\n",
    "            if x%y == 0:\n",
    "                x+=2\n",
    "                break\n",
    "        else:\n",
    "            primes.append(x)\n",
    "            x += 2\n",
    "    \n",
    "    print(primes)\n",
    "    return len(primes)"
   ]
  },
  {
   "cell_type": "code",
   "execution_count": 437,
   "id": "fcc66fb7",
   "metadata": {},
   "outputs": [],
   "source": [
    "#PRINT BIG: Write a function that takes in a single letter, and returns a 5x5 representation of that letter"
   ]
  },
  {
   "cell_type": "code",
   "execution_count": 438,
   "id": "0804dd35",
   "metadata": {},
   "outputs": [],
   "source": [
    "def print_big(letter):\n",
    "    patterns = {1:'  *  ', 2:' * * ',3:'*   *',4:'*****',5:'**** ',6:'   * ',7:' *   ',8:'*  * ',9:'*    '}\n",
    "    \n",
    "    alphabet = {'A':[1,2,4,3,3],'B':[5,3,5,3,5],'C':[4,9,9,9,4],'D':[4,9,4,9,4],'O':[2,3,3,3,2]}\n",
    "    for pattern in alphabet[letter.upper()]:\n",
    "        print(patterns[pattern])"
   ]
  },
  {
   "cell_type": "code",
   "execution_count": 439,
   "id": "763ebc0f",
   "metadata": {},
   "outputs": [
    {
     "name": "stdout",
     "output_type": "stream",
     "text": [
      "  *  \n",
      " * * \n",
      "*****\n",
      "*   *\n",
      "*   *\n"
     ]
    }
   ],
   "source": [
    "print_big('a')"
   ]
  },
  {
   "cell_type": "code",
   "execution_count": 450,
   "id": "9e7cc994",
   "metadata": {},
   "outputs": [
    {
     "name": "stdout",
     "output_type": "stream",
     "text": [
      "**** \n",
      "*   *\n",
      "**** \n",
      "*   *\n",
      "**** \n",
      "  *  \n",
      " * * \n",
      "*****\n",
      "*   *\n",
      "*   *\n",
      "**** \n",
      "*   *\n",
      "**** \n",
      "*   *\n",
      "**** \n",
      " * * \n",
      "*   *\n",
      "*   *\n",
      "*   *\n",
      " * * \n",
      " * * \n",
      "*   *\n",
      "*   *\n",
      "*   *\n",
      " * * \n"
     ]
    }
   ],
   "source": [
    "print_big('b')\n",
    "print_big('a')\n",
    "print_big('b')\n",
    "print_big('o')\n",
    "print_big('o')"
   ]
  },
  {
   "cell_type": "code",
   "execution_count": null,
   "id": "50541e66",
   "metadata": {},
   "outputs": [],
   "source": []
  }
 ],
 "metadata": {
  "kernelspec": {
   "display_name": "Python 3 (ipykernel)",
   "language": "python",
   "name": "python3"
  },
  "language_info": {
   "codemirror_mode": {
    "name": "ipython",
    "version": 3
   },
   "file_extension": ".py",
   "mimetype": "text/x-python",
   "name": "python",
   "nbconvert_exporter": "python",
   "pygments_lexer": "ipython3",
   "version": "3.9.7"
  }
 },
 "nbformat": 4,
 "nbformat_minor": 5
}
