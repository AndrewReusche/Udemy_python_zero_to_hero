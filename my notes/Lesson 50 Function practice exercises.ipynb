{
 "cells": [
  {
   "cell_type": "code",
   "execution_count": 2,
   "id": "8c3c9fc3",
   "metadata": {},
   "outputs": [],
   "source": [
    "# LESSER OF TWO EVENS: Write a function that returns the lesser of two given numbers if both numbers are even\n",
    "#, but returns the greater if one or both numbers are odd\n"
   ]
  },
  {
   "cell_type": "code",
   "execution_count": null,
   "id": "2e745330",
   "metadata": {},
   "outputs": [],
   "source": []
  },
  {
   "cell_type": "code",
   "execution_count": null,
   "id": "b39ad384",
   "metadata": {},
   "outputs": [],
   "source": []
  },
  {
   "cell_type": "code",
   "execution_count": null,
   "id": "d217ecd1",
   "metadata": {},
   "outputs": [],
   "source": []
  },
  {
   "cell_type": "code",
   "execution_count": null,
   "id": "57cf6381",
   "metadata": {},
   "outputs": [],
   "source": []
  },
  {
   "cell_type": "code",
   "execution_count": null,
   "id": "f56985f2",
   "metadata": {},
   "outputs": [],
   "source": []
  },
  {
   "cell_type": "code",
   "execution_count": null,
   "id": "47f951ea",
   "metadata": {},
   "outputs": [],
   "source": []
  },
  {
   "cell_type": "code",
   "execution_count": null,
   "id": "b7857a18",
   "metadata": {},
   "outputs": [],
   "source": []
  },
  {
   "cell_type": "code",
   "execution_count": null,
   "id": "223728bf",
   "metadata": {},
   "outputs": [],
   "source": []
  },
  {
   "cell_type": "code",
   "execution_count": null,
   "id": "694e285e",
   "metadata": {},
   "outputs": [],
   "source": []
  },
  {
   "cell_type": "code",
   "execution_count": null,
   "id": "ad234f91",
   "metadata": {},
   "outputs": [],
   "source": []
  },
  {
   "cell_type": "code",
   "execution_count": null,
   "id": "7f302f77",
   "metadata": {},
   "outputs": [],
   "source": []
  },
  {
   "cell_type": "code",
   "execution_count": null,
   "id": "252a8f22",
   "metadata": {},
   "outputs": [],
   "source": []
  },
  {
   "cell_type": "code",
   "execution_count": null,
   "id": "353f3336",
   "metadata": {},
   "outputs": [],
   "source": []
  },
  {
   "cell_type": "code",
   "execution_count": null,
   "id": "5f47a407",
   "metadata": {},
   "outputs": [],
   "source": []
  },
  {
   "cell_type": "code",
   "execution_count": null,
   "id": "12f952a9",
   "metadata": {},
   "outputs": [],
   "source": []
  },
  {
   "cell_type": "code",
   "execution_count": null,
   "id": "b6935f2d",
   "metadata": {},
   "outputs": [],
   "source": []
  },
  {
   "cell_type": "code",
   "execution_count": null,
   "id": "3ea2c3ab",
   "metadata": {},
   "outputs": [],
   "source": [
    "def lesser_of_two_evens(a,b):\n",
    "    if a%2 == 0 and b%2 == 0:\n",
    "        if a < b:\n",
    "            return a\n",
    "    else:\n",
    "        if a > b:\n",
    "            return a\n",
    "    return b\n",
    "\n"
   ]
  },
  {
   "cell_type": "code",
   "execution_count": 3,
   "id": "375d5779",
   "metadata": {},
   "outputs": [],
   "source": [
    "def lesser_of_two_evens(a,b):\n",
    "    if a%2 == 0 and b%2 == 0:\n",
    "        if a < b:\n",
    "            return a\n",
    "        else:\n",
    "            return b\n",
    "    else:\n",
    "        if a > b:\n",
    "            return a\n",
    "        else:\n",
    "            return b\n"
   ]
  },
  {
   "cell_type": "code",
   "execution_count": null,
   "id": "19893581",
   "metadata": {},
   "outputs": [],
   "source": [
    "# lesser_of_two_evens(8,4)"
   ]
  },
  {
   "cell_type": "code",
   "execution_count": 7,
   "id": "db87b395",
   "metadata": {},
   "outputs": [
    {
     "data": {
      "text/plain": [
       "10"
      ]
     },
     "execution_count": 7,
     "metadata": {},
     "output_type": "execute_result"
    }
   ],
   "source": [
    "lesser_of_two_evens(10,5)"
   ]
  },
  {
   "cell_type": "code",
   "execution_count": 8,
   "id": "ee76250c",
   "metadata": {},
   "outputs": [],
   "source": [
    "#ANIMAL CRACKERS: Write a function takes a two-word string and returns True if both words begin with same letter"
   ]
  },
  {
   "cell_type": "code",
   "execution_count": 9,
   "id": "bc3dd84e",
   "metadata": {},
   "outputs": [],
   "source": [
    "def animal_crackers(A,B):\n",
    "    if A[0] == B[0]:\n",
    "        return True\n",
    "    else:\n",
    "        return False\n",
    "    "
   ]
  },
  {
   "cell_type": "code",
   "execution_count": 10,
   "id": "c27fd9a0",
   "metadata": {},
   "outputs": [
    {
     "data": {
      "text/plain": [
       "True"
      ]
     },
     "execution_count": 10,
     "metadata": {},
     "output_type": "execute_result"
    }
   ],
   "source": [
    "animal_crackers('Lick','Lama')"
   ]
  },
  {
   "cell_type": "code",
   "execution_count": 11,
   "id": "6cfcde29",
   "metadata": {},
   "outputs": [
    {
     "data": {
      "text/plain": [
       "False"
      ]
     },
     "execution_count": 11,
     "metadata": {},
     "output_type": "execute_result"
    }
   ],
   "source": [
    "animal_crackers('Taxi', 'Panda')"
   ]
  },
  {
   "cell_type": "code",
   "execution_count": 12,
   "id": "dddbb059",
   "metadata": {},
   "outputs": [],
   "source": [
    "#MAKES TWENTY: Given two integers, return True if the sum of the integers is 20 or if one of the integers is 20. \n",
    "#If not, return False"
   ]
  },
  {
   "cell_type": "code",
   "execution_count": 28,
   "id": "76bb084b",
   "metadata": {},
   "outputs": [],
   "source": [
    "def makes_twenty(a,b):\n",
    "    if a+b==20 or a==20 or b==20:\n",
    "        return True\n",
    "    else:\n",
    "        return False"
   ]
  },
  {
   "cell_type": "code",
   "execution_count": 29,
   "id": "f6b7d3a6",
   "metadata": {},
   "outputs": [
    {
     "data": {
      "text/plain": [
       "True"
      ]
     },
     "execution_count": 29,
     "metadata": {},
     "output_type": "execute_result"
    }
   ],
   "source": [
    "makes_twenty(20,10)"
   ]
  },
  {
   "cell_type": "code",
   "execution_count": 30,
   "id": "454905c8",
   "metadata": {},
   "outputs": [
    {
     "data": {
      "text/plain": [
       "False"
      ]
     },
     "execution_count": 30,
     "metadata": {},
     "output_type": "execute_result"
    }
   ],
   "source": [
    "makes_twenty(2,3)"
   ]
  },
  {
   "cell_type": "markdown",
   "id": "6525de0e",
   "metadata": {},
   "source": [
    "# level one questions\n"
   ]
  },
  {
   "cell_type": "code",
   "execution_count": 32,
   "id": "db43fe2a",
   "metadata": {},
   "outputs": [],
   "source": [
    "#OLD MACDONALD: Write a function that capitalizes the first and fourth letters of a name"
   ]
  },
  {
   "cell_type": "code",
   "execution_count": 88,
   "id": "e7c721de",
   "metadata": {},
   "outputs": [],
   "source": [
    "def old_macdonald(name):\n",
    "    spell = list(name)\n",
    "    \n",
    "    spell[0] = spell[0].upper()\n",
    "    spell[3] = spell[3].upper()\n",
    "    \n",
    "    return ''.join(spell)"
   ]
  },
  {
   "cell_type": "code",
   "execution_count": 89,
   "id": "a3759377",
   "metadata": {},
   "outputs": [
    {
     "data": {
      "text/plain": [
       "'MacDonald'"
      ]
     },
     "execution_count": 89,
     "metadata": {},
     "output_type": "execute_result"
    }
   ],
   "source": [
    "old_macdonald('macdonald')"
   ]
  },
  {
   "cell_type": "code",
   "execution_count": 90,
   "id": "9f0f8560",
   "metadata": {},
   "outputs": [
    {
     "data": {
      "text/plain": [
       "'AndRew'"
      ]
     },
     "execution_count": 90,
     "metadata": {},
     "output_type": "execute_result"
    }
   ],
   "source": [
    "old_macdonald('andrew')"
   ]
  },
  {
   "cell_type": "code",
   "execution_count": 63,
   "id": "79b6e435",
   "metadata": {},
   "outputs": [],
   "source": [
    "#MASTER YODA: Given a sentence, return a sentence with the words reversed"
   ]
  },
  {
   "cell_type": "code",
   "execution_count": 85,
   "id": "309b812f",
   "metadata": {},
   "outputs": [],
   "source": [
    "def master_yoda(sentence):\n",
    "    \n",
    "    seperated = sentence.split(' ')\n",
    "    backwards = seperated[::-1]\n",
    "    \n",
    "    return ' '.join(backwards)"
   ]
  },
  {
   "cell_type": "code",
   "execution_count": 86,
   "id": "8a298114",
   "metadata": {},
   "outputs": [
    {
     "data": {
      "text/plain": [
       "'home am I'"
      ]
     },
     "execution_count": 86,
     "metadata": {},
     "output_type": "execute_result"
    }
   ],
   "source": [
    "master_yoda('I am home')"
   ]
  },
  {
   "cell_type": "code",
   "execution_count": 87,
   "id": "a0915fb0",
   "metadata": {},
   "outputs": [
    {
     "data": {
      "text/plain": [
       "'night the for done now am I'"
      ]
     },
     "execution_count": 87,
     "metadata": {},
     "output_type": "execute_result"
    }
   ],
   "source": [
    "master_yoda('I am now done for the night')"
   ]
  },
  {
   "cell_type": "code",
   "execution_count": 91,
   "id": "8c7e9c90",
   "metadata": {},
   "outputs": [],
   "source": [
    "#ALMOST THERE: Given an integer n, return True if n is within 10 of either 100 or 200"
   ]
  },
  {
   "cell_type": "code",
   "execution_count": 92,
   "id": "c722cb73",
   "metadata": {},
   "outputs": [],
   "source": [
    "def within_ten(n):\n",
    "    if abs(100 - n) <= 10 or abs(200-n) <= 10:\n",
    "        return True\n",
    "    else:\n",
    "        return False"
   ]
  },
  {
   "cell_type": "code",
   "execution_count": 93,
   "id": "68ce73ee",
   "metadata": {},
   "outputs": [
    {
     "data": {
      "text/plain": [
       "True"
      ]
     },
     "execution_count": 93,
     "metadata": {},
     "output_type": "execute_result"
    }
   ],
   "source": [
    "within_ten(104)"
   ]
  },
  {
   "cell_type": "code",
   "execution_count": 94,
   "id": "79af8615",
   "metadata": {},
   "outputs": [
    {
     "data": {
      "text/plain": [
       "True"
      ]
     },
     "execution_count": 94,
     "metadata": {},
     "output_type": "execute_result"
    }
   ],
   "source": [
    "within_ten(196)"
   ]
  },
  {
   "cell_type": "code",
   "execution_count": 95,
   "id": "ad3d5f4c",
   "metadata": {},
   "outputs": [
    {
     "data": {
      "text/plain": [
       "False"
      ]
     },
     "execution_count": 95,
     "metadata": {},
     "output_type": "execute_result"
    }
   ],
   "source": [
    "within_ten(50)"
   ]
  },
  {
   "cell_type": "markdown",
   "id": "74f2a3cf",
   "metadata": {},
   "source": [
    "# level two problems "
   ]
  },
  {
   "cell_type": "code",
   "execution_count": 97,
   "id": "f38d29ba",
   "metadata": {},
   "outputs": [],
   "source": [
    "#Given a list of ints, return True if the array contains a 3 next to a 3 somewhere."
   ]
  },
  {
   "cell_type": "code",
   "execution_count": 125,
   "id": "9a2bcb1e",
   "metadata": {},
   "outputs": [],
   "source": [
    "def has_33(nums):\n",
    "    print(nums)\n",
    "    numlist = []\n",
    "    for num in nums:\n",
    "        numlist.append(num)\n",
    "    print(numlist)\n",
    "    for num1, num2 in zip(numlist, numlist[:-1]):\n",
    "        if num1 == num2:\n",
    "            return True\n",
    "        else:\n",
    "            return False\n"
   ]
  },
  {
   "cell_type": "code",
   "execution_count": 126,
   "id": "217f3ceb",
   "metadata": {},
   "outputs": [
    {
     "name": "stdout",
     "output_type": "stream",
     "text": [
      "[1, 3, 3]\n",
      "[1, 3, 3]\n"
     ]
    },
    {
     "data": {
      "text/plain": [
       "True"
      ]
     },
     "execution_count": 126,
     "metadata": {},
     "output_type": "execute_result"
    }
   ],
   "source": [
    "has_33([1, 3, 3])"
   ]
  },
  {
   "cell_type": "code",
   "execution_count": 266,
   "id": "c8b5e243",
   "metadata": {},
   "outputs": [],
   "source": [
    "def has_33(nums):\n",
    "    print(nums)\n",
    "    \n",
    "    for num1, num2 in zip(nums, nums[1:]):\n",
    "        print(num1, num2)\n",
    "        \n",
    "        if num1 == num2:\n",
    "            return True\n",
    "    return False\n",
    "    \n"
   ]
  },
  {
   "cell_type": "code",
   "execution_count": null,
   "id": "3ddc541a",
   "metadata": {},
   "outputs": [],
   "source": [
    "#version 3 solution"
   ]
  },
  {
   "cell_type": "code",
   "execution_count": null,
   "id": "83d09eb8",
   "metadata": {},
   "outputs": [],
   "source": [
    "for i in range(len(nums)-1):\n",
    "    if nums[i] == nums[i+1]:\n",
    "        return True\n",
    "return False"
   ]
  },
  {
   "cell_type": "code",
   "execution_count": 267,
   "id": "551d3595",
   "metadata": {},
   "outputs": [
    {
     "name": "stdout",
     "output_type": "stream",
     "text": [
      "[1, 3, 3]\n",
      "1 3\n",
      "3 3\n"
     ]
    },
    {
     "data": {
      "text/plain": [
       "True"
      ]
     },
     "execution_count": 267,
     "metadata": {},
     "output_type": "execute_result"
    }
   ],
   "source": [
    "has_33([1, 3, 3])"
   ]
  },
  {
   "cell_type": "code",
   "execution_count": 268,
   "id": "e80d1484",
   "metadata": {},
   "outputs": [
    {
     "name": "stdout",
     "output_type": "stream",
     "text": [
      "[1, 3, 1, 3]\n",
      "1 3\n",
      "3 1\n",
      "1 3\n"
     ]
    },
    {
     "data": {
      "text/plain": [
       "False"
      ]
     },
     "execution_count": 268,
     "metadata": {},
     "output_type": "execute_result"
    }
   ],
   "source": [
    "has_33([1, 3, 1, 3])"
   ]
  },
  {
   "cell_type": "code",
   "execution_count": null,
   "id": "ce14dba9",
   "metadata": {},
   "outputs": [],
   "source": [
    "#example of how zip works there"
   ]
  },
  {
   "cell_type": "code",
   "execution_count": 162,
   "id": "097f7079",
   "metadata": {},
   "outputs": [
    {
     "name": "stdout",
     "output_type": "stream",
     "text": [
      "[(1, 2, 3), (2, 3, 4), (3, 4, 5), (4, 5, 6)]\n"
     ]
    }
   ],
   "source": [
    "jlist = [1,2,3,4,5,6] \n",
    "\n",
    "j1 , j2, j3 in zip(jlist, jlist[1:], jlist[2:])\n",
    "print(list(zip(jlist,jlist[1:], jlist[2:])))"
   ]
  },
  {
   "cell_type": "code",
   "execution_count": 163,
   "id": "c8b534da",
   "metadata": {},
   "outputs": [],
   "source": [
    "#PAPER DOLL: Given a string, return a string where for every character in the original there are three characters"
   ]
  },
  {
   "cell_type": "code",
   "execution_count": 255,
   "id": "d66d3b4c",
   "metadata": {},
   "outputs": [],
   "source": [
    "def paper_doll(text):\n",
    "    letters = [letter for letter in text]\n",
    "    print(letters)\n",
    "    multletters = []\n",
    "    for a in letters:\n",
    "         multletters.append(a*3)\n",
    "    print(multletters)\n",
    "    goal = ''.join(multletters)\n",
    "    return(goal)\n",
    "    \n",
    "    "
   ]
  },
  {
   "cell_type": "code",
   "execution_count": 256,
   "id": "f44a5e5d",
   "metadata": {},
   "outputs": [
    {
     "name": "stdout",
     "output_type": "stream",
     "text": [
      "['H', 'e', 'l', 'l', 'o']\n",
      "['HHH', 'eee', 'lll', 'lll', 'ooo']\n"
     ]
    },
    {
     "data": {
      "text/plain": [
       "'HHHeeellllllooo'"
      ]
     },
     "execution_count": 256,
     "metadata": {},
     "output_type": "execute_result"
    }
   ],
   "source": [
    "paper_doll('Hello')"
   ]
  },
  {
   "cell_type": "code",
   "execution_count": 257,
   "id": "03039071",
   "metadata": {},
   "outputs": [],
   "source": [
    "# without the prints"
   ]
  },
  {
   "cell_type": "code",
   "execution_count": 258,
   "id": "08075b5f",
   "metadata": {},
   "outputs": [],
   "source": [
    "def paper_doll(text):\n",
    "    letters = [letter for letter in text]\n",
    "    multletters = []\n",
    "    for a in letters:\n",
    "         multletters.append(a*3)\n",
    "    goal = ''.join(multletters)\n",
    "    return(goal)\n",
    "    "
   ]
  },
  {
   "cell_type": "code",
   "execution_count": 259,
   "id": "8e2249f3",
   "metadata": {},
   "outputs": [
    {
     "data": {
      "text/plain": [
       "'HHHeeellllllooo'"
      ]
     },
     "execution_count": 259,
     "metadata": {},
     "output_type": "execute_result"
    }
   ],
   "source": [
    "paper_doll('Hello')"
   ]
  },
  {
   "cell_type": "code",
   "execution_count": 260,
   "id": "cd550416",
   "metadata": {},
   "outputs": [],
   "source": [
    "def paper_doll(text):\n",
    "    return ''.join([letter*3 for letter in text])"
   ]
  },
  {
   "cell_type": "code",
   "execution_count": 261,
   "id": "2e3bf287",
   "metadata": {},
   "outputs": [
    {
     "data": {
      "text/plain": [
       "'HHHeeellllllooo'"
      ]
     },
     "execution_count": 261,
     "metadata": {},
     "output_type": "execute_result"
    }
   ],
   "source": [
    "paper_doll('Hello')"
   ]
  },
  {
   "cell_type": "code",
   "execution_count": 264,
   "id": "fee129c5",
   "metadata": {},
   "outputs": [],
   "source": [
    "def paper_doll(text):\n",
    "    multletters = []\n",
    "    for a in text:\n",
    "         multletters.append(a*3)\n",
    "    return ''.join(multletters)"
   ]
  },
  {
   "cell_type": "code",
   "execution_count": 265,
   "id": "a8eadfd2",
   "metadata": {},
   "outputs": [
    {
     "data": {
      "text/plain": [
       "'HHHeeellllllooo'"
      ]
     },
     "execution_count": 265,
     "metadata": {},
     "output_type": "execute_result"
    }
   ],
   "source": [
    "paper_doll('Hello')"
   ]
  },
  {
   "cell_type": "code",
   "execution_count": 269,
   "id": "6c2f761e",
   "metadata": {},
   "outputs": [],
   "source": [
    "#BLACKJACK: Given three integers between 1 and 11, if their sum is less than or equal to 21, return their sum. \n",
    "#If their sum exceeds 21 and there's an eleven, reduce the total sum by 10. \n",
    "#Finally, if the sum (even after adjustment) exceeds 21, return 'BUST'"
   ]
  },
  {
   "cell_type": "code",
   "execution_count": 276,
   "id": "854ceb3c",
   "metadata": {},
   "outputs": [],
   "source": [
    "def blackjack(a,b,c):\n",
    "    if 1 <= a <=11 and  1 <= b <=11 and 1 <= c <=11:\n",
    "        if (a+b+c) <= 21:\n",
    "            return (a+b+c)\n",
    "        elif (a+b+c) > 21 and a == 11 or b == 11 or c == 11:\n",
    "            reset = (a+b+c) - 10\n",
    "            if reset > 21:\n",
    "                return 'BUST'\n",
    "            else:\n",
    "                return reset\n",
    "        else:\n",
    "            if a+b+c > 21:\n",
    "                return 'BUST'"
   ]
  },
  {
   "cell_type": "code",
   "execution_count": 277,
   "id": "0bd66b81",
   "metadata": {},
   "outputs": [
    {
     "data": {
      "text/plain": [
       "18"
      ]
     },
     "execution_count": 277,
     "metadata": {},
     "output_type": "execute_result"
    }
   ],
   "source": [
    "blackjack(5,6,7)"
   ]
  },
  {
   "cell_type": "code",
   "execution_count": 278,
   "id": "2652eb28",
   "metadata": {},
   "outputs": [
    {
     "data": {
      "text/plain": [
       "'BUST'"
      ]
     },
     "execution_count": 278,
     "metadata": {},
     "output_type": "execute_result"
    }
   ],
   "source": [
    "blackjack(9,9,9)"
   ]
  },
  {
   "cell_type": "code",
   "execution_count": 279,
   "id": "deeb61dc",
   "metadata": {},
   "outputs": [
    {
     "data": {
      "text/plain": [
       "19"
      ]
     },
     "execution_count": 279,
     "metadata": {},
     "output_type": "execute_result"
    }
   ],
   "source": [
    "blackjack(9,9,11)"
   ]
  },
  {
   "cell_type": "code",
   "execution_count": 280,
   "id": "563e3af8",
   "metadata": {},
   "outputs": [],
   "source": [
    "#SUMMER OF '69: Return the sum of the numbers in the array, except ignore sections of numbers starting with a 6 \n",
    "#and extending to the next 9 (every 6 will be followed by at least one 9). Return 0 for no numbers."
   ]
  },
  {
   "cell_type": "code",
   "execution_count": null,
   "id": "8210dc16",
   "metadata": {},
   "outputs": [],
   "source": [
    "def summer_69(arr):\n",
    "    return sum(arr[)])"
   ]
  }
 ],
 "metadata": {
  "kernelspec": {
   "display_name": "Python 3 (ipykernel)",
   "language": "python",
   "name": "python3"
  },
  "language_info": {
   "codemirror_mode": {
    "name": "ipython",
    "version": 3
   },
   "file_extension": ".py",
   "mimetype": "text/x-python",
   "name": "python",
   "nbconvert_exporter": "python",
   "pygments_lexer": "ipython3",
   "version": "3.9.7"
  }
 },
 "nbformat": 4,
 "nbformat_minor": 5
}
