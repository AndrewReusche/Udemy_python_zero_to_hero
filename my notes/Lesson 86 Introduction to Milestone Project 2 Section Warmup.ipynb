{
 "cells": [
  {
   "cell_type": "code",
   "execution_count": 1,
   "id": "c0bd0684",
   "metadata": {},
   "outputs": [],
   "source": [
    "# to make this game we will need to create:\n",
    "#card class \n",
    "#deck Class\n",
    "#PLayer class\n",
    "#Game Logic"
   ]
  },
  {
   "cell_type": "code",
   "execution_count": null,
   "id": "3e52f3a8",
   "metadata": {},
   "outputs": [],
   "source": []
  }
 ],
 "metadata": {
  "kernelspec": {
   "display_name": "Python 3 (ipykernel)",
   "language": "python",
   "name": "python3"
  },
  "language_info": {
   "codemirror_mode": {
    "name": "ipython",
    "version": 3
   },
   "file_extension": ".py",
   "mimetype": "text/x-python",
   "name": "python",
   "nbconvert_exporter": "python",
   "pygments_lexer": "ipython3",
   "version": "3.9.7"
  }
 },
 "nbformat": 4,
 "nbformat_minor": 5
}
