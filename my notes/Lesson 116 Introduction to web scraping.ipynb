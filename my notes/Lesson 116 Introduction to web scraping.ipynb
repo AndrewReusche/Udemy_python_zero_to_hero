{
 "cells": [
  {
   "cell_type": "markdown",
   "id": "2d3ec016",
   "metadata": {},
   "source": [
    "# Rules of webscraping"
   ]
  },
  {
   "cell_type": "markdown",
   "id": "269b6f2d",
   "metadata": {},
   "source": [
    "always try to get permission befor scraping"
   ]
  },
  {
   "cell_type": "markdown",
   "id": "6ed5eba6",
   "metadata": {},
   "source": [
    "if you make too many scraping attempts or requests your ip address could get blocked"
   ]
  },
  {
   "cell_type": "markdown",
   "id": "825a8655",
   "metadata": {},
   "source": [
    "some sites automatically blockscraping software\n"
   ]
  },
  {
   "cell_type": "markdown",
   "id": "223a99f2",
   "metadata": {},
   "source": [
    "# limitations of web scraping"
   ]
  },
  {
   "cell_type": "markdown",
   "id": "8c9a8fa3",
   "metadata": {},
   "source": [
    "in general every website in unique which means every web scraping script is unique"
   ]
  },
  {
   "cell_type": "markdown",
   "id": "bf21da89",
   "metadata": {},
   "source": [
    "a slight change or update to a website can completely break your webscraping script"
   ]
  },
  {
   "cell_type": "markdown",
   "id": "e39994ca",
   "metadata": {},
   "source": [
    "# main three front end components of a website"
   ]
  },
  {
   "cell_type": "markdown",
   "id": "11e98b73",
   "metadata": {},
   "source": [
    "1) HTML: creates basic structure and contenct of web page\n",
    "2) CSS: design and style of a web page, where elements are placed and how it looks\n",
    "3) JS: used to define the interactive elements of w web page"
   ]
  },
  {
   "cell_type": "code",
   "execution_count": null,
   "id": "5169ecb0",
   "metadata": {},
   "outputs": [],
   "source": []
  }
 ],
 "metadata": {
  "kernelspec": {
   "display_name": "Python 3 (ipykernel)",
   "language": "python",
   "name": "python3"
  },
  "language_info": {
   "codemirror_mode": {
    "name": "ipython",
    "version": 3
   },
   "file_extension": ".py",
   "mimetype": "text/x-python",
   "name": "python",
   "nbconvert_exporter": "python",
   "pygments_lexer": "ipython3",
   "version": "3.9.7"
  }
 },
 "nbformat": 4,
 "nbformat_minor": 5
}
