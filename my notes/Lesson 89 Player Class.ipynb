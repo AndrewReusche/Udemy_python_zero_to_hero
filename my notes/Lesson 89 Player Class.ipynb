{
 "cells": [
  {
   "cell_type": "code",
   "execution_count": 1,
   "id": "90c5c4db",
   "metadata": {},
   "outputs": [],
   "source": [
    "# card class\n",
    "#suit, rank, value \n",
    "\n",
    "\n",
    "import random\n",
    "\n",
    "suits = suits = ('Hearts', 'Diamonds', 'Spades', 'Clubs')\n",
    "\n",
    "ranks = ranks = ('Two', 'Three', 'Four', 'Five', 'Six', 'Seven', 'Eight', 'Nine', 'Ten', 'Jack', 'Queen', 'King', 'Ace')\n",
    "\n",
    "values = {'Two':2, 'Three':3, 'Four':4, 'Five':5, 'Six':6, 'Seven':7, 'Eight':8, \n",
    "            'Nine':9, 'Ten':10, 'Jack':11, 'Queen':12, 'King':13, 'Ace':14}"
   ]
  },
  {
   "cell_type": "code",
   "execution_count": 2,
   "id": "8318e7a9",
   "metadata": {},
   "outputs": [],
   "source": [
    "class Card:\n",
    "    def __init__(self,suit,rank):\n",
    "        self.suit = suit\n",
    "        self.rank = rank\n",
    "        self.value = values[rank]\n",
    "    def __str__(self):\n",
    "        return self.rank +\" of \"+self.suit"
   ]
  },
  {
   "cell_type": "code",
   "execution_count": 3,
   "id": "81354066",
   "metadata": {},
   "outputs": [],
   "source": [
    "three_of_clubs = Card(\"Clubs\",\"Three\")"
   ]
  },
  {
   "cell_type": "code",
   "execution_count": 4,
   "id": "5966f669",
   "metadata": {},
   "outputs": [
    {
     "data": {
      "text/plain": [
       "'Three'"
      ]
     },
     "execution_count": 4,
     "metadata": {},
     "output_type": "execute_result"
    }
   ],
   "source": [
    "three_of_clubs.rank"
   ]
  },
  {
   "cell_type": "code",
   "execution_count": 5,
   "id": "54251ef2",
   "metadata": {},
   "outputs": [
    {
     "data": {
      "text/plain": [
       "'Clubs'"
      ]
     },
     "execution_count": 5,
     "metadata": {},
     "output_type": "execute_result"
    }
   ],
   "source": [
    "three_of_clubs.suit"
   ]
  },
  {
   "cell_type": "code",
   "execution_count": 6,
   "id": "c090f672",
   "metadata": {},
   "outputs": [
    {
     "data": {
      "text/plain": [
       "3"
      ]
     },
     "execution_count": 6,
     "metadata": {},
     "output_type": "execute_result"
    }
   ],
   "source": [
    "three_of_clubs.value"
   ]
  },
  {
   "cell_type": "code",
   "execution_count": null,
   "id": "b1f60bc4",
   "metadata": {},
   "outputs": [],
   "source": []
  },
  {
   "cell_type": "code",
   "execution_count": 7,
   "id": "3813d6ce",
   "metadata": {},
   "outputs": [],
   "source": [
    "two_hearts = Card('Hearts','Two')"
   ]
  },
  {
   "cell_type": "code",
   "execution_count": 8,
   "id": "6f716f50",
   "metadata": {},
   "outputs": [
    {
     "data": {
      "text/plain": [
       "<__main__.Card at 0x2324c1e47c0>"
      ]
     },
     "execution_count": 8,
     "metadata": {},
     "output_type": "execute_result"
    }
   ],
   "source": [
    "two_hearts"
   ]
  },
  {
   "cell_type": "code",
   "execution_count": 9,
   "id": "2ca1873a",
   "metadata": {},
   "outputs": [
    {
     "name": "stdout",
     "output_type": "stream",
     "text": [
      "Two of Hearts\n"
     ]
    }
   ],
   "source": [
    "print(two_hearts)"
   ]
  },
  {
   "cell_type": "code",
   "execution_count": 10,
   "id": "047c2c8a",
   "metadata": {},
   "outputs": [
    {
     "data": {
      "text/plain": [
       "'Two'"
      ]
     },
     "execution_count": 10,
     "metadata": {},
     "output_type": "execute_result"
    }
   ],
   "source": [
    "two_hearts.rank"
   ]
  },
  {
   "cell_type": "code",
   "execution_count": 11,
   "id": "e4973ae7",
   "metadata": {},
   "outputs": [
    {
     "data": {
      "text/plain": [
       "'Hearts'"
      ]
     },
     "execution_count": 11,
     "metadata": {},
     "output_type": "execute_result"
    }
   ],
   "source": [
    "two_hearts.suit\n"
   ]
  },
  {
   "cell_type": "code",
   "execution_count": 12,
   "id": "8ca2f5b8",
   "metadata": {},
   "outputs": [
    {
     "data": {
      "text/plain": [
       "2"
      ]
     },
     "execution_count": 12,
     "metadata": {},
     "output_type": "execute_result"
    }
   ],
   "source": [
    "two_hearts.value"
   ]
  },
  {
   "cell_type": "code",
   "execution_count": 13,
   "id": "ed2148bb",
   "metadata": {},
   "outputs": [],
   "source": [
    "values = {'Two':2, 'Three':3, 'Four':4, 'Five':5, 'Six':6, 'Seven':7, 'Eight':8, \n",
    "            'Nine':9, 'Ten':10, 'Jack':11, 'Queen':12, 'King':13, 'Ace':14}"
   ]
  },
  {
   "cell_type": "code",
   "execution_count": 14,
   "id": "f6d65123",
   "metadata": {},
   "outputs": [
    {
     "data": {
      "text/plain": [
       "2"
      ]
     },
     "execution_count": 14,
     "metadata": {},
     "output_type": "execute_result"
    }
   ],
   "source": [
    "values[two_hearts.rank]"
   ]
  },
  {
   "cell_type": "code",
   "execution_count": 15,
   "id": "cb1d9c65",
   "metadata": {},
   "outputs": [
    {
     "data": {
      "text/plain": [
       "True"
      ]
     },
     "execution_count": 15,
     "metadata": {},
     "output_type": "execute_result"
    }
   ],
   "source": [
    "two_hearts.value < three_of_clubs.value"
   ]
  },
  {
   "cell_type": "markdown",
   "id": "ef37c279",
   "metadata": {},
   "source": [
    "# Deck class"
   ]
  },
  {
   "cell_type": "code",
   "execution_count": 16,
   "id": "6566f938",
   "metadata": {},
   "outputs": [],
   "source": [
    "#instantiate a new deck by creating 52 card abjects, and and holding  list of card objects"
   ]
  },
  {
   "cell_type": "code",
   "execution_count": 17,
   "id": "b3287549",
   "metadata": {},
   "outputs": [],
   "source": [
    "#shuffle the deck through a method called random library shuffle() funct"
   ]
  },
  {
   "cell_type": "code",
   "execution_count": 18,
   "id": "18e4f522",
   "metadata": {},
   "outputs": [],
   "source": [
    "#deal cards from the deck object via pop method from cards list"
   ]
  },
  {
   "cell_type": "code",
   "execution_count": 19,
   "id": "bd127edb",
   "metadata": {},
   "outputs": [],
   "source": [
    "class Deck:\n",
    "    \n",
    "    def __init__(self):\n",
    "        self.all_cards=[]\n",
    "        \n",
    "        for suit in suits:\n",
    "            for rank in ranks:\n",
    "                #create the card object\n",
    "                created_card = Card(suit,rank)\n",
    "                \n",
    "                self.all_cards.append(created_card)\n",
    "        "
   ]
  },
  {
   "cell_type": "code",
   "execution_count": 20,
   "id": "c1ec8059",
   "metadata": {},
   "outputs": [],
   "source": [
    "new_deck = Deck()"
   ]
  },
  {
   "cell_type": "code",
   "execution_count": 21,
   "id": "ec6cdc1d",
   "metadata": {},
   "outputs": [
    {
     "data": {
      "text/plain": [
       "[<__main__.Card at 0x2324c143430>,\n",
       " <__main__.Card at 0x2324c143130>,\n",
       " <__main__.Card at 0x2324c11cc70>,\n",
       " <__main__.Card at 0x2324c11c7c0>,\n",
       " <__main__.Card at 0x2324c11c8b0>,\n",
       " <__main__.Card at 0x2324c11ca30>,\n",
       " <__main__.Card at 0x2324c11c5e0>,\n",
       " <__main__.Card at 0x2324c11ceb0>,\n",
       " <__main__.Card at 0x2324c11cbe0>,\n",
       " <__main__.Card at 0x2324c11c5b0>,\n",
       " <__main__.Card at 0x2324c1e4490>,\n",
       " <__main__.Card at 0x2324c1e47f0>,\n",
       " <__main__.Card at 0x2324c1e4dc0>,\n",
       " <__main__.Card at 0x2324c1e4370>,\n",
       " <__main__.Card at 0x2324c1e4c10>,\n",
       " <__main__.Card at 0x2324c1e42b0>,\n",
       " <__main__.Card at 0x2324c1e4820>,\n",
       " <__main__.Card at 0x2324c1e4880>,\n",
       " <__main__.Card at 0x2324c1e4730>,\n",
       " <__main__.Card at 0x2324c1e4430>,\n",
       " <__main__.Card at 0x2324c1e48e0>,\n",
       " <__main__.Card at 0x2324c1e4220>,\n",
       " <__main__.Card at 0x2324c1e4280>,\n",
       " <__main__.Card at 0x2324c1e4b20>,\n",
       " <__main__.Card at 0x2324c1e4940>,\n",
       " <__main__.Card at 0x2324c1e4be0>,\n",
       " <__main__.Card at 0x2324c1e4700>,\n",
       " <__main__.Card at 0x2324c1e4d30>,\n",
       " <__main__.Card at 0x2324c1e4850>,\n",
       " <__main__.Card at 0x2324c1e42e0>,\n",
       " <__main__.Card at 0x2324c1e43d0>,\n",
       " <__main__.Card at 0x2324c1e4bb0>,\n",
       " <__main__.Card at 0x2324c1e4d00>,\n",
       " <__main__.Card at 0x2324c1e4340>,\n",
       " <__main__.Card at 0x2324c1e4a90>,\n",
       " <__main__.Card at 0x2324c1d1880>,\n",
       " <__main__.Card at 0x2324c1d11c0>,\n",
       " <__main__.Card at 0x2324c1d18e0>,\n",
       " <__main__.Card at 0x2324c1d1760>,\n",
       " <__main__.Card at 0x2324c1d10a0>,\n",
       " <__main__.Card at 0x2324c1d1100>,\n",
       " <__main__.Card at 0x2324c1d15e0>,\n",
       " <__main__.Card at 0x2324c1d11f0>,\n",
       " <__main__.Card at 0x2324c1d1ac0>,\n",
       " <__main__.Card at 0x2324c1d1a60>,\n",
       " <__main__.Card at 0x2324c1d1940>,\n",
       " <__main__.Card at 0x2324c1d19d0>,\n",
       " <__main__.Card at 0x2324c1b6eb0>,\n",
       " <__main__.Card at 0x2324c203190>,\n",
       " <__main__.Card at 0x2324c203130>,\n",
       " <__main__.Card at 0x2324c2030d0>,\n",
       " <__main__.Card at 0x2324c203070>]"
      ]
     },
     "execution_count": 21,
     "metadata": {},
     "output_type": "execute_result"
    }
   ],
   "source": [
    "new_deck.all_cards"
   ]
  },
  {
   "cell_type": "code",
   "execution_count": 22,
   "id": "98ea577d",
   "metadata": {},
   "outputs": [],
   "source": [
    "first_card = new_deck.all_cards[0]"
   ]
  },
  {
   "cell_type": "code",
   "execution_count": 23,
   "id": "8111470a",
   "metadata": {},
   "outputs": [
    {
     "name": "stdout",
     "output_type": "stream",
     "text": [
      "Two of Hearts\n"
     ]
    }
   ],
   "source": [
    "print(first_card)"
   ]
  },
  {
   "cell_type": "code",
   "execution_count": 24,
   "id": "7de8a4a5",
   "metadata": {},
   "outputs": [],
   "source": [
    "bottom_card = new_deck.all_cards[-1]"
   ]
  },
  {
   "cell_type": "code",
   "execution_count": 25,
   "id": "b9b87b8f",
   "metadata": {},
   "outputs": [
    {
     "name": "stdout",
     "output_type": "stream",
     "text": [
      "Ace of Clubs\n"
     ]
    }
   ],
   "source": [
    "print(bottom_card)"
   ]
  },
  {
   "cell_type": "code",
   "execution_count": 26,
   "id": "d4abd9e2",
   "metadata": {},
   "outputs": [
    {
     "name": "stdout",
     "output_type": "stream",
     "text": [
      "Two of Hearts\n",
      "Three of Hearts\n",
      "Four of Hearts\n",
      "Five of Hearts\n",
      "Six of Hearts\n",
      "Seven of Hearts\n",
      "Eight of Hearts\n",
      "Nine of Hearts\n",
      "Ten of Hearts\n",
      "Jack of Hearts\n",
      "Queen of Hearts\n",
      "King of Hearts\n",
      "Ace of Hearts\n",
      "Two of Diamonds\n",
      "Three of Diamonds\n",
      "Four of Diamonds\n",
      "Five of Diamonds\n",
      "Six of Diamonds\n",
      "Seven of Diamonds\n",
      "Eight of Diamonds\n",
      "Nine of Diamonds\n",
      "Ten of Diamonds\n",
      "Jack of Diamonds\n",
      "Queen of Diamonds\n",
      "King of Diamonds\n",
      "Ace of Diamonds\n",
      "Two of Spades\n",
      "Three of Spades\n",
      "Four of Spades\n",
      "Five of Spades\n",
      "Six of Spades\n",
      "Seven of Spades\n",
      "Eight of Spades\n",
      "Nine of Spades\n",
      "Ten of Spades\n",
      "Jack of Spades\n",
      "Queen of Spades\n",
      "King of Spades\n",
      "Ace of Spades\n",
      "Two of Clubs\n",
      "Three of Clubs\n",
      "Four of Clubs\n",
      "Five of Clubs\n",
      "Six of Clubs\n",
      "Seven of Clubs\n",
      "Eight of Clubs\n",
      "Nine of Clubs\n",
      "Ten of Clubs\n",
      "Jack of Clubs\n",
      "Queen of Clubs\n",
      "King of Clubs\n",
      "Ace of Clubs\n"
     ]
    }
   ],
   "source": [
    "for card_object in new_deck.all_cards:\n",
    "    print(card_object)"
   ]
  },
  {
   "cell_type": "code",
   "execution_count": 27,
   "id": "0718dd04",
   "metadata": {},
   "outputs": [],
   "source": [
    "class Deck:\n",
    "    \n",
    "    def __init__(self):\n",
    "        self.all_cards=[]\n",
    "        \n",
    "        for suit in suits:\n",
    "            for rank in ranks:\n",
    "                #create the card object\n",
    "                created_card = Card(suit,rank)\n",
    "                \n",
    "                self.all_cards.append(created_card)\n",
    "    \n",
    "    def shuffle(self):\n",
    "        random.shuffle(self.all_cards)\n",
    "        "
   ]
  },
  {
   "cell_type": "code",
   "execution_count": 28,
   "id": "26bbd022",
   "metadata": {},
   "outputs": [],
   "source": [
    "my_list = [1,2,3,4,5]"
   ]
  },
  {
   "cell_type": "code",
   "execution_count": 29,
   "id": "4edc05ca",
   "metadata": {},
   "outputs": [],
   "source": [
    "random.shuffle(my_list)"
   ]
  },
  {
   "cell_type": "code",
   "execution_count": 30,
   "id": "36a67cc3",
   "metadata": {},
   "outputs": [
    {
     "data": {
      "text/plain": [
       "[2, 1, 3, 5, 4]"
      ]
     },
     "execution_count": 30,
     "metadata": {},
     "output_type": "execute_result"
    }
   ],
   "source": [
    "my_list"
   ]
  },
  {
   "cell_type": "code",
   "execution_count": 31,
   "id": "c306240b",
   "metadata": {},
   "outputs": [],
   "source": [
    "shuffled_list = random.shuffle(my_list)"
   ]
  },
  {
   "cell_type": "code",
   "execution_count": 32,
   "id": "3fba3381",
   "metadata": {},
   "outputs": [
    {
     "data": {
      "text/plain": [
       "NoneType"
      ]
     },
     "execution_count": 32,
     "metadata": {},
     "output_type": "execute_result"
    }
   ],
   "source": [
    "type(shuffled_list) "
   ]
  },
  {
   "cell_type": "code",
   "execution_count": 33,
   "id": "4e7f3b06",
   "metadata": {},
   "outputs": [],
   "source": [
    "new_deck = Deck()"
   ]
  },
  {
   "cell_type": "code",
   "execution_count": 34,
   "id": "34552564",
   "metadata": {},
   "outputs": [],
   "source": [
    "bottom_card = new_deck.all_cards[51]"
   ]
  },
  {
   "cell_type": "code",
   "execution_count": 35,
   "id": "44195ec0",
   "metadata": {},
   "outputs": [
    {
     "name": "stdout",
     "output_type": "stream",
     "text": [
      "Ace of Clubs\n"
     ]
    }
   ],
   "source": [
    "print(bottom_card)"
   ]
  },
  {
   "cell_type": "code",
   "execution_count": 36,
   "id": "dee2d1ec",
   "metadata": {},
   "outputs": [],
   "source": [
    "new_deck.shuffle()"
   ]
  },
  {
   "cell_type": "code",
   "execution_count": 37,
   "id": "e0b61724",
   "metadata": {},
   "outputs": [
    {
     "name": "stdout",
     "output_type": "stream",
     "text": [
      "Nine of Hearts\n"
     ]
    }
   ],
   "source": [
    "print(new_deck.all_cards[-1])"
   ]
  },
  {
   "cell_type": "code",
   "execution_count": 38,
   "id": "30bfe676",
   "metadata": {},
   "outputs": [],
   "source": [
    "class Deck:\n",
    "    \n",
    "    def __init__(self):\n",
    "        self.all_cards=[]\n",
    "        \n",
    "        for suit in suits:\n",
    "            for rank in ranks:\n",
    "                #create the card object\n",
    "                created_card = Card(suit,rank)\n",
    "                \n",
    "                self.all_cards.append(created_card)\n",
    "    \n",
    "    def shuffle(self):\n",
    "        random.shuffle(self.all_cards)\n",
    "        \n",
    "    def deal_one(self):\n",
    "        return self.all_cards.pop()"
   ]
  },
  {
   "cell_type": "code",
   "execution_count": 39,
   "id": "1839a95f",
   "metadata": {},
   "outputs": [],
   "source": [
    "new_deck = Deck()"
   ]
  },
  {
   "cell_type": "code",
   "execution_count": 40,
   "id": "bed1c340",
   "metadata": {},
   "outputs": [],
   "source": [
    "new_deck.shuffle()"
   ]
  },
  {
   "cell_type": "code",
   "execution_count": 41,
   "id": "f0724869",
   "metadata": {},
   "outputs": [],
   "source": [
    "my_card = new_deck.deal_one()"
   ]
  },
  {
   "cell_type": "code",
   "execution_count": 42,
   "id": "15f3282f",
   "metadata": {},
   "outputs": [
    {
     "data": {
      "text/plain": [
       "<__main__.Card at 0x2324c143ee0>"
      ]
     },
     "execution_count": 42,
     "metadata": {},
     "output_type": "execute_result"
    }
   ],
   "source": [
    "my_card"
   ]
  },
  {
   "cell_type": "code",
   "execution_count": 43,
   "id": "819da69f",
   "metadata": {},
   "outputs": [
    {
     "name": "stdout",
     "output_type": "stream",
     "text": [
      "Queen of Clubs\n"
     ]
    }
   ],
   "source": [
    "print(my_card)"
   ]
  },
  {
   "cell_type": "code",
   "execution_count": 44,
   "id": "f050b9d1",
   "metadata": {},
   "outputs": [
    {
     "data": {
      "text/plain": [
       "51"
      ]
     },
     "execution_count": 44,
     "metadata": {},
     "output_type": "execute_result"
    }
   ],
   "source": [
    "len(new_deck.all_cards)"
   ]
  },
  {
   "cell_type": "code",
   "execution_count": null,
   "id": "cab2d1e2",
   "metadata": {},
   "outputs": [],
   "source": []
  },
  {
   "cell_type": "code",
   "execution_count": null,
   "id": "ddc7ad8d",
   "metadata": {},
   "outputs": [],
   "source": []
  },
  {
   "cell_type": "code",
   "execution_count": null,
   "id": "b73e9e35",
   "metadata": {},
   "outputs": [],
   "source": []
  },
  {
   "cell_type": "markdown",
   "id": "26c69da7",
   "metadata": {},
   "source": [
    "# PLayer Class"
   ]
  },
  {
   "cell_type": "code",
   "execution_count": 79,
   "id": "5b22c8f0",
   "metadata": {},
   "outputs": [],
   "source": [
    "#will hold a players current list of cards"
   ]
  },
  {
   "cell_type": "code",
   "execution_count": 80,
   "id": "904692c4",
   "metadata": {},
   "outputs": [],
   "source": [
    "#a player should be able to add or remove cards from their had \"list of card objects\""
   ]
  },
  {
   "cell_type": "code",
   "execution_count": 81,
   "id": "e2ecb0be",
   "metadata": {},
   "outputs": [],
   "source": [
    "#we want a player to be able to add a single card or mutliple cards to their lists is a single method call"
   ]
  },
  {
   "cell_type": "code",
   "execution_count": 82,
   "id": "7039e046",
   "metadata": {},
   "outputs": [],
   "source": [
    "cards =['A','B','C']"
   ]
  },
  {
   "cell_type": "code",
   "execution_count": 83,
   "id": "a116a84e",
   "metadata": {},
   "outputs": [
    {
     "data": {
      "text/plain": [
       "'A'"
      ]
     },
     "execution_count": 83,
     "metadata": {},
     "output_type": "execute_result"
    }
   ],
   "source": [
    "cards.pop(0)"
   ]
  },
  {
   "cell_type": "code",
   "execution_count": 84,
   "id": "fdeec79e",
   "metadata": {},
   "outputs": [
    {
     "data": {
      "text/plain": [
       "['B', 'C']"
      ]
     },
     "execution_count": 84,
     "metadata": {},
     "output_type": "execute_result"
    }
   ],
   "source": [
    "cards"
   ]
  },
  {
   "cell_type": "code",
   "execution_count": 85,
   "id": "1d6b4f34",
   "metadata": {},
   "outputs": [],
   "source": [
    "cards.append('W')"
   ]
  },
  {
   "cell_type": "code",
   "execution_count": 86,
   "id": "2cf359ca",
   "metadata": {},
   "outputs": [
    {
     "data": {
      "text/plain": [
       "['B', 'C', 'W']"
      ]
     },
     "execution_count": 86,
     "metadata": {},
     "output_type": "execute_result"
    }
   ],
   "source": [
    "cards"
   ]
  },
  {
   "cell_type": "code",
   "execution_count": 87,
   "id": "0f3ca662",
   "metadata": {},
   "outputs": [],
   "source": [
    "cards =['B','C']"
   ]
  },
  {
   "cell_type": "code",
   "execution_count": 88,
   "id": "1a3fcdce",
   "metadata": {},
   "outputs": [],
   "source": [
    "new=['X','Z']"
   ]
  },
  {
   "cell_type": "code",
   "execution_count": 89,
   "id": "67bc39b2",
   "metadata": {},
   "outputs": [],
   "source": [
    "cards.extend(new)"
   ]
  },
  {
   "cell_type": "code",
   "execution_count": 90,
   "id": "d6d15369",
   "metadata": {},
   "outputs": [
    {
     "data": {
      "text/plain": [
       "['B', 'C', 'X', 'Z']"
      ]
     },
     "execution_count": 90,
     "metadata": {},
     "output_type": "execute_result"
    }
   ],
   "source": [
    "cards"
   ]
  },
  {
   "cell_type": "code",
   "execution_count": 91,
   "id": "6ddea252",
   "metadata": {},
   "outputs": [],
   "source": [
    "#extend() takes a list and merges it with the existing list"
   ]
  },
  {
   "cell_type": "code",
   "execution_count": 92,
   "id": "f5ab9266",
   "metadata": {},
   "outputs": [],
   "source": [
    "#if you use append here (instead of extend) you will have a nested list which is problematic here\n",
    "#this is specifically problematic with the removing cards from the list"
   ]
  },
  {
   "cell_type": "code",
   "execution_count": null,
   "id": "5347916f",
   "metadata": {},
   "outputs": [],
   "source": []
  },
  {
   "cell_type": "code",
   "execution_count": null,
   "id": "4f9176e2",
   "metadata": {},
   "outputs": [],
   "source": []
  },
  {
   "cell_type": "code",
   "execution_count": null,
   "id": "7ae5dd92",
   "metadata": {},
   "outputs": [],
   "source": []
  },
  {
   "cell_type": "code",
   "execution_count": 51,
   "id": "b594e16f",
   "metadata": {},
   "outputs": [],
   "source": [
    "class Player:\n",
    "    \n",
    "    def __init__(self,name):\n",
    "        self.name = name\n",
    "        self.all_cards = []\n",
    "        \n",
    "    def remove_one(self):\n",
    "        return self.all_cards.pop(0)\n",
    "    \n",
    "    def add_cards(self, new_cards):\n",
    "        if type(new_cards) == type([]):\n",
    "            #for a list of mutliple card objects\n",
    "            self.all_cards.extend(new_cards)\n",
    "        else:\n",
    "            #for a single card object\n",
    "            self.all_cards.append(new_cards)\n",
    "    \n",
    "    def __str__(self):\n",
    "        return f'Player {self.name} has {len(self.all_cards)} cards.'"
   ]
  },
  {
   "cell_type": "code",
   "execution_count": 52,
   "id": "98fc4205",
   "metadata": {},
   "outputs": [],
   "source": [
    "new_player = Player('Jose')"
   ]
  },
  {
   "cell_type": "code",
   "execution_count": 53,
   "id": "8cd24cdf",
   "metadata": {},
   "outputs": [
    {
     "name": "stdout",
     "output_type": "stream",
     "text": [
      "Player Jose has 0 cards.\n"
     ]
    }
   ],
   "source": [
    "print(new_player)"
   ]
  },
  {
   "cell_type": "code",
   "execution_count": 54,
   "id": "c18e4a1d",
   "metadata": {},
   "outputs": [
    {
     "data": {
      "text/plain": [
       "<__main__.Card at 0x2324c143ee0>"
      ]
     },
     "execution_count": 54,
     "metadata": {},
     "output_type": "execute_result"
    }
   ],
   "source": [
    "my_card"
   ]
  },
  {
   "cell_type": "code",
   "execution_count": 55,
   "id": "57079f81",
   "metadata": {},
   "outputs": [
    {
     "name": "stdout",
     "output_type": "stream",
     "text": [
      "Queen of Clubs\n"
     ]
    }
   ],
   "source": [
    "print(my_card)"
   ]
  },
  {
   "cell_type": "code",
   "execution_count": 56,
   "id": "f2d0bbe0",
   "metadata": {},
   "outputs": [],
   "source": [
    " new_player.add_cards(my_card)"
   ]
  },
  {
   "cell_type": "code",
   "execution_count": 57,
   "id": "81b02426",
   "metadata": {},
   "outputs": [
    {
     "data": {
      "text/plain": [
       "<__main__.Player at 0x2324c22f6a0>"
      ]
     },
     "execution_count": 57,
     "metadata": {},
     "output_type": "execute_result"
    }
   ],
   "source": [
    "new_player"
   ]
  },
  {
   "cell_type": "code",
   "execution_count": 58,
   "id": "1b0156cd",
   "metadata": {},
   "outputs": [
    {
     "name": "stdout",
     "output_type": "stream",
     "text": [
      "Player Jose has 1 cards.\n"
     ]
    }
   ],
   "source": [
    "print(new_player)"
   ]
  },
  {
   "cell_type": "code",
   "execution_count": 59,
   "id": "5c3974d9",
   "metadata": {},
   "outputs": [
    {
     "name": "stdout",
     "output_type": "stream",
     "text": [
      "Queen of Clubs\n"
     ]
    }
   ],
   "source": [
    "print(new_player.all_cards[0])"
   ]
  },
  {
   "cell_type": "code",
   "execution_count": 61,
   "id": "48b2a9fd",
   "metadata": {},
   "outputs": [],
   "source": [
    "new_player.add_cards([my_card,my_card,my_card])"
   ]
  },
  {
   "cell_type": "code",
   "execution_count": 62,
   "id": "5ef7eab8",
   "metadata": {},
   "outputs": [
    {
     "name": "stdout",
     "output_type": "stream",
     "text": [
      "Player Jose has 4 cards.\n"
     ]
    }
   ],
   "source": [
    "print(new_player)"
   ]
  },
  {
   "cell_type": "code",
   "execution_count": null,
   "id": "b5042f60",
   "metadata": {},
   "outputs": [],
   "source": [
    "new_player."
   ]
  }
 ],
 "metadata": {
  "kernelspec": {
   "display_name": "Python 3 (ipykernel)",
   "language": "python",
   "name": "python3"
  },
  "language_info": {
   "codemirror_mode": {
    "name": "ipython",
    "version": 3
   },
   "file_extension": ".py",
   "mimetype": "text/x-python",
   "name": "python",
   "nbconvert_exporter": "python",
   "pygments_lexer": "ipython3",
   "version": "3.9.7"
  }
 },
 "nbformat": 4,
 "nbformat_minor": 5
}
