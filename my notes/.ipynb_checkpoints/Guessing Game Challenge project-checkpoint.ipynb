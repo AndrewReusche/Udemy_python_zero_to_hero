{
 "cells": [
  {
   "cell_type": "code",
   "execution_count": 2,
   "id": "4566700e",
   "metadata": {},
   "outputs": [],
   "source": [
    "import random\n",
    "\n",
    "num = random.randint(1,100)"
   ]
  },
  {
   "cell_type": "code",
   "execution_count": 3,
   "id": "bf5a7032",
   "metadata": {},
   "outputs": [
    {
     "data": {
      "text/plain": [
       "17"
      ]
     },
     "execution_count": 3,
     "metadata": {},
     "output_type": "execute_result"
    }
   ],
   "source": [
    "num"
   ]
  },
  {
   "cell_type": "code",
   "execution_count": 9,
   "id": "3c29343d",
   "metadata": {},
   "outputs": [
    {
     "name": "stdout",
     "output_type": "stream",
     "text": [
      "Guessing Game Challange\n",
      "I am going to pick a random number between 1 and 100, try to guess what it is.\n",
      "Here are the guessing game rules:\n",
      "If your guess is less than 1 or greater than 100 you are OUT OF BOUNDS\n",
      "On your first guess if you are within 10 of the number I will tell you you are WARM, and if you are outside of 10 from the number I will tell you you are Cold\n",
      "On every guess after that if your guess is closer to my number I will tell you WARMER, and if your guess is further away I will tell you COLDER\n",
      "When you finally guess the number I will tell you CORRECT and how many guesses it took.\n",
      "LET'S PLAY\n"
     ]
    }
   ],
   "source": [
    "print(\"Guessing Game Challange\")\n",
    "print('I am going to pick a random number between 1 and 100, try to guess what it is.')\n",
    "print('Here are the guessing game rules:')\n",
    "print(\"If your guess is less than 1 or greater than 100 you are OUT OF BOUNDS\")\n",
    "print(\"On your first guess if you are within 10 of the number I will tell you you are WARM, and if you are outside of 10 from the number I will tell you you are Cold\")\n",
    "print(\"On every guess after that if your guess is closer to my number I will tell you WARMER, and if your guess is further away I will tell you COLDER\")\n",
    "print(\"When you finally guess the number I will tell you CORRECT and how many guesses it took.\")\n",
    "print(\"LET'S PLAY\")\n"
   ]
  },
  {
   "cell_type": "code",
   "execution_count": 11,
   "id": "6a2a3bd3",
   "metadata": {},
   "outputs": [],
   "source": [
    "guesses = [0]"
   ]
  },
  {
   "cell_type": "code",
   "execution_count": null,
   "id": "089001b1",
   "metadata": {},
   "outputs": [],
   "source": []
  }
 ],
 "metadata": {
  "kernelspec": {
   "display_name": "Python 3 (ipykernel)",
   "language": "python",
   "name": "python3"
  },
  "language_info": {
   "codemirror_mode": {
    "name": "ipython",
    "version": 3
   },
   "file_extension": ".py",
   "mimetype": "text/x-python",
   "name": "python",
   "nbconvert_exporter": "python",
   "pygments_lexer": "ipython3",
   "version": "3.9.7"
  }
 },
 "nbformat": 4,
 "nbformat_minor": 5
}
