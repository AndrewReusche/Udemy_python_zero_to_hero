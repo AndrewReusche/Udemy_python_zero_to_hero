{
 "cells": [
  {
   "cell_type": "code",
   "execution_count": 2,
   "id": "c32d25e3",
   "metadata": {},
   "outputs": [],
   "source": [
    "# LESSER OF TWO EVENS: Write a function that returns the lesser of two given numbers if both numbers are even\n",
    "#, but returns the greater if one or both numbers are odd\n"
   ]
  },
  {
   "cell_type": "code",
   "execution_count": null,
   "id": "a0a00ede",
   "metadata": {},
   "outputs": [],
   "source": [
    "def lesser_of_two_evens(a,b):\n",
    "    if a%2 == 0 and b%2 == 0:\n",
    "        if a < b:\n",
    "            return a\n",
    "    else:\n",
    "        if a > b:\n",
    "            return a\n",
    "    return b\n",
    "\n"
   ]
  },
  {
   "cell_type": "code",
   "execution_count": 3,
   "id": "fb7933ac",
   "metadata": {},
   "outputs": [],
   "source": [
    "def lesser_of_two_evens(a,b):\n",
    "    if a%2 == 0 and b%2 == 0:\n",
    "        if a < b:\n",
    "            return a\n",
    "        else:\n",
    "            return b\n",
    "    else:\n",
    "        if a > b:\n",
    "            return a\n",
    "        else:\n",
    "            return b\n"
   ]
  },
  {
   "cell_type": "code",
   "execution_count": 283,
   "id": "fac61d01",
   "metadata": {},
   "outputs": [],
   "source": [
    "def lesser_v2(a,b):\n",
    "    if a%2== 0 and b%2==0:\n",
    "        return min(a,b)\n",
    "    else:\n",
    "        return max(a,b)\n",
    "    "
   ]
  },
  {
   "cell_type": "code",
   "execution_count": 286,
   "id": "534405be",
   "metadata": {},
   "outputs": [
    {
     "data": {
      "text/plain": [
       "4"
      ]
     },
     "execution_count": 286,
     "metadata": {},
     "output_type": "execute_result"
    }
   ],
   "source": [
    "lesser_of_two_evens(8,4)"
   ]
  },
  {
   "cell_type": "code",
   "execution_count": 285,
   "id": "8da73fa2",
   "metadata": {},
   "outputs": [
    {
     "data": {
      "text/plain": [
       "10"
      ]
     },
     "execution_count": 285,
     "metadata": {},
     "output_type": "execute_result"
    }
   ],
   "source": [
    "lesser_of_two_evens(10,5)"
   ]
  },
  {
   "cell_type": "code",
   "execution_count": null,
   "id": "01fa235f",
   "metadata": {},
   "outputs": [],
   "source": []
  },
  {
   "cell_type": "code",
   "execution_count": 8,
   "id": "8296f751",
   "metadata": {},
   "outputs": [],
   "source": [
    "#ANIMAL CRACKERS: Write a function takes a two-word string and returns True if both words begin with same letter"
   ]
  },
  {
   "cell_type": "code",
   "execution_count": 9,
   "id": "77e67640",
   "metadata": {},
   "outputs": [],
   "source": [
    "def animal_crackers(A,B):\n",
    "    if A[0] == B[0]:\n",
    "        return True\n",
    "    else:\n",
    "        return False\n",
    "    "
   ]
  },
  {
   "cell_type": "code",
   "execution_count": 10,
   "id": "def42d52",
   "metadata": {},
   "outputs": [
    {
     "data": {
      "text/plain": [
       "True"
      ]
     },
     "execution_count": 10,
     "metadata": {},
     "output_type": "execute_result"
    }
   ],
   "source": [
    "animal_crackers('Lick','Lama')"
   ]
  },
  {
   "cell_type": "code",
   "execution_count": 11,
   "id": "7aa8ab03",
   "metadata": {},
   "outputs": [
    {
     "data": {
      "text/plain": [
       "False"
      ]
     },
     "execution_count": 11,
     "metadata": {},
     "output_type": "execute_result"
    }
   ],
   "source": [
    "animal_crackers('Taxi', 'Panda')"
   ]
  },
  {
   "cell_type": "code",
   "execution_count": 12,
   "id": "8258ed76",
   "metadata": {},
   "outputs": [],
   "source": [
    "#MAKES TWENTY: Given two integers, return True if the sum of the integers is 20 or if one of the integers is 20. \n",
    "#If not, return False"
   ]
  },
  {
   "cell_type": "code",
   "execution_count": 28,
   "id": "1d95e4a8",
   "metadata": {},
   "outputs": [],
   "source": [
    "def makes_twenty(a,b):\n",
    "    if a+b==20 or a==20 or b==20:\n",
    "        return True\n",
    "    else:\n",
    "        return False"
   ]
  },
  {
   "cell_type": "code",
   "execution_count": 29,
   "id": "f273d96b",
   "metadata": {},
   "outputs": [
    {
     "data": {
      "text/plain": [
       "True"
      ]
     },
     "execution_count": 29,
     "metadata": {},
     "output_type": "execute_result"
    }
   ],
   "source": [
    "makes_twenty(20,10)"
   ]
  },
  {
   "cell_type": "code",
   "execution_count": 30,
   "id": "b4f76d23",
   "metadata": {},
   "outputs": [
    {
     "data": {
      "text/plain": [
       "False"
      ]
     },
     "execution_count": 30,
     "metadata": {},
     "output_type": "execute_result"
    }
   ],
   "source": [
    "makes_twenty(2,3)"
   ]
  },
  {
   "cell_type": "markdown",
   "id": "782fecdf",
   "metadata": {},
   "source": [
    "# level one questions\n"
   ]
  },
  {
   "cell_type": "code",
   "execution_count": 32,
   "id": "bf8b3d9e",
   "metadata": {},
   "outputs": [],
   "source": [
    "#OLD MACDONALD: Write a function that capitalizes the first and fourth letters of a name"
   ]
  },
  {
   "cell_type": "code",
   "execution_count": 88,
   "id": "d086ecc5",
   "metadata": {},
   "outputs": [],
   "source": [
    "def old_macdonald(name):\n",
    "    spell = list(name)\n",
    "    \n",
    "    spell[0] = spell[0].upper()\n",
    "    spell[3] = spell[3].upper()\n",
    "    \n",
    "    return ''.join(spell)"
   ]
  },
  {
   "cell_type": "code",
   "execution_count": 89,
   "id": "4460fcde",
   "metadata": {},
   "outputs": [
    {
     "data": {
      "text/plain": [
       "'MacDonald'"
      ]
     },
     "execution_count": 89,
     "metadata": {},
     "output_type": "execute_result"
    }
   ],
   "source": [
    "old_macdonald('macdonald')"
   ]
  },
  {
   "cell_type": "code",
   "execution_count": 90,
   "id": "fa36db3f",
   "metadata": {},
   "outputs": [
    {
     "data": {
      "text/plain": [
       "'AndRew'"
      ]
     },
     "execution_count": 90,
     "metadata": {},
     "output_type": "execute_result"
    }
   ],
   "source": [
    "old_macdonald('andrew')"
   ]
  },
  {
   "cell_type": "code",
   "execution_count": 63,
   "id": "ee255ea5",
   "metadata": {},
   "outputs": [],
   "source": [
    "#MASTER YODA: Given a sentence, return a sentence with the words reversed"
   ]
  },
  {
   "cell_type": "code",
   "execution_count": 85,
   "id": "25745ca5",
   "metadata": {},
   "outputs": [],
   "source": [
    "def master_yoda(sentence):\n",
    "    \n",
    "    seperated = sentence.split(' ')\n",
    "    backwards = seperated[::-1]\n",
    "    \n",
    "    return ' '.join(backwards)"
   ]
  },
  {
   "cell_type": "code",
   "execution_count": 86,
   "id": "32f839b7",
   "metadata": {},
   "outputs": [
    {
     "data": {
      "text/plain": [
       "'home am I'"
      ]
     },
     "execution_count": 86,
     "metadata": {},
     "output_type": "execute_result"
    }
   ],
   "source": [
    "master_yoda('I am home')"
   ]
  },
  {
   "cell_type": "code",
   "execution_count": 87,
   "id": "7b6b8140",
   "metadata": {},
   "outputs": [
    {
     "data": {
      "text/plain": [
       "'night the for done now am I'"
      ]
     },
     "execution_count": 87,
     "metadata": {},
     "output_type": "execute_result"
    }
   ],
   "source": [
    "master_yoda('I am now done for the night')"
   ]
  },
  {
   "cell_type": "code",
   "execution_count": 91,
   "id": "d7213d52",
   "metadata": {},
   "outputs": [],
   "source": [
    "#ALMOST THERE: Given an integer n, return True if n is within 10 of either 100 or 200"
   ]
  },
  {
   "cell_type": "code",
   "execution_count": 92,
   "id": "ad8502d1",
   "metadata": {},
   "outputs": [],
   "source": [
    "def within_ten(n):\n",
    "    if abs(100 - n) <= 10 or abs(200-n) <= 10:\n",
    "        return True\n",
    "    else:\n",
    "        return False"
   ]
  },
  {
   "cell_type": "code",
   "execution_count": 93,
   "id": "9adebb3b",
   "metadata": {},
   "outputs": [
    {
     "data": {
      "text/plain": [
       "True"
      ]
     },
     "execution_count": 93,
     "metadata": {},
     "output_type": "execute_result"
    }
   ],
   "source": [
    "within_ten(104)"
   ]
  },
  {
   "cell_type": "code",
   "execution_count": 94,
   "id": "021bce82",
   "metadata": {},
   "outputs": [
    {
     "data": {
      "text/plain": [
       "True"
      ]
     },
     "execution_count": 94,
     "metadata": {},
     "output_type": "execute_result"
    }
   ],
   "source": [
    "within_ten(196)"
   ]
  },
  {
   "cell_type": "code",
   "execution_count": 95,
   "id": "2cfddc1b",
   "metadata": {},
   "outputs": [
    {
     "data": {
      "text/plain": [
       "False"
      ]
     },
     "execution_count": 95,
     "metadata": {},
     "output_type": "execute_result"
    }
   ],
   "source": [
    "within_ten(50)"
   ]
  },
  {
   "cell_type": "markdown",
   "id": "a62cbfce",
   "metadata": {},
   "source": [
    "# level two problems "
   ]
  },
  {
   "cell_type": "code",
   "execution_count": 97,
   "id": "1eedf58c",
   "metadata": {},
   "outputs": [],
   "source": [
    "#Given a list of ints, return True if the array contains a 3 next to a 3 somewhere."
   ]
  },
  {
   "cell_type": "code",
   "execution_count": 125,
   "id": "a2d21356",
   "metadata": {},
   "outputs": [],
   "source": [
    "def has_33(nums):\n",
    "    print(nums)\n",
    "    numlist = []\n",
    "    for num in nums:\n",
    "        numlist.append(num)\n",
    "    print(numlist)\n",
    "    for num1, num2 in zip(numlist, numlist[:-1]):\n",
    "        if num1 == num2:\n",
    "            return True\n",
    "        else:\n",
    "            return False\n"
   ]
  },
  {
   "cell_type": "code",
   "execution_count": 126,
   "id": "4e75ee3c",
   "metadata": {},
   "outputs": [
    {
     "name": "stdout",
     "output_type": "stream",
     "text": [
      "[1, 3, 3]\n",
      "[1, 3, 3]\n"
     ]
    },
    {
     "data": {
      "text/plain": [
       "True"
      ]
     },
     "execution_count": 126,
     "metadata": {},
     "output_type": "execute_result"
    }
   ],
   "source": [
    "has_33([1, 3, 3])"
   ]
  },
  {
   "cell_type": "code",
   "execution_count": 266,
   "id": "4426d52a",
   "metadata": {},
   "outputs": [],
   "source": [
    "def has_33(nums):\n",
    "    print(nums)\n",
    "    \n",
    "    for num1, num2 in zip(nums, nums[1:]):\n",
    "        print(num1, num2)\n",
    "        \n",
    "        if num1 == num2:\n",
    "            return True\n",
    "    return False\n",
    "    \n"
   ]
  },
  {
   "cell_type": "code",
   "execution_count": null,
   "id": "0bdff926",
   "metadata": {},
   "outputs": [],
   "source": [
    "#version 3 solution"
   ]
  },
  {
   "cell_type": "code",
   "execution_count": null,
   "id": "119f9aa0",
   "metadata": {},
   "outputs": [],
   "source": [
    "for i in range(len(nums)-1):\n",
    "    if nums[i] == nums[i+1]:\n",
    "        return True\n",
    "return False"
   ]
  },
  {
   "cell_type": "code",
   "execution_count": 267,
   "id": "bab8c57e",
   "metadata": {},
   "outputs": [
    {
     "name": "stdout",
     "output_type": "stream",
     "text": [
      "[1, 3, 3]\n",
      "1 3\n",
      "3 3\n"
     ]
    },
    {
     "data": {
      "text/plain": [
       "True"
      ]
     },
     "execution_count": 267,
     "metadata": {},
     "output_type": "execute_result"
    }
   ],
   "source": [
    "has_33([1, 3, 3])"
   ]
  },
  {
   "cell_type": "code",
   "execution_count": 268,
   "id": "807505a7",
   "metadata": {},
   "outputs": [
    {
     "name": "stdout",
     "output_type": "stream",
     "text": [
      "[1, 3, 1, 3]\n",
      "1 3\n",
      "3 1\n",
      "1 3\n"
     ]
    },
    {
     "data": {
      "text/plain": [
       "False"
      ]
     },
     "execution_count": 268,
     "metadata": {},
     "output_type": "execute_result"
    }
   ],
   "source": [
    "has_33([1, 3, 1, 3])"
   ]
  },
  {
   "cell_type": "code",
   "execution_count": null,
   "id": "3b721574",
   "metadata": {},
   "outputs": [],
   "source": [
    "#example of how zip works there"
   ]
  },
  {
   "cell_type": "code",
   "execution_count": 162,
   "id": "cb21fda4",
   "metadata": {},
   "outputs": [
    {
     "name": "stdout",
     "output_type": "stream",
     "text": [
      "[(1, 2, 3), (2, 3, 4), (3, 4, 5), (4, 5, 6)]\n"
     ]
    }
   ],
   "source": [
    "jlist = [1,2,3,4,5,6] \n",
    "\n",
    "j1 , j2, j3 in zip(jlist, jlist[1:], jlist[2:])\n",
    "print(list(zip(jlist,jlist[1:], jlist[2:])))"
   ]
  },
  {
   "cell_type": "code",
   "execution_count": 163,
   "id": "08fc335f",
   "metadata": {},
   "outputs": [],
   "source": [
    "#PAPER DOLL: Given a string, return a string where for every character in the original there are three characters"
   ]
  },
  {
   "cell_type": "code",
   "execution_count": 255,
   "id": "4c1b4cb9",
   "metadata": {},
   "outputs": [],
   "source": [
    "def paper_doll(text):\n",
    "    letters = [letter for letter in text]\n",
    "    print(letters)\n",
    "    multletters = []\n",
    "    for a in letters:\n",
    "         multletters.append(a*3)\n",
    "    print(multletters)\n",
    "    goal = ''.join(multletters)\n",
    "    return(goal)\n",
    "    \n",
    "    "
   ]
  },
  {
   "cell_type": "code",
   "execution_count": 256,
   "id": "cc4fa44f",
   "metadata": {},
   "outputs": [
    {
     "name": "stdout",
     "output_type": "stream",
     "text": [
      "['H', 'e', 'l', 'l', 'o']\n",
      "['HHH', 'eee', 'lll', 'lll', 'ooo']\n"
     ]
    },
    {
     "data": {
      "text/plain": [
       "'HHHeeellllllooo'"
      ]
     },
     "execution_count": 256,
     "metadata": {},
     "output_type": "execute_result"
    }
   ],
   "source": [
    "paper_doll('Hello')"
   ]
  },
  {
   "cell_type": "code",
   "execution_count": 257,
   "id": "28310ff4",
   "metadata": {},
   "outputs": [],
   "source": [
    "# without the prints"
   ]
  },
  {
   "cell_type": "code",
   "execution_count": 258,
   "id": "d2dde8de",
   "metadata": {},
   "outputs": [],
   "source": [
    "def paper_doll(text):\n",
    "    letters = [letter for letter in text]\n",
    "    multletters = []\n",
    "    for a in letters:\n",
    "         multletters.append(a*3)\n",
    "    goal = ''.join(multletters)\n",
    "    return(goal)\n",
    "    "
   ]
  },
  {
   "cell_type": "code",
   "execution_count": 259,
   "id": "946d397e",
   "metadata": {},
   "outputs": [
    {
     "data": {
      "text/plain": [
       "'HHHeeellllllooo'"
      ]
     },
     "execution_count": 259,
     "metadata": {},
     "output_type": "execute_result"
    }
   ],
   "source": [
    "paper_doll('Hello')"
   ]
  },
  {
   "cell_type": "code",
   "execution_count": 260,
   "id": "562fe110",
   "metadata": {},
   "outputs": [],
   "source": [
    "def paper_doll(text):\n",
    "    return ''.join([letter*3 for letter in text])"
   ]
  },
  {
   "cell_type": "code",
   "execution_count": 261,
   "id": "5bfa9704",
   "metadata": {},
   "outputs": [
    {
     "data": {
      "text/plain": [
       "'HHHeeellllllooo'"
      ]
     },
     "execution_count": 261,
     "metadata": {},
     "output_type": "execute_result"
    }
   ],
   "source": [
    "paper_doll('Hello')"
   ]
  },
  {
   "cell_type": "code",
   "execution_count": 264,
   "id": "e7e341ed",
   "metadata": {},
   "outputs": [],
   "source": [
    "def paper_doll(text):\n",
    "    multletters = []\n",
    "    for a in text:\n",
    "         multletters.append(a*3)\n",
    "    return ''.join(multletters)"
   ]
  },
  {
   "cell_type": "code",
   "execution_count": 265,
   "id": "101a2e31",
   "metadata": {},
   "outputs": [
    {
     "data": {
      "text/plain": [
       "'HHHeeellllllooo'"
      ]
     },
     "execution_count": 265,
     "metadata": {},
     "output_type": "execute_result"
    }
   ],
   "source": [
    "paper_doll('Hello')"
   ]
  },
  {
   "cell_type": "code",
   "execution_count": 269,
   "id": "e57ae167",
   "metadata": {},
   "outputs": [],
   "source": [
    "#BLACKJACK: Given three integers between 1 and 11, if their sum is less than or equal to 21, return their sum. \n",
    "#If their sum exceeds 21 and there's an eleven, reduce the total sum by 10. \n",
    "#Finally, if the sum (even after adjustment) exceeds 21, return 'BUST'"
   ]
  },
  {
   "cell_type": "code",
   "execution_count": 276,
   "id": "10c8d9e3",
   "metadata": {},
   "outputs": [],
   "source": [
    "def blackjack(a,b,c):\n",
    "    if 1 <= a <=11 and  1 <= b <=11 and 1 <= c <=11:\n",
    "        if (a+b+c) <= 21:\n",
    "            return (a+b+c)\n",
    "        elif (a+b+c) > 21 and a == 11 or b == 11 or c == 11:\n",
    "            reset = (a+b+c) - 10\n",
    "            if reset > 21:\n",
    "                return 'BUST'\n",
    "            else:\n",
    "                return reset\n",
    "        else:\n",
    "            if a+b+c > 21:\n",
    "                return 'BUST'"
   ]
  },
  {
   "cell_type": "code",
   "execution_count": 277,
   "id": "ab777abc",
   "metadata": {},
   "outputs": [
    {
     "data": {
      "text/plain": [
       "18"
      ]
     },
     "execution_count": 277,
     "metadata": {},
     "output_type": "execute_result"
    }
   ],
   "source": [
    "blackjack(5,6,7)"
   ]
  },
  {
   "cell_type": "code",
   "execution_count": 278,
   "id": "87b593c9",
   "metadata": {},
   "outputs": [
    {
     "data": {
      "text/plain": [
       "'BUST'"
      ]
     },
     "execution_count": 278,
     "metadata": {},
     "output_type": "execute_result"
    }
   ],
   "source": [
    "blackjack(9,9,9)"
   ]
  },
  {
   "cell_type": "code",
   "execution_count": 279,
   "id": "82932705",
   "metadata": {},
   "outputs": [
    {
     "data": {
      "text/plain": [
       "19"
      ]
     },
     "execution_count": 279,
     "metadata": {},
     "output_type": "execute_result"
    }
   ],
   "source": [
    "blackjack(9,9,11)"
   ]
  },
  {
   "cell_type": "code",
   "execution_count": 280,
   "id": "f337d769",
   "metadata": {},
   "outputs": [],
   "source": [
    "#SUMMER OF '69: Return the sum of the numbers in the array, except ignore sections of numbers starting with a 6 \n",
    "#and extending to the next 9 (every 6 will be followed by at least one 9). Return 0 for no numbers."
   ]
  },
  {
   "cell_type": "code",
   "execution_count": null,
   "id": "4554b279",
   "metadata": {},
   "outputs": [],
   "source": [
    "def summer_69(arr):\n",
    "    mynums = []\n",
    "    for num in arr:\n",
    "        while != 6:\n",
    "            mynums.append()\n",
    "        if nums == 6:\n",
    "            break\n",
    "            return sum(arr[0:])"
   ]
  }
 ],
 "metadata": {
  "kernelspec": {
   "display_name": "Python 3 (ipykernel)",
   "language": "python",
   "name": "python3"
  },
  "language_info": {
   "codemirror_mode": {
    "name": "ipython",
    "version": 3
   },
   "file_extension": ".py",
   "mimetype": "text/x-python",
   "name": "python",
   "nbconvert_exporter": "python",
   "pygments_lexer": "ipython3",
   "version": "3.9.7"
  }
 },
 "nbformat": 4,
 "nbformat_minor": 5
}
