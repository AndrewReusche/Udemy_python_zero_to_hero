{
 "cells": [
  {
   "cell_type": "code",
   "execution_count": 1,
   "id": "861a8853",
   "metadata": {},
   "outputs": [],
   "source": [
    "# in cap.py\n"
   ]
  },
  {
   "cell_type": "code",
   "execution_count": 2,
   "id": "b44aae9f",
   "metadata": {},
   "outputs": [],
   "source": [
    "def cap_text(text):\n",
    "\t'''\n",
    "\tInput a string\n",
    "\toutput a capitalized string\n",
    "\t''' \n",
    "\treturn text.title()\n",
    "\n"
   ]
  },
  {
   "cell_type": "code",
   "execution_count": 3,
   "id": "5f2e1861",
   "metadata": {},
   "outputs": [],
   "source": [
    "#in test_cap.py"
   ]
  },
  {
   "cell_type": "code",
   "execution_count": 5,
   "id": "f5d0fe48",
   "metadata": {},
   "outputs": [
    {
     "ename": "ModuleNotFoundError",
     "evalue": "No module named 'cap'",
     "output_type": "error",
     "traceback": [
      "\u001b[1;31m---------------------------------------------------------------------------\u001b[0m",
      "\u001b[1;31mModuleNotFoundError\u001b[0m                       Traceback (most recent call last)",
      "\u001b[1;32m~\\AppData\\Local\\Temp/ipykernel_9632/3358876823.py\u001b[0m in \u001b[0;36m<module>\u001b[1;34m\u001b[0m\n\u001b[0;32m      1\u001b[0m \u001b[1;32mimport\u001b[0m \u001b[0munittest\u001b[0m\u001b[1;33m\u001b[0m\u001b[1;33m\u001b[0m\u001b[0m\n\u001b[1;32m----> 2\u001b[1;33m \u001b[1;32mimport\u001b[0m \u001b[0mcap\u001b[0m\u001b[1;33m\u001b[0m\u001b[1;33m\u001b[0m\u001b[0m\n\u001b[0m\u001b[0;32m      3\u001b[0m \u001b[1;33m\u001b[0m\u001b[0m\n\u001b[0;32m      4\u001b[0m \u001b[1;32mclass\u001b[0m \u001b[0mTestCap\u001b[0m\u001b[1;33m(\u001b[0m\u001b[0munittest\u001b[0m\u001b[1;33m.\u001b[0m\u001b[0mTestCase\u001b[0m\u001b[1;33m)\u001b[0m\u001b[1;33m:\u001b[0m\u001b[1;33m\u001b[0m\u001b[1;33m\u001b[0m\u001b[0m\n\u001b[0;32m      5\u001b[0m \u001b[1;33m\u001b[0m\u001b[0m\n",
      "\u001b[1;31mModuleNotFoundError\u001b[0m: No module named 'cap'"
     ]
    }
   ],
   "source": [
    "import unittest\n",
    "import cap\n",
    "\n",
    "class TestCap(unittest.TestCase):\n",
    "\n",
    "\tdef test_one_word(self):\n",
    "\t\ttext = 'python'\n",
    "\t\tresult = cap.cap_text(text)\n",
    "\t\tself.assertEqual(result,'Python')\n",
    "\n",
    "\tdef test_multiple_words(self):\n",
    "\t\ttext = 'monty python'\n",
    "\t\tresult = cap.cap_text(text)\n",
    "\t\tself.assertEqual(result,'Monty Python')\n",
    "\n",
    "if __name__=='__main__':\n",
    "\tunittest.main()"
   ]
  },
  {
   "cell_type": "code",
   "execution_count": null,
   "id": "9c2eb467",
   "metadata": {},
   "outputs": [],
   "source": []
  }
 ],
 "metadata": {
  "kernelspec": {
   "display_name": "Python 3 (ipykernel)",
   "language": "python",
   "name": "python3"
  },
  "language_info": {
   "codemirror_mode": {
    "name": "ipython",
    "version": 3
   },
   "file_extension": ".py",
   "mimetype": "text/x-python",
   "name": "python",
   "nbconvert_exporter": "python",
   "pygments_lexer": "ipython3",
   "version": "3.9.7"
  }
 },
 "nbformat": 4,
 "nbformat_minor": 5
}
