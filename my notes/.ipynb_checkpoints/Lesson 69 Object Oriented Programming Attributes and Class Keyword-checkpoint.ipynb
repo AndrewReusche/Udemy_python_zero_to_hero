{
 "cells": [
  {
   "cell_type": "code",
   "execution_count": 1,
   "id": "8ae3c9a2",
   "metadata": {},
   "outputs": [],
   "source": [
    "mylist = [1,2,3]"
   ]
  },
  {
   "cell_type": "code",
   "execution_count": 2,
   "id": "4235ee97",
   "metadata": {},
   "outputs": [],
   "source": [
    "myset= set()"
   ]
  },
  {
   "cell_type": "code",
   "execution_count": 3,
   "id": "52963a58",
   "metadata": {},
   "outputs": [
    {
     "data": {
      "text/plain": [
       "set"
      ]
     },
     "execution_count": 3,
     "metadata": {},
     "output_type": "execute_result"
    }
   ],
   "source": [
    "type(myset)"
   ]
  },
  {
   "cell_type": "code",
   "execution_count": 4,
   "id": "4470d781",
   "metadata": {},
   "outputs": [
    {
     "data": {
      "text/plain": [
       "list"
      ]
     },
     "execution_count": 4,
     "metadata": {},
     "output_type": "execute_result"
    }
   ],
   "source": [
    "type(mylist)"
   ]
  },
  {
   "cell_type": "code",
   "execution_count": 9,
   "id": "4c70b35f",
   "metadata": {},
   "outputs": [],
   "source": [
    "#created a class that does nothing\n",
    "#needed the pass or I get an error\n",
    "\n",
    "class Sample():\n",
    "    pass"
   ]
  },
  {
   "cell_type": "code",
   "execution_count": 12,
   "id": "e41eaec3",
   "metadata": {},
   "outputs": [],
   "source": [
    "#created an instance of this class\n",
    "\n",
    "my_sample = Sample()"
   ]
  },
  {
   "cell_type": "code",
   "execution_count": 11,
   "id": "027c5fa4",
   "metadata": {},
   "outputs": [
    {
     "data": {
      "text/plain": [
       "__main__.Sample"
      ]
     },
     "execution_count": 11,
     "metadata": {},
     "output_type": "execute_result"
    }
   ],
   "source": [
    "type(my_sample)"
   ]
  },
  {
   "cell_type": "code",
   "execution_count": 13,
   "id": "c9e05d1a",
   "metadata": {},
   "outputs": [],
   "source": [
    "class Dog():\n",
    "    \n",
    "    def __init__(self,breed):\n",
    "        \n",
    "        self.breed = breed\n",
    "        "
   ]
  },
  {
   "cell_type": "code",
   "execution_count": 15,
   "id": "1f272c65",
   "metadata": {},
   "outputs": [
    {
     "ename": "TypeError",
     "evalue": "__init__() missing 1 required positional argument: 'breed'",
     "output_type": "error",
     "traceback": [
      "\u001b[1;31m---------------------------------------------------------------------------\u001b[0m",
      "\u001b[1;31mTypeError\u001b[0m                                 Traceback (most recent call last)",
      "\u001b[1;32m~\\AppData\\Local\\Temp/ipykernel_12008/1046098646.py\u001b[0m in \u001b[0;36m<module>\u001b[1;34m\u001b[0m\n\u001b[0;32m      1\u001b[0m \u001b[1;31m#notice we get an error when we run this with no positional arguments\u001b[0m\u001b[1;33m\u001b[0m\u001b[1;33m\u001b[0m\u001b[0m\n\u001b[0;32m      2\u001b[0m \u001b[1;33m\u001b[0m\u001b[0m\n\u001b[1;32m----> 3\u001b[1;33m \u001b[0mmy_dog\u001b[0m \u001b[1;33m=\u001b[0m \u001b[0mDog\u001b[0m\u001b[1;33m(\u001b[0m\u001b[1;33m)\u001b[0m\u001b[1;33m\u001b[0m\u001b[1;33m\u001b[0m\u001b[0m\n\u001b[0m",
      "\u001b[1;31mTypeError\u001b[0m: __init__() missing 1 required positional argument: 'breed'"
     ]
    }
   ],
   "source": [
    "#notice we get an error when we run this with no positional arguments\n",
    "\n",
    "my_dog = Dog()"
   ]
  },
  {
   "cell_type": "code",
   "execution_count": 16,
   "id": "2d881056",
   "metadata": {},
   "outputs": [],
   "source": [
    "my_dog = Dog(breed = 'Lab')"
   ]
  },
  {
   "cell_type": "code",
   "execution_count": 18,
   "id": "7d63133d",
   "metadata": {},
   "outputs": [
    {
     "data": {
      "text/plain": [
       "__main__.Dog"
      ]
     },
     "execution_count": 18,
     "metadata": {},
     "output_type": "execute_result"
    }
   ],
   "source": [
    "#tells me I now have an instance of the dog class\n",
    "\n",
    "type(my_dog)"
   ]
  },
  {
   "cell_type": "code",
   "execution_count": 19,
   "id": "4a9e6d00",
   "metadata": {},
   "outputs": [
    {
     "data": {
      "text/plain": [
       "'Lab'"
      ]
     },
     "execution_count": 19,
     "metadata": {},
     "output_type": "execute_result"
    }
   ],
   "source": [
    "my_dog.breed"
   ]
  },
  {
   "cell_type": "code",
   "execution_count": 23,
   "id": "c1cbb08f",
   "metadata": {},
   "outputs": [],
   "source": [
    "#not conventional but still could do \n",
    "\n",
    "class DogTwo():\n",
    "    \n",
    "    def __init__(self, mybreed):\n",
    "        \n",
    "        \n",
    "        #attributes\n",
    "        #we take in the argument \n",
    "        #assign it using self.attribute_name\n",
    "        self.breed = mybreed"
   ]
  },
  {
   "cell_type": "code",
   "execution_count": 24,
   "id": "b3cb4eed",
   "metadata": {},
   "outputs": [],
   "source": [
    "my_dog_two =DogTwo(mybreed ='Huskie')"
   ]
  },
  {
   "cell_type": "code",
   "execution_count": 26,
   "id": "9eadf597",
   "metadata": {},
   "outputs": [
    {
     "data": {
      "text/plain": [
       "__main__.DogTwo"
      ]
     },
     "execution_count": 26,
     "metadata": {},
     "output_type": "execute_result"
    }
   ],
   "source": [
    "type(my_dog_two)"
   ]
  },
  {
   "cell_type": "code",
   "execution_count": 27,
   "id": "8de3c44b",
   "metadata": {},
   "outputs": [
    {
     "data": {
      "text/plain": [
       "'Huskie'"
      ]
     },
     "execution_count": 27,
     "metadata": {},
     "output_type": "execute_result"
    }
   ],
   "source": [
    "my_dog_two.breed"
   ]
  },
  {
   "cell_type": "code",
   "execution_count": 28,
   "id": "2e2741bb",
   "metadata": {},
   "outputs": [],
   "source": [
    "#not conventional but still could do \n",
    "\n",
    "class DogTwo():\n",
    "    \n",
    "    def __init__(self, mybreed):\n",
    "        \n",
    "        \n",
    "        #attributes\n",
    "        #we take in the argument \n",
    "        #assign it using self.attribute_name\n",
    "        self.my_attribute = mybreed"
   ]
  },
  {
   "cell_type": "code",
   "execution_count": 29,
   "id": "761fe694",
   "metadata": {},
   "outputs": [],
   "source": [
    "my_dog_two =DogTwo(mybreed ='Huskie')"
   ]
  },
  {
   "cell_type": "code",
   "execution_count": 30,
   "id": "c43e183c",
   "metadata": {},
   "outputs": [
    {
     "data": {
      "text/plain": [
       "__main__.DogTwo"
      ]
     },
     "execution_count": 30,
     "metadata": {},
     "output_type": "execute_result"
    }
   ],
   "source": [
    "type(my_dog_two)"
   ]
  },
  {
   "cell_type": "code",
   "execution_count": 31,
   "id": "bd40492b",
   "metadata": {},
   "outputs": [
    {
     "data": {
      "text/plain": [
       "'Huskie'"
      ]
     },
     "execution_count": 31,
     "metadata": {},
     "output_type": "execute_result"
    }
   ],
   "source": [
    "my_dog_two.my_attribute"
   ]
  },
  {
   "cell_type": "code",
   "execution_count": 36,
   "id": "6e304d9e",
   "metadata": {},
   "outputs": [],
   "source": [
    "#not conventional but still could do \n",
    "\n",
    "class Dog():\n",
    "    \n",
    "    def __init__(self,breed,name,spots):\n",
    "        \n",
    "        \n",
    "        #attributes\n",
    "        #we take in the argument \n",
    "        #assign it using self.attribute_name\n",
    "        #Expect a string \n",
    "        self.breed = breed\n",
    "        self.name = name\n",
    "       \n",
    "        #expect a boolean\n",
    "        self.spots = spots\n",
    "        "
   ]
  },
  {
   "cell_type": "code",
   "execution_count": 37,
   "id": "3ff32092",
   "metadata": {},
   "outputs": [],
   "source": [
    "my_dog = Dog(breed ='lab', name ='Sammie', spots = False)"
   ]
  },
  {
   "cell_type": "code",
   "execution_count": 38,
   "id": "8fa8120d",
   "metadata": {},
   "outputs": [
    {
     "data": {
      "text/plain": [
       "__main__.Dog"
      ]
     },
     "execution_count": 38,
     "metadata": {},
     "output_type": "execute_result"
    }
   ],
   "source": [
    "type(my_dog)"
   ]
  },
  {
   "cell_type": "code",
   "execution_count": 42,
   "id": "f86ad2eb",
   "metadata": {},
   "outputs": [
    {
     "data": {
      "text/plain": [
       "'lab'"
      ]
     },
     "execution_count": 42,
     "metadata": {},
     "output_type": "execute_result"
    }
   ],
   "source": [
    "my_dog.breed\n",
    "\n"
   ]
  },
  {
   "cell_type": "code",
   "execution_count": 40,
   "id": "9b51610a",
   "metadata": {},
   "outputs": [
    {
     "data": {
      "text/plain": [
       "'Sammie'"
      ]
     },
     "execution_count": 40,
     "metadata": {},
     "output_type": "execute_result"
    }
   ],
   "source": [
    "my_dog.name"
   ]
  },
  {
   "cell_type": "code",
   "execution_count": 41,
   "id": "2a81d048",
   "metadata": {},
   "outputs": [
    {
     "data": {
      "text/plain": [
       "False"
      ]
     },
     "execution_count": 41,
     "metadata": {},
     "output_type": "execute_result"
    }
   ],
   "source": [
    "my_dog.spots"
   ]
  },
  {
   "cell_type": "code",
   "execution_count": null,
   "id": "b725a23f",
   "metadata": {},
   "outputs": [],
   "source": []
  }
 ],
 "metadata": {
  "kernelspec": {
   "display_name": "Python 3 (ipykernel)",
   "language": "python",
   "name": "python3"
  },
  "language_info": {
   "codemirror_mode": {
    "name": "ipython",
    "version": 3
   },
   "file_extension": ".py",
   "mimetype": "text/x-python",
   "name": "python",
   "nbconvert_exporter": "python",
   "pygments_lexer": "ipython3",
   "version": "3.9.7"
  }
 },
 "nbformat": 4,
 "nbformat_minor": 5
}
