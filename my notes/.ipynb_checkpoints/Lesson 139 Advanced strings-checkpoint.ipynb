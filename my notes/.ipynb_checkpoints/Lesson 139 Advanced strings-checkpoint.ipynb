{
 "cells": [
  {
   "cell_type": "code",
   "execution_count": 1,
   "id": "9a71aca9",
   "metadata": {},
   "outputs": [],
   "source": [
    "s = 'hello world'"
   ]
  },
  {
   "cell_type": "code",
   "execution_count": 2,
   "id": "8877ceae",
   "metadata": {},
   "outputs": [],
   "source": [
    "#to change case"
   ]
  },
  {
   "cell_type": "code",
   "execution_count": 3,
   "id": "ba15eeb6",
   "metadata": {},
   "outputs": [
    {
     "data": {
      "text/plain": [
       "'Hello world'"
      ]
     },
     "execution_count": 3,
     "metadata": {},
     "output_type": "execute_result"
    }
   ],
   "source": [
    "s.capitalize()"
   ]
  },
  {
   "cell_type": "code",
   "execution_count": 5,
   "id": "b4a30629",
   "metadata": {},
   "outputs": [
    {
     "data": {
      "text/plain": [
       "'HELLO WORLD'"
      ]
     },
     "execution_count": 5,
     "metadata": {},
     "output_type": "execute_result"
    }
   ],
   "source": [
    "s.upper()"
   ]
  },
  {
   "cell_type": "code",
   "execution_count": 6,
   "id": "44c89ee5",
   "metadata": {},
   "outputs": [
    {
     "data": {
      "text/plain": [
       "'hello world'"
      ]
     },
     "execution_count": 6,
     "metadata": {},
     "output_type": "execute_result"
    }
   ],
   "source": [
    "s.lower()"
   ]
  },
  {
   "cell_type": "code",
   "execution_count": 7,
   "id": "a6a05edd",
   "metadata": {},
   "outputs": [],
   "source": [
    "#location and counting methods"
   ]
  },
  {
   "cell_type": "code",
   "execution_count": 8,
   "id": "500cf0d7",
   "metadata": {},
   "outputs": [],
   "source": [
    "#how to count how many there are of something in a string "
   ]
  },
  {
   "cell_type": "code",
   "execution_count": 9,
   "id": "1d1050c0",
   "metadata": {},
   "outputs": [
    {
     "data": {
      "text/plain": [
       "2"
      ]
     },
     "execution_count": 9,
     "metadata": {},
     "output_type": "execute_result"
    }
   ],
   "source": [
    "s.count('o')"
   ]
  },
  {
   "cell_type": "code",
   "execution_count": 12,
   "id": "d067846c",
   "metadata": {},
   "outputs": [],
   "source": [
    "#how to find the index of something in a string, will return the first instance of something "
   ]
  },
  {
   "cell_type": "code",
   "execution_count": 11,
   "id": "3172d948",
   "metadata": {},
   "outputs": [
    {
     "data": {
      "text/plain": [
       "6"
      ]
     },
     "execution_count": 11,
     "metadata": {},
     "output_type": "execute_result"
    }
   ],
   "source": [
    "s.find('w')"
   ]
  },
  {
   "cell_type": "code",
   "execution_count": 13,
   "id": "c1316bbf",
   "metadata": {},
   "outputs": [],
   "source": [
    "#formatiing methods"
   ]
  },
  {
   "cell_type": "code",
   "execution_count": 14,
   "id": "14fa84f8",
   "metadata": {},
   "outputs": [
    {
     "data": {
      "text/plain": [
       "'hello world'"
      ]
     },
     "execution_count": 14,
     "metadata": {},
     "output_type": "execute_result"
    }
   ],
   "source": [
    "s"
   ]
  },
  {
   "cell_type": "code",
   "execution_count": 15,
   "id": "26c47ba5",
   "metadata": {},
   "outputs": [
    {
     "data": {
      "text/plain": [
       "'zzzzhello worldzzzzz'"
      ]
     },
     "execution_count": 15,
     "metadata": {},
     "output_type": "execute_result"
    }
   ],
   "source": [
    "s.center(20,'z')"
   ]
  },
  {
   "cell_type": "code",
   "execution_count": 16,
   "id": "6c06275e",
   "metadata": {},
   "outputs": [],
   "source": [
    "#how to center your string between something^"
   ]
  },
  {
   "cell_type": "code",
   "execution_count": 17,
   "id": "8c5f562b",
   "metadata": {},
   "outputs": [],
   "source": [
    "#expand tabs method"
   ]
  },
  {
   "cell_type": "code",
   "execution_count": 18,
   "id": "79cc9148",
   "metadata": {},
   "outputs": [],
   "source": [
    "#example will print hello tab> hi"
   ]
  },
  {
   "cell_type": "code",
   "execution_count": 19,
   "id": "c1fa2c1b",
   "metadata": {},
   "outputs": [
    {
     "name": "stdout",
     "output_type": "stream",
     "text": [
      "hello\thi\n"
     ]
    }
   ],
   "source": [
    "print('hello\\thi')"
   ]
  },
  {
   "cell_type": "code",
   "execution_count": 20,
   "id": "ba4d5805",
   "metadata": {},
   "outputs": [],
   "source": [
    "#or"
   ]
  },
  {
   "cell_type": "code",
   "execution_count": 22,
   "id": "2d843241",
   "metadata": {},
   "outputs": [
    {
     "data": {
      "text/plain": [
       "'hello   hi'"
      ]
     },
     "execution_count": 22,
     "metadata": {},
     "output_type": "execute_result"
    }
   ],
   "source": [
    "'hello\\thi'.expandtabs()"
   ]
  },
  {
   "cell_type": "code",
   "execution_count": 23,
   "id": "0cbd99a9",
   "metadata": {},
   "outputs": [],
   "source": [
    "#checks if string is some sort of case"
   ]
  },
  {
   "cell_type": "code",
   "execution_count": 24,
   "id": "9e6b96c4",
   "metadata": {},
   "outputs": [],
   "source": [
    "s='hello'"
   ]
  },
  {
   "cell_type": "code",
   "execution_count": 25,
   "id": "d4380fb5",
   "metadata": {},
   "outputs": [],
   "source": [
    "#checks if all characters in s are alphnumeric"
   ]
  },
  {
   "cell_type": "code",
   "execution_count": 27,
   "id": "2e3322af",
   "metadata": {},
   "outputs": [
    {
     "data": {
      "text/plain": [
       "True"
      ]
     },
     "execution_count": 27,
     "metadata": {},
     "output_type": "execute_result"
    }
   ],
   "source": [
    "s.isalnum()\n"
   ]
  },
  {
   "cell_type": "code",
   "execution_count": 28,
   "id": "fb21033f",
   "metadata": {},
   "outputs": [],
   "source": [
    "#checks if they are all alphabetic"
   ]
  },
  {
   "cell_type": "code",
   "execution_count": 29,
   "id": "2429ba5b",
   "metadata": {},
   "outputs": [
    {
     "data": {
      "text/plain": [
       "True"
      ]
     },
     "execution_count": 29,
     "metadata": {},
     "output_type": "execute_result"
    }
   ],
   "source": [
    "s.isalpha()"
   ]
  },
  {
   "cell_type": "code",
   "execution_count": 30,
   "id": "47c59995",
   "metadata": {},
   "outputs": [
    {
     "data": {
      "text/plain": [
       "True"
      ]
     },
     "execution_count": 30,
     "metadata": {},
     "output_type": "execute_result"
    }
   ],
   "source": [
    "s.islower()"
   ]
  },
  {
   "cell_type": "code",
   "execution_count": 31,
   "id": "d035e8ae",
   "metadata": {},
   "outputs": [
    {
     "data": {
      "text/plain": [
       "False"
      ]
     },
     "execution_count": 31,
     "metadata": {},
     "output_type": "execute_result"
    }
   ],
   "source": [
    "s.isupper()"
   ]
  },
  {
   "cell_type": "code",
   "execution_count": 36,
   "id": "fd1d16b2",
   "metadata": {},
   "outputs": [
    {
     "data": {
      "text/plain": [
       "True"
      ]
     },
     "execution_count": 36,
     "metadata": {},
     "output_type": "execute_result"
    }
   ],
   "source": [
    "'HELLO'.isupper()"
   ]
  },
  {
   "cell_type": "code",
   "execution_count": 32,
   "id": "34fd0361",
   "metadata": {},
   "outputs": [],
   "source": [
    "#are all characters in s white space"
   ]
  },
  {
   "cell_type": "code",
   "execution_count": 33,
   "id": "498a7e4e",
   "metadata": {},
   "outputs": [
    {
     "data": {
      "text/plain": [
       "False"
      ]
     },
     "execution_count": 33,
     "metadata": {},
     "output_type": "execute_result"
    }
   ],
   "source": [
    "s.isspace()"
   ]
  },
  {
   "cell_type": "code",
   "execution_count": 34,
   "id": "69fe88d7",
   "metadata": {},
   "outputs": [],
   "source": [
    "#check if s is a title case string"
   ]
  },
  {
   "cell_type": "code",
   "execution_count": 35,
   "id": "33445bc2",
   "metadata": {},
   "outputs": [
    {
     "data": {
      "text/plain": [
       "False"
      ]
     },
     "execution_count": 35,
     "metadata": {},
     "output_type": "execute_result"
    }
   ],
   "source": [
    "s.istitle()"
   ]
  },
  {
   "cell_type": "code",
   "execution_count": 37,
   "id": "7db700aa",
   "metadata": {},
   "outputs": [],
   "source": [
    "#checks to see if s ends with something"
   ]
  },
  {
   "cell_type": "code",
   "execution_count": 38,
   "id": "2278bace",
   "metadata": {},
   "outputs": [
    {
     "data": {
      "text/plain": [
       "True"
      ]
     },
     "execution_count": 38,
     "metadata": {},
     "output_type": "execute_result"
    }
   ],
   "source": [
    "s.endswith('o')"
   ]
  },
  {
   "cell_type": "code",
   "execution_count": 39,
   "id": "a736ebf0",
   "metadata": {},
   "outputs": [],
   "source": [
    "#or you could do "
   ]
  },
  {
   "cell_type": "code",
   "execution_count": 40,
   "id": "5a88583f",
   "metadata": {},
   "outputs": [
    {
     "data": {
      "text/plain": [
       "True"
      ]
     },
     "execution_count": 40,
     "metadata": {},
     "output_type": "execute_result"
    }
   ],
   "source": [
    "s[-1]=='o'"
   ]
  },
  {
   "cell_type": "code",
   "execution_count": 41,
   "id": "bdd71d30",
   "metadata": {},
   "outputs": [],
   "source": [
    "#reuglar expressions opperations"
   ]
  },
  {
   "cell_type": "code",
   "execution_count": 42,
   "id": "3be5b152",
   "metadata": {},
   "outputs": [
    {
     "data": {
      "text/plain": [
       "'hello'"
      ]
     },
     "execution_count": 42,
     "metadata": {},
     "output_type": "execute_result"
    }
   ],
   "source": [
    "s\n"
   ]
  },
  {
   "cell_type": "code",
   "execution_count": 43,
   "id": "877fff43",
   "metadata": {},
   "outputs": [],
   "source": [
    "#how to split your string at something"
   ]
  },
  {
   "cell_type": "code",
   "execution_count": null,
   "id": "d8b19191",
   "metadata": {},
   "outputs": [],
   "source": []
  }
 ],
 "metadata": {
  "kernelspec": {
   "display_name": "Python 3 (ipykernel)",
   "language": "python",
   "name": "python3"
  },
  "language_info": {
   "codemirror_mode": {
    "name": "ipython",
    "version": 3
   },
   "file_extension": ".py",
   "mimetype": "text/x-python",
   "name": "python",
   "nbconvert_exporter": "python",
   "pygments_lexer": "ipython3",
   "version": "3.9.7"
  }
 },
 "nbformat": 4,
 "nbformat_minor": 5
}
