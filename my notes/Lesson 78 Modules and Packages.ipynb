{
 "cells": [
  {
   "cell_type": "code",
   "execution_count": 1,
   "id": "d5a70e80",
   "metadata": {},
   "outputs": [],
   "source": [
    "##modules are a .py script that you call in another .py script"
   ]
  },
  {
   "cell_type": "code",
   "execution_count": 2,
   "id": "2be8f4b0",
   "metadata": {},
   "outputs": [],
   "source": [
    "#packages are a collection of modules\n"
   ]
  },
  {
   "cell_type": "code",
   "execution_count": null,
   "id": "df90680c",
   "metadata": {},
   "outputs": [],
   "source": []
  }
 ],
 "metadata": {
  "kernelspec": {
   "display_name": "Python 3 (ipykernel)",
   "language": "python",
   "name": "python3"
  },
  "language_info": {
   "codemirror_mode": {
    "name": "ipython",
    "version": 3
   },
   "file_extension": ".py",
   "mimetype": "text/x-python",
   "name": "python",
   "nbconvert_exporter": "python",
   "pygments_lexer": "ipython3",
   "version": "3.9.7"
  }
 },
 "nbformat": 4,
 "nbformat_minor": 5
}
