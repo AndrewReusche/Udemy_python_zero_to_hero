{
 "cells": [
  {
   "cell_type": "code",
   "execution_count": 6,
   "id": "823351e9",
   "metadata": {},
   "outputs": [],
   "source": [
    "def name_of_function():\n",
    "    '''docstring explains the function'''\n",
    "    print(\"hello\")"
   ]
  },
  {
   "cell_type": "code",
   "execution_count": 7,
   "id": "8417dabe",
   "metadata": {},
   "outputs": [],
   "source": [
    "## should use snake_case when naming functions"
   ]
  },
  {
   "cell_type": "code",
   "execution_count": 7,
   "id": "25a43e2a",
   "metadata": {},
   "outputs": [
    {
     "name": "stdout",
     "output_type": "stream",
     "text": [
      "hello\n"
     ]
    }
   ],
   "source": [
    "name_of_function()"
   ]
  },
  {
   "cell_type": "code",
   "execution_count": 12,
   "id": "f151886c",
   "metadata": {},
   "outputs": [],
   "source": [
    "def name_of_function(name):\n",
    "    '''docstring explains the function'''\n",
    "    print(\"hello \"+ name)"
   ]
  },
  {
   "cell_type": "code",
   "execution_count": 13,
   "id": "22bb3eb0",
   "metadata": {},
   "outputs": [
    {
     "name": "stdout",
     "output_type": "stream",
     "text": [
      "hello Andrew\n"
     ]
    }
   ],
   "source": [
    "name_of_function(\"Andrew\")"
   ]
  },
  {
   "cell_type": "code",
   "execution_count": 14,
   "id": "ab83838e",
   "metadata": {},
   "outputs": [],
   "source": [
    "## return allows us to assign the output of a function to a variable"
   ]
  },
  {
   "cell_type": "code",
   "execution_count": 15,
   "id": "71fa8e1b",
   "metadata": {},
   "outputs": [],
   "source": [
    "def add_function(num1,num2):\n",
    "    return num1+num2"
   ]
  },
  {
   "cell_type": "code",
   "execution_count": 16,
   "id": "d76d56be",
   "metadata": {},
   "outputs": [],
   "source": [
    "result = add_function(1,2)"
   ]
  },
  {
   "cell_type": "code",
   "execution_count": 17,
   "id": "42b18622",
   "metadata": {},
   "outputs": [
    {
     "name": "stdout",
     "output_type": "stream",
     "text": [
      "3\n"
     ]
    }
   ],
   "source": [
    "print(result)"
   ]
  },
  {
   "cell_type": "code",
   "execution_count": null,
   "id": "e6afc2f0",
   "metadata": {},
   "outputs": [],
   "source": []
  }
 ],
 "metadata": {
  "kernelspec": {
   "display_name": "Python 3 (ipykernel)",
   "language": "python",
   "name": "python3"
  },
  "language_info": {
   "codemirror_mode": {
    "name": "ipython",
    "version": 3
   },
   "file_extension": ".py",
   "mimetype": "text/x-python",
   "name": "python",
   "nbconvert_exporter": "python",
   "pygments_lexer": "ipython3",
   "version": "3.9.7"
  }
 },
 "nbformat": 4,
 "nbformat_minor": 5
}
