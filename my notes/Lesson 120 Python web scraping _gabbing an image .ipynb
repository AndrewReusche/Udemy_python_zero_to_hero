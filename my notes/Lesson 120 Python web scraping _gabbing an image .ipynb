{
 "cells": [
  {
   "cell_type": "code",
   "execution_count": 1,
   "id": "34b52b0f",
   "metadata": {},
   "outputs": [],
   "source": [
    "import requests"
   ]
  },
  {
   "cell_type": "code",
   "execution_count": 2,
   "id": "8fb99264",
   "metadata": {},
   "outputs": [],
   "source": [
    "import bs4"
   ]
  },
  {
   "cell_type": "code",
   "execution_count": 4,
   "id": "6d42a279",
   "metadata": {},
   "outputs": [],
   "source": [
    "res = requests.get('https://en.wikipedia.org/wiki/Deep_Blue_(chess_computer)')"
   ]
  },
  {
   "cell_type": "code",
   "execution_count": 5,
   "id": "2b265f25",
   "metadata": {},
   "outputs": [],
   "source": [
    "soup = bs4.BeautifulSoup(res.text, 'lxml')"
   ]
  },
  {
   "cell_type": "code",
   "execution_count": 9,
   "id": "82366c9f",
   "metadata": {},
   "outputs": [],
   "source": [
    "# this will give us all images on the page (minus the [0] part)"
   ]
  },
  {
   "cell_type": "code",
   "execution_count": 8,
   "id": "a1861b76",
   "metadata": {},
   "outputs": [
    {
     "data": {
      "text/plain": [
       "<img alt=\"This is a good article. Click here for more information.\" data-file-height=\"185\" data-file-width=\"180\" decoding=\"async\" height=\"20\" src=\"//upload.wikimedia.org/wikipedia/en/thumb/9/94/Symbol_support_vote.svg/19px-Symbol_support_vote.svg.png\" srcset=\"//upload.wikimedia.org/wikipedia/en/thumb/9/94/Symbol_support_vote.svg/29px-Symbol_support_vote.svg.png 1.5x, //upload.wikimedia.org/wikipedia/en/thumb/9/94/Symbol_support_vote.svg/39px-Symbol_support_vote.svg.png 2x\" width=\"19\"/>"
      ]
     },
     "execution_count": 8,
     "metadata": {},
     "output_type": "execute_result"
    }
   ],
   "source": [
    "soup.select('img')[0]"
   ]
  },
  {
   "cell_type": "code",
   "execution_count": 10,
   "id": "7d8c263c",
   "metadata": {},
   "outputs": [],
   "source": [
    "#this will narrow it dow to only images in the actual article "
   ]
  },
  {
   "cell_type": "code",
   "execution_count": 13,
   "id": "d582223a",
   "metadata": {},
   "outputs": [
    {
     "data": {
      "text/plain": [
       "[<td class=\"infobox-image\" colspan=\"2\"><a class=\"image\" href=\"/wiki/File:Deep_Blue.jpg\"><img alt=\"Deep Blue.jpg\" data-file-height=\"601\" data-file-width=\"400\" decoding=\"async\" height=\"331\" src=\"//upload.wikimedia.org/wikipedia/commons/thumb/b/be/Deep_Blue.jpg/220px-Deep_Blue.jpg\" srcset=\"//upload.wikimedia.org/wikipedia/commons/thumb/b/be/Deep_Blue.jpg/330px-Deep_Blue.jpg 1.5x, //upload.wikimedia.org/wikipedia/commons/b/be/Deep_Blue.jpg 2x\" width=\"220\"/></a><div class=\"infobox-caption\">One of the two cabinets of Deep Blue in its exhibit at the <a href=\"/wiki/Computer_History_Museum\" title=\"Computer History Museum\">Computer History Museum</a>, California</div></td>]"
      ]
     },
     "execution_count": 13,
     "metadata": {},
     "output_type": "execute_result"
    }
   ],
   "source": [
    "soup.select('.infobox-image')"
   ]
  },
  {
   "cell_type": "code",
   "execution_count": 24,
   "id": "4db6d4eb",
   "metadata": {},
   "outputs": [],
   "source": [
    "computer = soup.select('.thumbimage')[0]"
   ]
  },
  {
   "cell_type": "code",
   "execution_count": 25,
   "id": "23fd22b5",
   "metadata": {},
   "outputs": [
    {
     "data": {
      "text/plain": [
       "bs4.element.Tag"
      ]
     },
     "execution_count": 25,
     "metadata": {},
     "output_type": "execute_result"
    }
   ],
   "source": [
    "type(computer)"
   ]
  },
  {
   "cell_type": "code",
   "execution_count": 27,
   "id": "c3ef02a8",
   "metadata": {},
   "outputs": [
    {
     "data": {
      "text/plain": [
       "'//upload.wikimedia.org/wikipedia/commons/thumb/6/6f/Kasparov_Magath_1985_Hamburg-2.png/220px-Kasparov_Magath_1985_Hamburg-2.png'"
      ]
     },
     "execution_count": 27,
     "metadata": {},
     "output_type": "execute_result"
    }
   ],
   "source": [
    "computer['src']"
   ]
  },
  {
   "cell_type": "code",
   "execution_count": 26,
   "id": "a7cb3bbf",
   "metadata": {},
   "outputs": [
    {
     "data": {
      "text/plain": [
       "<img alt=\"\" class=\"thumbimage\" data-file-height=\"600\" data-file-width=\"800\" decoding=\"async\" height=\"165\" src=\"//upload.wikimedia.org/wikipedia/commons/thumb/6/6f/Kasparov_Magath_1985_Hamburg-2.png/220px-Kasparov_Magath_1985_Hamburg-2.png\" srcset=\"//upload.wikimedia.org/wikipedia/commons/thumb/6/6f/Kasparov_Magath_1985_Hamburg-2.png/330px-Kasparov_Magath_1985_Hamburg-2.png 1.5x, //upload.wikimedia.org/wikipedia/commons/thumb/6/6f/Kasparov_Magath_1985_Hamburg-2.png/440px-Kasparov_Magath_1985_Hamburg-2.png 2x\" width=\"220\"/>"
      ]
     },
     "execution_count": 26,
     "metadata": {},
     "output_type": "execute_result"
    }
   ],
   "source": [
    "computer"
   ]
  },
  {
   "cell_type": "markdown",
   "id": "ba95ed21",
   "metadata": {},
   "source": [
    "<img\n",
    "src ='//upload.wikimedia.org/wikipedia/commons/thumb/6/6f/Kasparov_Magath_1985_Hamburg-2.png/220px-Kasparov_Magath_1985_Hamburg-2.png'"
   ]
  },
  {
   "cell_type": "markdown",
   "id": "cab169bc",
   "metadata": {},
   "source": [
    "<img \n",
    "     src = '//upload.wikimedia.org/wikipedia/commons/thumb/6/6f/Kasparov_Magath_1985_Hamburg-2.png/220px-Kasparov_Magath_1985_Hamburg-2.png'>"
   ]
  },
  {
   "cell_type": "code",
   "execution_count": 35,
   "id": "9ef59bbb",
   "metadata": {},
   "outputs": [],
   "source": [
    "image_link = requests.get(\"https://upload.wikimedia.org/wikipedia/commons/thumb/6/6f/Kasparov_Magath_1985_Hamburg-2.png/220px-Kasparov_Magath_1985_Hamburg-2.png\")"
   ]
  },
  {
   "cell_type": "code",
   "execution_count": 37,
   "id": "64c30d46",
   "metadata": {},
   "outputs": [],
   "source": [
    "# image_link.content"
   ]
  },
  {
   "cell_type": "code",
   "execution_count": 40,
   "id": "676f9eee",
   "metadata": {},
   "outputs": [],
   "source": [
    "f = open('my_computer_image.png', 'wb')"
   ]
  },
  {
   "cell_type": "code",
   "execution_count": 41,
   "id": "90842db1",
   "metadata": {},
   "outputs": [
    {
     "data": {
      "text/plain": [
       "85054"
      ]
     },
     "execution_count": 41,
     "metadata": {},
     "output_type": "execute_result"
    }
   ],
   "source": [
    "f.write(image_link.content)"
   ]
  },
  {
   "cell_type": "code",
   "execution_count": 43,
   "id": "0b93539d",
   "metadata": {},
   "outputs": [],
   "source": [
    "f.close()"
   ]
  },
  {
   "cell_type": "code",
   "execution_count": null,
   "id": "8b74e171",
   "metadata": {},
   "outputs": [],
   "source": []
  }
 ],
 "metadata": {
  "kernelspec": {
   "display_name": "Python 3 (ipykernel)",
   "language": "python",
   "name": "python3"
  },
  "language_info": {
   "codemirror_mode": {
    "name": "ipython",
    "version": 3
   },
   "file_extension": ".py",
   "mimetype": "text/x-python",
   "name": "python",
   "nbconvert_exporter": "python",
   "pygments_lexer": "ipython3",
   "version": "3.9.7"
  }
 },
 "nbformat": 4,
 "nbformat_minor": 5
}
