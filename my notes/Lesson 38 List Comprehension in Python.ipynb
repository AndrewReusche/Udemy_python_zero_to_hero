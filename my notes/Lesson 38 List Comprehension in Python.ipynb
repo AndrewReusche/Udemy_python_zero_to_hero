{
 "cells": [
  {
   "cell_type": "code",
   "execution_count": 1,
   "id": "85410e0d",
   "metadata": {},
   "outputs": [],
   "source": [
    "mystring ='hello'\n"
   ]
  },
  {
   "cell_type": "code",
   "execution_count": 2,
   "id": "c1042cec",
   "metadata": {},
   "outputs": [],
   "source": [
    "mylist =[]\n",
    "\n",
    "for letter in mystring:\n",
    "    mylist.append(letter);"
   ]
  },
  {
   "cell_type": "code",
   "execution_count": 3,
   "id": "a4d12150",
   "metadata": {},
   "outputs": [
    {
     "data": {
      "text/plain": [
       "['h', 'e', 'l', 'l', 'o']"
      ]
     },
     "execution_count": 3,
     "metadata": {},
     "output_type": "execute_result"
    }
   ],
   "source": [
    "mylist"
   ]
  },
  {
   "cell_type": "code",
   "execution_count": 4,
   "id": "8bdd35bb",
   "metadata": {},
   "outputs": [],
   "source": [
    "mylist =[letter for letter in mystring]"
   ]
  },
  {
   "cell_type": "code",
   "execution_count": 5,
   "id": "d7b4f5b2",
   "metadata": {},
   "outputs": [
    {
     "data": {
      "text/plain": [
       "['h', 'e', 'l', 'l', 'o']"
      ]
     },
     "execution_count": 5,
     "metadata": {},
     "output_type": "execute_result"
    }
   ],
   "source": [
    "mylist"
   ]
  },
  {
   "cell_type": "code",
   "execution_count": 6,
   "id": "4ad6dae1",
   "metadata": {},
   "outputs": [],
   "source": [
    "secondstring = 'JimmyBuckTimboLives'"
   ]
  },
  {
   "cell_type": "code",
   "execution_count": 8,
   "id": "f7e7aee7",
   "metadata": {},
   "outputs": [],
   "source": [
    "secondlist = [letter for letter in secondstring]"
   ]
  },
  {
   "cell_type": "code",
   "execution_count": 9,
   "id": "8bc70032",
   "metadata": {},
   "outputs": [
    {
     "data": {
      "text/plain": [
       "['J',\n",
       " 'i',\n",
       " 'm',\n",
       " 'm',\n",
       " 'y',\n",
       " 'B',\n",
       " 'u',\n",
       " 'c',\n",
       " 'k',\n",
       " 'T',\n",
       " 'i',\n",
       " 'm',\n",
       " 'b',\n",
       " 'o',\n",
       " 'L',\n",
       " 'i',\n",
       " 'v',\n",
       " 'e',\n",
       " 's']"
      ]
     },
     "execution_count": 9,
     "metadata": {},
     "output_type": "execute_result"
    }
   ],
   "source": [
    "secondlist"
   ]
  },
  {
   "cell_type": "code",
   "execution_count": 10,
   "id": "179ed845",
   "metadata": {},
   "outputs": [
    {
     "name": "stdout",
     "output_type": "stream",
     "text": [
      "['J', 'i', 'm', 'm', 'y', 'B', 'u', 'c', 'k', 'T', 'i', 'm', 'b', 'o', 'L', 'i', 'v', 'e', 's']\n"
     ]
    }
   ],
   "source": [
    "print(secondlist)"
   ]
  },
  {
   "cell_type": "code",
   "execution_count": 11,
   "id": "68e07178",
   "metadata": {},
   "outputs": [],
   "source": [
    "mylist = [x for x in 'word']\n"
   ]
  },
  {
   "cell_type": "code",
   "execution_count": 12,
   "id": "da532477",
   "metadata": {},
   "outputs": [
    {
     "data": {
      "text/plain": [
       "['w', 'o', 'r', 'd']"
      ]
     },
     "execution_count": 12,
     "metadata": {},
     "output_type": "execute_result"
    }
   ],
   "source": [
    "mylist"
   ]
  },
  {
   "cell_type": "code",
   "execution_count": 14,
   "id": "7f053925",
   "metadata": {},
   "outputs": [],
   "source": [
    "mylist = [x for x in range(0,11)]"
   ]
  },
  {
   "cell_type": "code",
   "execution_count": 15,
   "id": "73f46403",
   "metadata": {},
   "outputs": [
    {
     "data": {
      "text/plain": [
       "[0, 1, 2, 3, 4, 5, 6, 7, 8, 9, 10]"
      ]
     },
     "execution_count": 15,
     "metadata": {},
     "output_type": "execute_result"
    }
   ],
   "source": [
    "mylist"
   ]
  },
  {
   "cell_type": "code",
   "execution_count": 16,
   "id": "122f8a0d",
   "metadata": {},
   "outputs": [],
   "source": [
    "squarelist = [num**2 for num in range(0,11)]"
   ]
  },
  {
   "cell_type": "code",
   "execution_count": 17,
   "id": "8cd1a6bd",
   "metadata": {},
   "outputs": [
    {
     "data": {
      "text/plain": [
       "[0, 1, 4, 9, 16, 25, 36, 49, 64, 81, 100]"
      ]
     },
     "execution_count": 17,
     "metadata": {},
     "output_type": "execute_result"
    }
   ],
   "source": [
    "squarelist"
   ]
  },
  {
   "cell_type": "code",
   "execution_count": 18,
   "id": "9174bf75",
   "metadata": {},
   "outputs": [],
   "source": [
    "rootlist = [num**0.5 for num in range(0,11)]"
   ]
  },
  {
   "cell_type": "code",
   "execution_count": 19,
   "id": "6af176e2",
   "metadata": {},
   "outputs": [
    {
     "data": {
      "text/plain": [
       "[0.0,\n",
       " 1.0,\n",
       " 1.4142135623730951,\n",
       " 1.7320508075688772,\n",
       " 2.0,\n",
       " 2.23606797749979,\n",
       " 2.449489742783178,\n",
       " 2.6457513110645907,\n",
       " 2.8284271247461903,\n",
       " 3.0,\n",
       " 3.1622776601683795]"
      ]
     },
     "execution_count": 19,
     "metadata": {},
     "output_type": "execute_result"
    }
   ],
   "source": [
    "rootlist"
   ]
  },
  {
   "cell_type": "code",
   "execution_count": 20,
   "id": "53dc46ae",
   "metadata": {},
   "outputs": [],
   "source": [
    "evenlist = [x for x in range(0,11) if x%2==0]"
   ]
  },
  {
   "cell_type": "code",
   "execution_count": 21,
   "id": "7a9b7d91",
   "metadata": {},
   "outputs": [
    {
     "data": {
      "text/plain": [
       "[0, 2, 4, 6, 8, 10]"
      ]
     },
     "execution_count": 21,
     "metadata": {},
     "output_type": "execute_result"
    }
   ],
   "source": [
    "evenlist"
   ]
  },
  {
   "cell_type": "code",
   "execution_count": 23,
   "id": "784cf49f",
   "metadata": {},
   "outputs": [],
   "source": [
    "evensquaredlist = [x**2 for x in range(0,11) if x%2==0]"
   ]
  },
  {
   "cell_type": "code",
   "execution_count": 25,
   "id": "0f104b79",
   "metadata": {},
   "outputs": [
    {
     "data": {
      "text/plain": [
       "[0, 4, 16, 36, 64, 100]"
      ]
     },
     "execution_count": 25,
     "metadata": {},
     "output_type": "execute_result"
    }
   ],
   "source": [
    "evensquaredlist"
   ]
  },
  {
   "cell_type": "code",
   "execution_count": 26,
   "id": "814dca1d",
   "metadata": {},
   "outputs": [],
   "source": [
    "celcius = [0,10,20,34.5]\n",
    "\n",
    "fahrenheit = [((9/5)*temp + 32) for temp in celcius]"
   ]
  },
  {
   "cell_type": "code",
   "execution_count": 27,
   "id": "a353b10f",
   "metadata": {},
   "outputs": [
    {
     "data": {
      "text/plain": [
       "[32.0, 50.0, 68.0, 94.1]"
      ]
     },
     "execution_count": 27,
     "metadata": {},
     "output_type": "execute_result"
    }
   ],
   "source": [
    "fahrenheit"
   ]
  },
  {
   "cell_type": "code",
   "execution_count": 28,
   "id": "12481de0",
   "metadata": {},
   "outputs": [
    {
     "data": {
      "text/plain": [
       "<zip at 0x1e4f5501700>"
      ]
     },
     "execution_count": 28,
     "metadata": {},
     "output_type": "execute_result"
    }
   ],
   "source": [
    "zip(celcius,fahrenheit)"
   ]
  },
  {
   "cell_type": "code",
   "execution_count": 30,
   "id": "2c46b93c",
   "metadata": {},
   "outputs": [
    {
     "data": {
      "text/plain": [
       "[(0, 32.0), (10, 50.0), (20, 68.0), (34.5, 94.1)]"
      ]
     },
     "execution_count": 30,
     "metadata": {},
     "output_type": "execute_result"
    }
   ],
   "source": [
    "list(zip(celcius,fahrenheit))"
   ]
  },
  {
   "cell_type": "code",
   "execution_count": 33,
   "id": "7935593f",
   "metadata": {
    "scrolled": true
   },
   "outputs": [
    {
     "name": "stdout",
     "output_type": "stream",
     "text": [
      "the celcius temp 0 converted to fahrenheit equals 32.0\n",
      "the celcius temp 10 converted to fahrenheit equals 50.0\n",
      "the celcius temp 20 converted to fahrenheit equals 68.0\n",
      "the celcius temp 34.5 converted to fahrenheit equals 94.1\n"
     ]
    }
   ],
   "source": [
    "for (C,F) in zip(celcius,fahrenheit):\n",
    "    print('the celcius temp {} converted to fahrenheit equals {}' .format(C, F))"
   ]
  },
  {
   "cell_type": "code",
   "execution_count": 34,
   "id": "75ae5ecb",
   "metadata": {},
   "outputs": [],
   "source": [
    "results = [ x if x%2==0 else 'ODD' for x in range(0,11)]"
   ]
  },
  {
   "cell_type": "code",
   "execution_count": 35,
   "id": "9a120245",
   "metadata": {},
   "outputs": [
    {
     "data": {
      "text/plain": [
       "[0, 'ODD', 2, 'ODD', 4, 'ODD', 6, 'ODD', 8, 'ODD', 10]"
      ]
     },
     "execution_count": 35,
     "metadata": {},
     "output_type": "execute_result"
    }
   ],
   "source": [
    "results"
   ]
  },
  {
   "cell_type": "code",
   "execution_count": 36,
   "id": "5dac10b5",
   "metadata": {},
   "outputs": [],
   "source": [
    "## nested loop in list comprehension"
   ]
  },
  {
   "cell_type": "code",
   "execution_count": 40,
   "id": "5dc701b9",
   "metadata": {},
   "outputs": [],
   "source": [
    "mylist = []\n",
    "\n",
    "for x in [2,4,6]:\n",
    "    for y in [100,200,300]:\n",
    "        mylist.append(x*y);"
   ]
  },
  {
   "cell_type": "code",
   "execution_count": 41,
   "id": "1ad7902c",
   "metadata": {},
   "outputs": [
    {
     "data": {
      "text/plain": [
       "[200, 400, 600, 400, 800, 1200, 600, 1200, 1800]"
      ]
     },
     "execution_count": 41,
     "metadata": {},
     "output_type": "execute_result"
    }
   ],
   "source": [
    "mylist"
   ]
  },
  {
   "cell_type": "code",
   "execution_count": 42,
   "id": "3b0f15e3",
   "metadata": {},
   "outputs": [],
   "source": [
    "mylist = []\n",
    "\n",
    "for x in [2,4,6]:\n",
    "    for y in [1,10,1000]:\n",
    "        mylist.append(x*y);"
   ]
  },
  {
   "cell_type": "code",
   "execution_count": 43,
   "id": "0d7c0a5a",
   "metadata": {},
   "outputs": [
    {
     "data": {
      "text/plain": [
       "[2, 20, 2000, 4, 40, 4000, 6, 60, 6000]"
      ]
     },
     "execution_count": 43,
     "metadata": {},
     "output_type": "execute_result"
    }
   ],
   "source": [
    "mylist"
   ]
  },
  {
   "cell_type": "code",
   "execution_count": 44,
   "id": "52a2429a",
   "metadata": {},
   "outputs": [],
   "source": [
    "##now for the list comprehension version"
   ]
  },
  {
   "cell_type": "code",
   "execution_count": 45,
   "id": "87beea2d",
   "metadata": {},
   "outputs": [],
   "source": [
    "mylist = [x*y for x in [2,4,6] for y in [1,10,1000]]"
   ]
  },
  {
   "cell_type": "code",
   "execution_count": 46,
   "id": "788e8778",
   "metadata": {},
   "outputs": [
    {
     "data": {
      "text/plain": [
       "[2, 20, 2000, 4, 40, 4000, 6, 60, 6000]"
      ]
     },
     "execution_count": 46,
     "metadata": {},
     "output_type": "execute_result"
    }
   ],
   "source": [
    "mylist"
   ]
  },
  {
   "cell_type": "code",
   "execution_count": null,
   "id": "0be2d581",
   "metadata": {},
   "outputs": [],
   "source": []
  }
 ],
 "metadata": {
  "kernelspec": {
   "display_name": "Python 3 (ipykernel)",
   "language": "python",
   "name": "python3"
  },
  "language_info": {
   "codemirror_mode": {
    "name": "ipython",
    "version": 3
   },
   "file_extension": ".py",
   "mimetype": "text/x-python",
   "name": "python",
   "nbconvert_exporter": "python",
   "pygments_lexer": "ipython3",
   "version": "3.9.7"
  }
 },
 "nbformat": 4,
 "nbformat_minor": 5
}
